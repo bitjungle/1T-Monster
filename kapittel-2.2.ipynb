{
 "metadata": {
  "language_info": {
   "codemirror_mode": {
    "name": "ipython",
    "version": 3
   },
   "file_extension": ".py",
   "mimetype": "text/x-python",
   "name": "python",
   "nbconvert_exporter": "python",
   "pygments_lexer": "ipython3",
   "version": "3.8.6-final"
  },
  "orig_nbformat": 2,
  "kernelspec": {
   "name": "python3",
   "display_name": "Python 3.8.6 64-bit",
   "metadata": {
    "interpreter": {
     "hash": "aee8b7b246df8f9039afb4144a1f6fd8d2ca17a180786b69acc140d282b71a49"
    }
   }
  }
 },
 "nbformat": 4,
 "nbformat_minor": 2,
 "cells": [
  {
   "cell_type": "markdown",
   "metadata": {},
   "source": [
    "# Løsningsforslag til Mønster 1T (2020) - kapittel 2.2\n",
    "\n",
    "&nbsp;&nbsp;&nbsp;&nbsp;&nbsp;[&uparrow; Til kapitteloversikt &uparrow;](index.ipynb)\n",
    "\n",
    "[&larr; forrige kapittel](kapittel-2.1.ipynb) | [neste kapittel &rarr;](kapittel-2.3.ipynb)\n",
    "\n",
    "---\n",
    "\n",
    "Copyright &copy; BITJUNGLE Rune Mathisen<br>\n",
    "This code is licensed under a GPLv3 license<br> \n",
    "See http://www.gnu.org/licenses/gpl-3.0.html\n",
    "\n",
    "---"
   ]
  },
  {
   "cell_type": "code",
   "execution_count": 1,
   "metadata": {},
   "outputs": [],
   "source": [
    "# Importerer bibliotek jeg trenger til løsningsforslaga\n",
    "import sympy\n",
    "\n",
    "sympy.init_printing()"
   ]
  },
  {
   "cell_type": "markdown",
   "metadata": {},
   "source": [
    "# 2.8-76-459"
   ]
  },
  {
   "cell_type": "code",
   "execution_count": 2,
   "metadata": {
    "tags": []
   },
   "outputs": [
    {
     "output_type": "stream",
     "name": "stdout",
     "text": [
      "a)\n 2          \nx  + 2⋅x + 1\nb)\n 2           \nx  + 8⋅x + 16\nc)\n 2             \nx  + 20⋅x + 100\nd)\n   2          \n4⋅x  + 4⋅x + 1\n"
     ]
    }
   ],
   "source": [
    "x = sympy.symbols('x') # Den ukjente i alle uttrykkene nedenfor\n",
    "\n",
    "oppg_a = sympy.expand((x + 1)**2) # Regner ut\n",
    "print('a)')\n",
    "sympy.pprint(oppg_a)\n",
    "\n",
    "oppg_b = sympy.expand((x + 4)**2)\n",
    "print('b)')\n",
    "sympy.pprint(oppg_b)\n",
    "\n",
    "oppg_c = sympy.expand((x + 10)**2)\n",
    "print('c)')\n",
    "sympy.pprint(oppg_c)\n",
    "\n",
    "oppg_d = sympy.expand((2*x + 1)**2)\n",
    "print('d)')\n",
    "sympy.pprint(oppg_d)"
   ]
  },
  {
   "cell_type": "markdown",
   "metadata": {},
   "source": [
    "# 2.9-76-459"
   ]
  },
  {
   "cell_type": "code",
   "execution_count": 3,
   "metadata": {
    "tags": []
   },
   "outputs": [
    {
     "output_type": "stream",
     "name": "stdout",
     "text": [
      "a)\n 2          \nx  - 2⋅x + 1\nb)\n 2          \nx  - 4⋅x + 4\nc)\n 2            \nx  - 12⋅x + 36\nd)\n 2       1\nx  - x + ─\n         4\n"
     ]
    }
   ],
   "source": [
    "x = sympy.symbols('x') # Den ukjente i alle uttrykkene nedenfor\n",
    "\n",
    "oppg_a = sympy.expand((x - 1)**2) # Regner ut\n",
    "print('a)')\n",
    "sympy.pprint(oppg_a)\n",
    "\n",
    "oppg_b = sympy.expand((x - 2)**2)\n",
    "print('b)')\n",
    "sympy.pprint(oppg_b)\n",
    "\n",
    "oppg_c = sympy.expand((x - 6)**2)\n",
    "print('c)')\n",
    "sympy.pprint(oppg_c)\n",
    "\n",
    "oppg_d = sympy.expand((x - sympy.Rational(1, 2))**2)\n",
    "print('d)')\n",
    "sympy.pprint(oppg_d)"
   ]
  },
  {
   "cell_type": "markdown",
   "metadata": {},
   "source": [
    "# 2.10-76-459"
   ]
  },
  {
   "cell_type": "code",
   "execution_count": 4,
   "metadata": {
    "tags": []
   },
   "outputs": [
    {
     "output_type": "stream",
     "name": "stdout",
     "text": [
      "a)\nEr ikke en identitet\nx = 0\nb)\nEr en identitet\n<class 'sympy.logic.boolalg.BooleanTrue'>\nc)\nEr en identitet\n<class 'sympy.logic.boolalg.BooleanTrue'>\n"
     ]
    }
   ],
   "source": [
    "def identitet(eq):\n",
    "    '''Funksjon for å finne ut om input er av typen sympy.Eq'''\n",
    "    if not isinstance(eq, sympy.Eq):\n",
    "        print('Er en identitet')\n",
    "        print(type(eq))\n",
    "    else:\n",
    "        print('Er ikke en identitet')\n",
    "        sympy.pprint(eq)\n",
    "\n",
    "x = sympy.symbols('x')\n",
    "\n",
    "print('a)')\n",
    "oppg_a = sympy.Eq((x + 3)**2, x**2 + 9) # Skiller høyre og venstre side i likning med komma\n",
    "identitet(sympy.simplify(oppg_a))\n",
    "\n",
    "print('b)')\n",
    "oppg_b = sympy.Eq(x + 2, 5 + 2*x - 3 - x)\n",
    "identitet(sympy.simplify(oppg_b))\n",
    "\n",
    "a, b, h = sympy.symbols('a, b, h')\n",
    "\n",
    "print('c)')\n",
    "oppg_c = sympy.Eq((a + b)*h/2, h*b/2 +h*a/2)\n",
    "identitet(sympy.simplify(oppg_c))\n"
   ]
  },
  {
   "cell_type": "markdown",
   "metadata": {},
   "source": [
    "# 2.11-76-459"
   ]
  },
  {
   "cell_type": "code",
   "execution_count": 5,
   "metadata": {
    "tags": []
   },
   "outputs": [
    {
     "output_type": "stream",
     "name": "stdout",
     "text": [
      "a)\n       2\n(x + 2) \nb)\n       2\n(x - 1) \nc)\n       2\n(x + 5) \nd)\n(x - 6)⋅(x + 6)\n"
     ]
    }
   ],
   "source": [
    "x = sympy.symbols('x') # Den ukjente i alle uttrykkene nedenfor\n",
    "\n",
    "oppg_a = sympy.factor(x**2 + 4*x + 4) # Faktoriserer\n",
    "print('a)')\n",
    "sympy.pprint(oppg_a)\n",
    "\n",
    "oppg_b = sympy.factor(x**2 - 2*x + 1)\n",
    "print('b)')\n",
    "sympy.pprint(oppg_b)\n",
    "\n",
    "oppg_c = sympy.factor(x**2 + 10*x + 25)\n",
    "print('c)')\n",
    "sympy.pprint(oppg_c)\n",
    "\n",
    "oppg_d = sympy.factor(x**2 - 36)\n",
    "print('d)')\n",
    "sympy.pprint(oppg_d)\n"
   ]
  },
  {
   "cell_type": "markdown",
   "metadata": {},
   "source": [
    "# 2.12-76-459"
   ]
  },
  {
   "cell_type": "code",
   "execution_count": 6,
   "metadata": {
    "tags": []
   },
   "outputs": [
    {
     "output_type": "stream",
     "name": "stdout",
     "text": [
      "a)\n 2    \nx  - 1\nb)\n 2     \na  - 25\nc)\n      2\n16 - k \nd)\n 2     \nt  - 49\ne)\n 2   1\nx  - ─\n     4\nf)\n 2          \nt  + 4⋅t + 4\n"
     ]
    }
   ],
   "source": [
    "x, a, k, t = sympy.symbols('x, a, k, t') # De ukjente i alle uttrykkene nedenfor\n",
    "\n",
    "oppg_a = sympy.expand((x + 1)*(x - 1)) # Regner ut\n",
    "print('a)')\n",
    "sympy.pprint(oppg_a)\n",
    "\n",
    "oppg_b = sympy.expand((a + 5)*(a - 5))\n",
    "print('b)')\n",
    "sympy.pprint(oppg_b)\n",
    "\n",
    "oppg_c = sympy.expand((4 + k)*(4 - k))\n",
    "print('c)')\n",
    "sympy.pprint(oppg_c)\n",
    "\n",
    "oppg_d = sympy.expand((t + 7)*(t - 7))\n",
    "print('d)')\n",
    "sympy.pprint(oppg_d)\n",
    "\n",
    "oppg_e = sympy.expand((x + sympy.Rational(1, 2))*(x - sympy.Rational(1, 2)))\n",
    "print('e)')\n",
    "sympy.pprint(oppg_e)\n",
    "\n",
    "oppg_f = sympy.expand((2 + t)*(2 + t))\n",
    "print('f)')\n",
    "sympy.pprint(oppg_f)"
   ]
  },
  {
   "cell_type": "markdown",
   "metadata": {},
   "source": [
    "# 2.13-76-459"
   ]
  },
  {
   "cell_type": "code",
   "execution_count": 7,
   "metadata": {
    "tags": []
   },
   "outputs": [
    {
     "output_type": "stream",
     "name": "stdout",
     "text": [
      "a)\n(52*48) = (50 + 2)*(50 - 2) = 2496\nb)\n(105*95) = (100 + 5)*(100 - 5) = 9975\nc)\n(51*69) = (60 - 9)*(60 + 9) = 3519\n"
     ]
    }
   ],
   "source": [
    "print('a)')\n",
    "print('(52*48) = (50 + 2)*(50 - 2) =', (50 + 2)*(50 - 2))\n",
    "print('b)')\n",
    "print('(105*95) = (100 + 5)*(100 - 5) =', (100 + 5)*(100 - 5))\n",
    "print('c)')\n",
    "print('(51*69) = (60 - 9)*(60 + 9) =', (60 - 9)*(60 + 9))\n"
   ]
  }
 ]
}