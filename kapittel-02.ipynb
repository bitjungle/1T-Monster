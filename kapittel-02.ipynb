{
 "metadata": {
  "language_info": {
   "codemirror_mode": {
    "name": "ipython",
    "version": 3
   },
   "file_extension": ".py",
   "mimetype": "text/x-python",
   "name": "python",
   "nbconvert_exporter": "python",
   "pygments_lexer": "ipython3",
   "version": "3.8.5-final"
  },
  "orig_nbformat": 2,
  "kernelspec": {
   "name": "python_defaultSpec_1599458203406",
   "display_name": "Python 3.8.5 64-bit"
  }
 },
 "nbformat": 4,
 "nbformat_minor": 2,
 "cells": [
  {
   "cell_type": "markdown",
   "metadata": {},
   "source": [
    "# Løsningsforslag til Mønster 1T - kapittel 2\n",
    "Dette er løsningsforslag til oppgavene i boka Mønster matematikk 1T (Gyldendal, 2020). Alle løsningforslaga er laget i Python. Ikke fordi det nødvendigvis alltid er det mest hensiktsmessige verktøyet, men fordi jeg hadde lyst til å vise at det var mulig.\n",
    "\n",
    "I løsningforslaga har jeg lagt vekt på å skrive kode som (forhåpentligvis) er enkel å forstå. Dersom du har forslag til forbedring av løsningsforslaga, så husk at lesbarhet er viktigere enn effektiv og elegant programkode.\n",
    "\n",
    "Er du elev, og synes at noen av løsningsforslaga er vanskelig å forstå? Du har helt rett, flere av løsningsforslaga krever en del erfaring med programmering. Er du interessert nok, og jobber litt med programmering hver dag, så kommer forståelsen etterhvert.\n",
    "\n",
    "Det er bare oppgavene som er gitt etter hvert avsnitt i boka som er løst her. Jeg har ikke løst oppgavesamlingene som er på slutten av hvert kapittel. Overskriftene nedenfor viser til: oppgavenummer-sidenummer-fasitsidenummer. \n",
    "\n",
    "---\n",
    "\n",
    "Copyright (C) &copy; BITJUNGLE Rune Mathisen<br>\n",
    "This code is licensed under a GPLv3 license<br> \n",
    "See http://www.gnu.org/licenses/gpl-3.0.html\n",
    "\n",
    "---"
   ]
  },
  {
   "cell_type": "code",
   "execution_count": 3,
   "metadata": {},
   "outputs": [],
   "source": [
    "# Importerer bibliotek jeg trenger til løsningsforslaga\n",
    "import math\n",
    "import matplotlib.pyplot as plot\n",
    "import random\n",
    "import sympy\n",
    "\n",
    "sympy.init_printing()"
   ]
  },
  {
   "cell_type": "markdown",
   "metadata": {},
   "source": [
    "# 2.01-70-459"
   ]
  },
  {
   "cell_type": "code",
   "execution_count": 4,
   "metadata": {
    "tags": []
   },
   "outputs": [
    {
     "output_type": "stream",
     "name": "stdout",
     "text": "a)\nx= [3]\nb)\nx= [-3/2]\nc)\nx= [6]\nd)\nx= [3]\n"
    }
   ],
   "source": [
    "# Bruker Python-biblioteket 'sympy' for å løse likningene. \n",
    "# Det er enklere å løse likninga for hånd \n",
    "# eller eventuelt bruke Geogebra CAS.\n",
    "# Python er ikke så godt egna til symbolsk matematikk.\n",
    "\n",
    "x = sympy.symbols('x') # Den ukjente i alle likningene nedenfor\n",
    "\n",
    "print('a)')\n",
    "likning = sympy.Eq(3*x + 4, 16 - x) # Skiller høyre og venstre side i likning med komma\n",
    "svar = sympy.solve(likning)\n",
    "print('x=',svar) \n",
    "\n",
    "print('b)')\n",
    "likning = sympy.Eq(3 + 4*x, 6 + 8*x + 3)\n",
    "svar = sympy.solve(likning)\n",
    "print('x=',svar)\n",
    "\n",
    "print('c)')\n",
    "likning = sympy.Eq(x/2, 2*x - 9)\n",
    "svar = sympy.solve(likning)\n",
    "print('x=',svar)\n",
    "\n",
    "print('d)')\n",
    "likning = sympy.Eq((x + 3)/2, 9 - 2*x)\n",
    "svar = sympy.solve(likning)\n",
    "print('x=',svar)"
   ]
  },
  {
   "cell_type": "markdown",
   "metadata": {},
   "source": [
    "# 2.02-70-459"
   ]
  },
  {
   "cell_type": "code",
   "execution_count": 5,
   "metadata": {
    "tags": []
   },
   "outputs": [
    {
     "output_type": "stream",
     "name": "stdout",
     "text": "a)\nx= [5/2]\nb)\nx= [1]\nc)\nx= [0.750000000000000]\nd)\nx= [-4.50000000000000]\n"
    }
   ],
   "source": [
    "x = sympy.symbols('x') # Den ukjente i alle likningene nedenfor\n",
    "\n",
    "print('a)')\n",
    "likning = sympy.Eq(4*x + 4, 2*x + 9) # Skiller høyre og venstre side i likning med komma\n",
    "svar = sympy.solve(likning)\n",
    "print('x=',svar) \n",
    "\n",
    "print('b)')\n",
    "likning = sympy.Eq(5*x + 3*(x - 2), 2)\n",
    "svar = sympy.solve(likning)\n",
    "print('x=',svar)\n",
    "\n",
    "print('c)')\n",
    "likning = sympy.Eq(1/2, (2/3)*x)\n",
    "svar = sympy.solve(likning)\n",
    "print('x=',svar)\n",
    "\n",
    "print('d)')\n",
    "likning = sympy.Eq((2/3)*x - 2, x - (1/2))\n",
    "svar = sympy.solve(likning)\n",
    "print('x=',svar)"
   ]
  },
  {
   "cell_type": "markdown",
   "metadata": {},
   "source": [
    "# 2.03-70-459"
   ]
  },
  {
   "cell_type": "code",
   "execution_count": 6,
   "metadata": {
    "tags": []
   },
   "outputs": [
    {
     "output_type": "stream",
     "name": "stdout",
     "text": "{Benedicte: 14, Ole: 17}\n"
    }
   ],
   "source": [
    "o, b = sympy.symbols('Ole, Benedicte')\n",
    "# likning 1: Ole = Benedicte + 3\n",
    "u1 = o - b - 3\n",
    "# likning 2: Ole + Benedicte = 31\n",
    "u2 = o + b - 31\n",
    "svar = sympy.solve([u1, u2]) # Løser likningsystemet\n",
    "print(svar)"
   ]
  },
  {
   "cell_type": "markdown",
   "metadata": {},
   "source": [
    "# 2.04-70-459"
   ]
  },
  {
   "cell_type": "code",
   "execution_count": 7,
   "metadata": {
    "tags": []
   },
   "outputs": [
    {
     "output_type": "stream",
     "name": "stdout",
     "text": "{a: 140, b: 190, c: 70}\n"
    }
   ],
   "source": [
    "# Fra blokk-skissa vet jeg at:\n",
    "# a + b + c = 400\n",
    "# a = 2*c\n",
    "# b = a + 50\n",
    "# Da får jeg 2*a + 50 = 400\n",
    "a, b, c = sympy.symbols('a, b, c')\n",
    "u1 = sympy.Eq(a + b + c, 400)\n",
    "u2 = sympy.Eq(a, 2*c)\n",
    "u3 = sympy.Eq(b, a + 50)\n",
    "svar = sympy.solve([u1, u2, u3])\n",
    "print(svar)"
   ]
  },
  {
   "cell_type": "markdown",
   "metadata": {},
   "source": [
    "# 2.05-70-459"
   ]
  },
  {
   "cell_type": "code",
   "execution_count": 8,
   "metadata": {
    "tags": []
   },
   "outputs": [
    {
     "output_type": "stream",
     "name": "stdout",
     "text": "a)\nfotball + basketball + annet = x (antall elever totalt)\nfotball = x/4\nbasketball = x/3\nannet = 90\nx/4 + x/3 + 90 = x\nb)\n{annet: 90, basketball: 72, elever: 216, fotball: 54}\n"
    }
   ],
   "source": [
    "print('a)')\n",
    "print('fotball + basketball + annet = x (antall elever totalt)')\n",
    "print('fotball = x/4')\n",
    "print('basketball = x/3')\n",
    "print('annet = 90')\n",
    "print('x/4 + x/3 + 90 = x')\n",
    "\n",
    "print('b)')\n",
    "f, b, a, x = sympy.symbols('fotball, basketball, annet, elever')\n",
    "u1 = sympy.Eq(f + b + a, x)\n",
    "u2 = sympy.Eq(f, x/4)\n",
    "u3 = sympy.Eq(b, x/3)\n",
    "u4 = sympy.Eq(a, 90)\n",
    "svar = sympy.solve([u1, u2, u3, u4])\n",
    "print(svar)"
   ]
  },
  {
   "cell_type": "markdown",
   "metadata": {},
   "source": [
    "# 2.06-70-459"
   ]
  },
  {
   "cell_type": "code",
   "execution_count": 9,
   "metadata": {
    "tags": []
   },
   "outputs": [
    {
     "output_type": "stream",
     "name": "stdout",
     "text": "a)\npris = fullpris * (1 - alder/100)\nb)\nDu må betale 1820.0 kroner\n"
    }
   ],
   "source": [
    "print('a)')\n",
    "print('pris = fullpris * (1 - alder/100)')\n",
    "\n",
    "print('b)')\n",
    "alder = 35\n",
    "fullpris = 2800\n",
    "pris = fullpris * (1 - alder/100)\n",
    "print('Du må betale', pris, 'kroner')"
   ]
  },
  {
   "cell_type": "markdown",
   "metadata": {},
   "source": [
    "# 2.07-70-459"
   ]
  },
  {
   "cell_type": "code",
   "execution_count": 17,
   "metadata": {
    "tags": []
   },
   "outputs": [
    {
     "output_type": "stream",
     "name": "stdout",
     "text": "a)\nL = lønn\nK = sign-on-fee\nF = månedslønn\nM = antall mål\nb)\nF = (L - K) / (12 + 0.1*M) \nFast månedslønn var 167832.17 kroner.\n"
    }
   ],
   "source": [
    "print('a)')\n",
    "print('L = lønn')\n",
    "print('K = sign-on-fee')\n",
    "print('F = månedslønn')\n",
    "print('M = antall mål')\n",
    "\n",
    "print('b)')\n",
    "print('F = (L - K) / (12 + 0.1*M) ')\n",
    "L = 3000000\n",
    "K = 600000\n",
    "M = 23\n",
    "F = (L - K) / (12 + 0.1*M)\n",
    "print('Fast månedslønn var', round(F, 2), 'kroner.')"
   ]
  },
  {
   "cell_type": "code",
   "execution_count": null,
   "metadata": {},
   "outputs": [],
   "source": []
  }
 ]
}