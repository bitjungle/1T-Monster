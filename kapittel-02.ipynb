{
 "metadata": {
  "language_info": {
   "codemirror_mode": {
    "name": "ipython",
    "version": 3
   },
   "file_extension": ".py",
   "mimetype": "text/x-python",
   "name": "python",
   "nbconvert_exporter": "python",
   "pygments_lexer": "ipython3",
   "version": 3
  },
  "orig_nbformat": 2,
  "kernelspec": {
   "name": "python_defaultSpec_1597230755623",
   "display_name": "Python 3.8.5 64-bit"
  }
 },
 "nbformat": 4,
 "nbformat_minor": 2,
 "cells": [
  {
   "cell_type": "markdown",
   "metadata": {},
   "source": [
    "# Løsningsforslag til Mønster 1T - kapittel 2\n",
    "Dette er løsningsforslag til oppgavene i boka Mønster matematikk 1T (Gyldendal, 2020). Alle løsningforslaga er laget i Python. Ikke fordi det nødvendigvis alltid er det mest hensiktsmessige verktøyet, men fordi jeg hadde lyst til å vise at det var mulig.\n",
    "\n",
    "I løsningforslaga har jeg lagt vekt på å skrive kode som (forhåpentligvis) er enkel å forstå. Dersom du har forslag til forbedring av løsningsforslaga, så husk at lesbarhet er viktigere enn effektiv og elegant programkode.\n",
    "\n",
    "Er du elev, og synes at noen av løsningsforslaga er vanskelig å forstå? Du har helt rett, flere av løsningsforslaga krever en del erfaring med programmering. Er du interessert nok, og jobber litt med programmering hver dag, så kommer forståelsen etterhvert.\n",
    "\n",
    "Det er bare oppgavene som er gitt etter hvert avsnitt i boka som er løst her. Jeg har ikke løst oppgavesamlingene som er på slutten av hvert kapittel. Overskriftene nedenfor viser til: oppgavenummer-sidenummer-fasitsidenummer. \n",
    "\n",
    "---\n",
    "\n",
    "Copyright (C) &copy; BITJUNGLE Rune Mathisen<br>\n",
    "This code is licensed under a GPLv3 license<br> \n",
    "See http://www.gnu.org/licenses/gpl-3.0.html\n",
    "\n",
    "---"
   ]
  },
  {
   "cell_type": "code",
   "execution_count": 1,
   "metadata": {},
   "outputs": [],
   "source": [
    "# Importerer bibliotek jeg trenger til løsningsforslaga\n",
    "import sympy\n",
    "import math\n",
    "import matplotlib.pyplot as plot\n",
    "import random\n",
    "\n",
    "sympy.init_printing()"
   ]
  },
  {
   "cell_type": "markdown",
   "metadata": {},
   "source": [
    "# 2.01-70-459"
   ]
  },
  {
   "cell_type": "code",
   "execution_count": 10,
   "metadata": {
    "tags": []
   },
   "outputs": [
    {
     "output_type": "stream",
     "name": "stdout",
     "text": "a)\nx= [3]\nb)\nx= [-3/2]\nc)\nx= [6]\nd)\nx= [3]\n"
    }
   ],
   "source": [
    "x = sympy.symbols('x') # Den ukjente i alle likningene nedenfor\n",
    "\n",
    "print('a)')\n",
    "likning = sympy.Eq(3*x + 4, 16 - x) # Skiller høyre og venstre side i likning med komma\n",
    "svar = sympy.solve(likning)\n",
    "print('x=',svar) \n",
    "\n",
    "print('b)')\n",
    "likning = sympy.Eq(3 + 4*x, 6 + 8*x + 3)\n",
    "svar = sympy.solve(likning)\n",
    "print('x=',svar)\n",
    "\n",
    "print('c)')\n",
    "likning = sympy.Eq(x/2, 2*x - 9)\n",
    "svar = sympy.solve(likning)\n",
    "print('x=',svar)\n",
    "\n",
    "print('d)')\n",
    "likning = sympy.Eq((x + 3)/2, 9 - 2*x)\n",
    "svar = sympy.solve(likning)\n",
    "print('x=',svar)"
   ]
  },
  {
   "cell_type": "code",
   "execution_count": null,
   "metadata": {},
   "outputs": [],
   "source": []
  }
 ]
}