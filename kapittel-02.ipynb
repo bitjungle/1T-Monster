{
 "metadata": {
  "language_info": {
   "codemirror_mode": {
    "name": "ipython",
    "version": 3
   },
   "file_extension": ".py",
   "mimetype": "text/x-python",
   "name": "python",
   "nbconvert_exporter": "python",
   "pygments_lexer": "ipython3",
   "version": "3.8.5-final"
  },
  "orig_nbformat": 2,
  "kernelspec": {
   "name": "python_defaultSpec_1599465171596",
   "display_name": "Python 3.8.5 64-bit"
  }
 },
 "nbformat": 4,
 "nbformat_minor": 2,
 "cells": [
  {
   "cell_type": "markdown",
   "metadata": {},
   "source": [
    "# Løsningsforslag til Mønster 1T - kapittel 2\n",
    "Dette er løsningsforslag til oppgavene i boka Mønster matematikk 1T (Gyldendal, 2020). Alle løsningforslaga er laget i Python. Ikke fordi det nødvendigvis alltid er det mest hensiktsmessige verktøyet, men fordi jeg hadde lyst til å vise at det var mulig.\n",
    "\n",
    "I løsningforslaga har jeg lagt vekt på å skrive kode som (forhåpentligvis) er enkel å forstå. Dersom du har forslag til forbedring av løsningsforslaga, så husk at lesbarhet er viktigere enn effektiv og elegant programkode.\n",
    "\n",
    "Er du elev, og synes at noen av løsningsforslaga er vanskelig å forstå? Du har helt rett, flere av løsningsforslaga krever en del erfaring med programmering. Er du interessert nok, og jobber litt med programmering hver dag, så kommer forståelsen etterhvert.\n",
    "\n",
    "Det er bare oppgavene som er gitt etter hvert avsnitt i boka som er løst her. Jeg har ikke løst oppgavesamlingene som er på slutten av hvert kapittel. Overskriftene nedenfor viser til: oppgavenummer-sidenummer-fasitsidenummer. \n",
    "\n",
    "---\n",
    "\n",
    "Copyright (C) &copy; BITJUNGLE Rune Mathisen<br>\n",
    "This code is licensed under a GPLv3 license<br> \n",
    "See http://www.gnu.org/licenses/gpl-3.0.html\n",
    "\n",
    "---"
   ]
  },
  {
   "cell_type": "code",
   "execution_count": 62,
   "metadata": {},
   "outputs": [],
   "source": [
    "# Importerer bibliotek jeg trenger til løsningsforslaga\n",
    "import math\n",
    "import matplotlib.pyplot as plot\n",
    "import random\n",
    "import sympy\n",
    "\n",
    "sympy.init_printing()"
   ]
  },
  {
   "cell_type": "markdown",
   "metadata": {},
   "source": [
    "# 2.01-70-459"
   ]
  },
  {
   "cell_type": "code",
   "execution_count": 85,
   "metadata": {
    "tags": []
   },
   "outputs": [
    {
     "output_type": "stream",
     "name": "stdout",
     "text": "a)\nx= 3\nb)\nx= -3/2\nc)\nx= 6\nd)\nx= 3\n"
    }
   ],
   "source": [
    "# Bruker Python-biblioteket 'sympy' for å løse likningene. \n",
    "# Det er enklere å løse likninga for hånd \n",
    "# eller eventuelt bruke Geogebra CAS.\n",
    "# Python er ikke så godt egna til symbolsk matematikk.\n",
    "\n",
    "x = sympy.symbols('x') # Den ukjente i alle likningene nedenfor\n",
    "\n",
    "print('a)')\n",
    "likning = sympy.Eq(3*x + 4, 16 - x) # Skiller høyre og venstre side i likning med komma\n",
    "svar = sympy.solve(likning)\n",
    "print('x=',svar[0]) \n",
    "\n",
    "print('b)')\n",
    "likning = sympy.Eq(3 + 4*x, 6 + 8*x + 3)\n",
    "svar = sympy.solve(likning)\n",
    "print('x=',svar[0])\n",
    "\n",
    "print('c)')\n",
    "likning = sympy.Eq(x/2, 2*x - 9)\n",
    "svar = sympy.solve(likning)\n",
    "print('x=',svar[0])\n",
    "\n",
    "print('d)')\n",
    "likning = sympy.Eq((x + 3)/2, 9 - 2*x)\n",
    "svar = sympy.solve(likning)\n",
    "print('x=',svar[0])"
   ]
  },
  {
   "cell_type": "markdown",
   "metadata": {},
   "source": [
    "# 2.02-70-459"
   ]
  },
  {
   "cell_type": "code",
   "execution_count": 87,
   "metadata": {
    "tags": []
   },
   "outputs": [
    {
     "output_type": "stream",
     "name": "stdout",
     "text": "a)\nx= 5/2\nb)\nx= 1\nc)\nx= 3/4\nd)\nx= -9/2\n"
    }
   ],
   "source": [
    "x = sympy.symbols('x') # Den ukjente i alle likningene nedenfor\n",
    "\n",
    "print('a)')\n",
    "likning = sympy.Eq(4*x + 4, 2*x + 9) # Skiller høyre og venstre side i likning med komma\n",
    "svar = sympy.solve(likning)\n",
    "print('x=',svar[0]) \n",
    "\n",
    "print('b)')\n",
    "likning = sympy.Eq(5*x + 3*(x - 2), 2)\n",
    "svar = sympy.solve(likning)\n",
    "print('x=',svar[0])\n",
    "\n",
    "print('c)')\n",
    "likning = sympy.Eq(sympy.Rational(1, 2), sympy.Rational(2, 3)*x)\n",
    "svar = sympy.solve(likning)\n",
    "print('x=',svar[0])\n",
    "\n",
    "print('d)')\n",
    "likning = sympy.Eq(sympy.Rational(2, 3)*x - 2, x - sympy.Rational(1, 2))\n",
    "svar = sympy.solve(likning)\n",
    "print('x=',svar[0])"
   ]
  },
  {
   "cell_type": "markdown",
   "metadata": {},
   "source": [
    "# 2.03-70-459"
   ]
  },
  {
   "cell_type": "code",
   "execution_count": 65,
   "metadata": {
    "tags": []
   },
   "outputs": [
    {
     "output_type": "stream",
     "name": "stdout",
     "text": "{Benedicte: 14, Ole: 17}\n"
    }
   ],
   "source": [
    "o, b = sympy.symbols('Ole, Benedicte')\n",
    "# likning 1: Ole = Benedicte + 3\n",
    "u1 = o - b - 3\n",
    "# likning 2: Ole + Benedicte = 31\n",
    "u2 = o + b - 31\n",
    "svar = sympy.solve([u1, u2]) # Løser likningsystemet\n",
    "print(svar)"
   ]
  },
  {
   "cell_type": "markdown",
   "metadata": {},
   "source": [
    "# 2.04-70-459"
   ]
  },
  {
   "cell_type": "code",
   "execution_count": 66,
   "metadata": {
    "tags": []
   },
   "outputs": [
    {
     "output_type": "stream",
     "name": "stdout",
     "text": "{a: 140, b: 190, c: 70}\n"
    }
   ],
   "source": [
    "# Fra blokk-skissa vet jeg at:\n",
    "# a + b + c = 400\n",
    "# a = 2*c\n",
    "# b = a + 50\n",
    "# Da får jeg 2*a + 50 = 400\n",
    "a, b, c = sympy.symbols('a, b, c')\n",
    "u1 = sympy.Eq(a + b + c, 400)\n",
    "u2 = sympy.Eq(a, 2*c)\n",
    "u3 = sympy.Eq(b, a + 50)\n",
    "svar = sympy.solve([u1, u2, u3])\n",
    "print(svar)"
   ]
  },
  {
   "cell_type": "markdown",
   "metadata": {},
   "source": [
    "# 2.05-70-459"
   ]
  },
  {
   "cell_type": "code",
   "execution_count": 67,
   "metadata": {
    "tags": []
   },
   "outputs": [
    {
     "output_type": "stream",
     "name": "stdout",
     "text": "a)\nfotball + basketball + annet = x (antall elever totalt)\nfotball = x/4\nbasketball = x/3\nannet = 90\nx/4 + x/3 + 90 = x\nb)\n{annet: 90, basketball: 72, elever: 216, fotball: 54}\n"
    }
   ],
   "source": [
    "print('a)')\n",
    "print('fotball + basketball + annet = x (antall elever totalt)')\n",
    "print('fotball = x/4')\n",
    "print('basketball = x/3')\n",
    "print('annet = 90')\n",
    "print('x/4 + x/3 + 90 = x')\n",
    "\n",
    "print('b)')\n",
    "f, b, a, x = sympy.symbols('fotball, basketball, annet, elever')\n",
    "u1 = sympy.Eq(f + b + a, x)\n",
    "u2 = sympy.Eq(f, x/4)\n",
    "u3 = sympy.Eq(b, x/3)\n",
    "u4 = sympy.Eq(a, 90)\n",
    "svar = sympy.solve([u1, u2, u3, u4])\n",
    "print(svar)"
   ]
  },
  {
   "cell_type": "markdown",
   "metadata": {},
   "source": [
    "# 2.06-70-459"
   ]
  },
  {
   "cell_type": "code",
   "execution_count": 68,
   "metadata": {
    "tags": []
   },
   "outputs": [
    {
     "output_type": "stream",
     "name": "stdout",
     "text": "a)\npris = fullpris * (1 - alder/100)\nb)\nDu må betale 1820.0 kroner\n"
    }
   ],
   "source": [
    "print('a)')\n",
    "print('pris = fullpris * (1 - alder/100)')\n",
    "\n",
    "print('b)')\n",
    "alder = 35\n",
    "fullpris = 2800\n",
    "pris = fullpris * (1 - alder/100)\n",
    "print('Du må betale', pris, 'kroner')"
   ]
  },
  {
   "cell_type": "markdown",
   "metadata": {},
   "source": [
    "# 2.07-70-459"
   ]
  },
  {
   "cell_type": "code",
   "execution_count": 69,
   "metadata": {
    "tags": []
   },
   "outputs": [
    {
     "output_type": "stream",
     "name": "stdout",
     "text": "a)\nL = lønn\nK = sign-on-fee\nF = månedslønn\nM = antall mål\nb)\nF = (L - K) / (12 + 0.1*M) \nFast månedslønn var 167832.17 kroner.\n"
    }
   ],
   "source": [
    "print('a)')\n",
    "print('L = lønn')\n",
    "print('K = sign-on-fee')\n",
    "print('F = månedslønn')\n",
    "print('M = antall mål')\n",
    "\n",
    "print('b)')\n",
    "print('F = (L - K) / (12 + 0.1*M) ')\n",
    "L = 3000000\n",
    "K = 600000\n",
    "M = 23\n",
    "F = (L - K) / (12 + 0.1*M)\n",
    "print('Fast månedslønn var', round(F, 2), 'kroner.')"
   ]
  },
  {
   "cell_type": "markdown",
   "metadata": {},
   "source": [
    "# 2.08-76-459"
   ]
  },
  {
   "cell_type": "code",
   "execution_count": 70,
   "metadata": {
    "tags": []
   },
   "outputs": [
    {
     "output_type": "stream",
     "name": "stdout",
     "text": "a)\n 2          \nx  + 2⋅x + 1\nb)\n 2           \nx  + 8⋅x + 16\nc)\n 2             \nx  + 20⋅x + 100\nd)\n   2          \n4⋅x  + 4⋅x + 1\n"
    }
   ],
   "source": [
    "x = sympy.symbols('x')\n",
    "a = sympy.expand((x + 1)**2)\n",
    "print('a)')\n",
    "sympy.pprint(a)\n",
    "b = sympy.expand((x + 4)**2)\n",
    "print('b)')\n",
    "sympy.pprint(b)\n",
    "c = sympy.expand((x + 10)**2)\n",
    "print('c)')\n",
    "sympy.pprint(c)\n",
    "d = sympy.expand((2*x + 1)**2)\n",
    "print('d)')\n",
    "sympy.pprint(d)"
   ]
  },
  {
   "cell_type": "markdown",
   "metadata": {},
   "source": [
    "# 2.09-76-459"
   ]
  },
  {
   "cell_type": "code",
   "execution_count": 71,
   "metadata": {
    "tags": []
   },
   "outputs": [
    {
     "output_type": "stream",
     "name": "stdout",
     "text": "a)\n 2          \nx  - 2⋅x + 1\nb)\n 2          \nx  - 4⋅x + 4\nc)\n 2            \nx  - 12⋅x + 36\nd)\n 2       1\nx  - x + ─\n         4\n"
    }
   ],
   "source": [
    "x = sympy.symbols('x')\n",
    "\n",
    "a = sympy.expand((x - 1)**2)\n",
    "print('a)')\n",
    "sympy.pprint(a)\n",
    "\n",
    "b = sympy.expand((x - 2)**2)\n",
    "print('b)')\n",
    "sympy.pprint(b)\n",
    "\n",
    "c = sympy.expand((x - 6)**2)\n",
    "print('c)')\n",
    "sympy.pprint(c)\n",
    "\n",
    "d = sympy.expand((x - sympy.Rational(1, 2))**2)\n",
    "print('d)')\n",
    "sympy.pprint(d)"
   ]
  },
  {
   "cell_type": "markdown",
   "metadata": {},
   "source": [
    "# 2.10-76-459"
   ]
  },
  {
   "cell_type": "code",
   "execution_count": 79,
   "metadata": {
    "tags": []
   },
   "outputs": [
    {
     "output_type": "stream",
     "name": "stdout",
     "text": "a)\nEr ikke en identitet\nx = 0\nb)\nEr en identitet\nc)\nEr en identitet\n"
    }
   ],
   "source": [
    "def identitet(eq):\n",
    "    if not isinstance(eq, sympy.Eq):\n",
    "        print('Er en identitet')\n",
    "    else:\n",
    "        print('Er ikke en identitet')\n",
    "        sympy.pprint(eq)\n",
    "\n",
    "x = sympy.symbols('x')\n",
    "\n",
    "print('a)')\n",
    "a = sympy.Eq((x + 3)**2, x**2 + 9)\n",
    "identitet(sympy.simplify(a))\n",
    "\n",
    "print('b)')\n",
    "b = sympy.Eq(x + 2, 5 + 2*x - 3 - x)\n",
    "identitet(sympy.simplify(b))\n",
    "\n",
    "a, b, h = sympy.symbols('a, b, h')\n",
    "\n",
    "print('c)')\n",
    "c = sympy.Eq((a + b)*h/2, h*b/2 +h*a/2)\n",
    "identitet(sympy.simplify(c))\n"
   ]
  },
  {
   "cell_type": "markdown",
   "metadata": {},
   "source": [
    "# 2.11-76-459"
   ]
  },
  {
   "cell_type": "code",
   "execution_count": 81,
   "metadata": {
    "tags": []
   },
   "outputs": [
    {
     "output_type": "stream",
     "name": "stdout",
     "text": "a)\n       2\n(x + 2) \nb)\n       2\n(x - 1) \nc)\n       2\n(x + 5) \nd)\n(x - 6)⋅(x + 6)\n"
    }
   ],
   "source": [
    "x = sympy.symbols('x')\n",
    "\n",
    "a = sympy.factor(x**2 + 4*x + 4)\n",
    "print('a)')\n",
    "sympy.pprint(a)\n",
    "\n",
    "b = sympy.factor(x**2 - 2*x + 1)\n",
    "print('b)')\n",
    "sympy.pprint(b)\n",
    "\n",
    "c = sympy.factor(x**2 + 10*x + 25)\n",
    "print('c)')\n",
    "sympy.pprint(c)\n",
    "\n",
    "d = sympy.factor(x**2 - 36)\n",
    "print('d)')\n",
    "sympy.pprint(d)\n"
   ]
  },
  {
   "cell_type": "markdown",
   "metadata": {},
   "source": [
    "# 2.12-76-459"
   ]
  },
  {
   "cell_type": "code",
   "execution_count": 83,
   "metadata": {
    "tags": []
   },
   "outputs": [
    {
     "output_type": "stream",
     "name": "stdout",
     "text": "a)\n 2    \nx  - 1\nb)\n 4      2     \nx  - 2⋅x  - 24\nc)\n      2\n16 - k \nd)\n 2     \nt  - 49\ne)\n 2   1\nx  - ─\n     4\nf)\n 2          \nt  + 4⋅t + 4\n"
    }
   ],
   "source": [
    "x, a, k, t = sympy.symbols('x, a, k, t')\n",
    "\n",
    "a = sympy.expand((x + 1)*(x - 1))\n",
    "print('a)')\n",
    "sympy.pprint(a)\n",
    "\n",
    "b = sympy.expand((a + 5)*(a - 5))\n",
    "print('b)')\n",
    "sympy.pprint(b)\n",
    "\n",
    "c = sympy.expand((4 + k)*(4 - k))\n",
    "print('c)')\n",
    "sympy.pprint(c)\n",
    "\n",
    "d = sympy.expand((t + 7)*(t - 7))\n",
    "print('d)')\n",
    "sympy.pprint(d)\n",
    "\n",
    "e = sympy.expand((x + sympy.Rational(1, 2))*(x - sympy.Rational(1, 2)))\n",
    "print('e)')\n",
    "sympy.pprint(e)\n",
    "\n",
    "f = sympy.expand((2 + t)*(2 + t))\n",
    "print('f)')\n",
    "sympy.pprint(f)"
   ]
  },
  {
   "cell_type": "markdown",
   "metadata": {},
   "source": [
    "# 2.13-76-459"
   ]
  },
  {
   "cell_type": "code",
   "execution_count": 84,
   "metadata": {
    "tags": []
   },
   "outputs": [
    {
     "output_type": "stream",
     "name": "stdout",
     "text": "a)\n2496\nb)\n9975\nc)\n3519\n"
    }
   ],
   "source": [
    "print('a)')\n",
    "print((50 + 2)*(50 - 2))\n",
    "print('b)')\n",
    "print((100 + 5)*(100 - 5))\n",
    "print('c)')\n",
    "print((60 - 9)*(60 + 9))\n"
   ]
  },
  {
   "cell_type": "code",
   "execution_count": null,
   "metadata": {},
   "outputs": [],
   "source": []
  }
 ]
}