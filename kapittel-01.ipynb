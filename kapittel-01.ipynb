{
 "cells": [
  {
   "cell_type": "markdown",
   "metadata": {},
   "source": [
    "# Løsningsforslag til Mønster 1T - kapittel 1\n",
    "Dette er løsningsforslag til oppgavene i boka Mønster matematikk 1T (Gyldendal, 2020). Alle løsningforslaga er laget i Python. Ikke fordi det nødvendigvis alltid er det mest hensiktsmessige verktøyet, men fordi jeg hadde lyst til å vise at det var mulig.\n",
    "\n",
    "I løsningforslaga har jeg lagt vekt på å skrive kode som (forhåpentligvis) er enkel å forstå. Dersom du har forslag til forbedring av løsningsforslaga, så husk at lesbarhet er viktigere enn effektiv og elegant programkode.\n",
    "\n",
    "Er du elev, og synes at noen av løsningsforslaga er vanskelig å forstå? Du har helt rett, flere av løsningsforslaga krever en del erfaring med programmering. Er du interessert nok, og jobber litt med programmering hver dag, så kommer forståelsen etterhvert.\n",
    "\n",
    "Overskriftene nedenfor viser til: oppgavenummer-sidenummer-fasitsidenummer. \n",
    "\n",
    "---\n",
    "\n",
    "Copyright (C) &copy; BITJUNGLE Rune Mathisen<br>\n",
    "This code is licensed under a GPLv3 license<br> \n",
    "See http://www.gnu.org/licenses/gpl-3.0.html\n",
    "\n",
    "---"
   ]
  },
  {
   "cell_type": "code",
   "execution_count": 1,
   "metadata": {
    "tags": []
   },
   "outputs": [],
   "source": [
    "# Importerer bibliotek jeg trenger til løsningsforslaget\n",
    "import sympy\n",
    "import math\n",
    "import matplotlib.pyplot as plot\n",
    "\n",
    "sympy.init_printing()"
   ]
  },
  {
   "cell_type": "markdown",
   "metadata": {},
   "source": [
    "# 1.01-16-454"
   ]
  },
  {
   "cell_type": "code",
   "execution_count": 2,
   "metadata": {
    "tags": []
   },
   "outputs": [
    {
     "output_type": "stream",
     "name": "stdout",
     "text": "a)\n23*42 = 966\nb)\n187/8 = 23.375\nc)\n195/11 = 17.727272727272727\nd)\n243/21 = 11.571428571428571\n"
    }
   ],
   "source": [
    "print(\"a)\")\n",
    "print(\"23*42 =\", 23*42)\n",
    "print(\"b)\")\n",
    "print(\"187/8 =\", 187/8)\n",
    "print(\"c)\")\n",
    "print(\"195/11 =\", 195/11)\n",
    "print(\"d)\")\n",
    "print(\"243/21 =\", 243/21)"
   ]
  },
  {
   "cell_type": "markdown",
   "metadata": {},
   "source": [
    "# 1.02-16-454"
   ]
  },
  {
   "cell_type": "code",
   "execution_count": 3,
   "metadata": {
    "tags": []
   },
   "outputs": [
    {
     "output_type": "stream",
     "name": "stdout",
     "text": "a)\n5*3 + 2*3**2 = 33\nb)\n(-3)**2 + 2*(-1) = 7\nc)\n5 - (3**2 + 1)**2 = -95\nd)\n6*(3 - 2)*(4 - 3**2) = -30\n"
    }
   ],
   "source": [
    "print(\"a)\")\n",
    "print(\"5*3 + 2*3**2 =\", 5*3 + 2*3**2)\n",
    "print(\"b)\")\n",
    "print(\"(-3)**2 + 2*(-1) =\", (-3)**2 + 2*(-1))\n",
    "print(\"c)\")\n",
    "print(\"5 - (3**2 + 1)**2 =\", 5 - (3**2 + 1)**2)\n",
    "print(\"d)\")\n",
    "print(\"6*(3 - 2)*(4 - 3**2) =\", 6*(3 - 2)*(4 - 3**2))"
   ]
  },
  {
   "cell_type": "markdown",
   "metadata": {},
   "source": [
    "# 1.03-16-454"
   ]
  },
  {
   "cell_type": "code",
   "execution_count": 4,
   "metadata": {
    "tags": []
   },
   "outputs": [
    {
     "output_type": "stream",
     "name": "stdout",
     "text": "a)\n(3 + 2*5**2 - 4)/(3**2 - 1) = 6.125\nb)\n(5 + 3*2**3)/(5**2 * 3 - 11) = 0.453125\nc)\n((-2)**3 + 4*(-1)*4**2)/(-(-3)**2) = 8.0\n"
    }
   ],
   "source": [
    "print(\"a)\")\n",
    "print(\"(3 + 2*5**2 - 4)/(3**2 - 1) =\", (3 + 2*5**2 - 4)/(3**2 - 1))\n",
    "print(\"b)\")\n",
    "print(\"(5 + 3*2**3)/(5**2 * 3 - 11) =\", (5 + 3*2**3)/(5**2 * 3 - 11))\n",
    "print(\"c)\")\n",
    "print(\"((-2)**3 + 4*(-1)*4**2)/(-(-3)**2) =\", ((-2)**3 + 4*(-1)*4**2)/(-(-3)**2))"
   ]
  },
  {
   "cell_type": "markdown",
   "metadata": {},
   "source": [
    "# 1.04-16-454\n"
   ]
  },
  {
   "cell_type": "code",
   "execution_count": 5,
   "metadata": {
    "tags": []
   },
   "outputs": [
    {
     "output_type": "stream",
     "name": "stdout",
     "text": "a)\n3*x*(5-x) =  -3*x**2 + 15*x\nb)\n(2*x - 1)*4 = 8*x - 4\nc)\n(x + 2)*(3*x + 3) = 3*x**2 + 9*x + 6\nd)\n2*(4*x - 1) + 3 - (4 - x) = 9*x - 3\ne)\n5*(2*x - 1)*(-x + 3) = -10*x**2 + 35*x - 15\n"
    }
   ],
   "source": [
    "x = sympy.symbols(\"x\")\n",
    "\n",
    "print(\"a)\")\n",
    "print('3*x*(5-x) = ', sympy.expand('3*x*(5-x)'))\n",
    "print(\"b)\")\n",
    "print('(2*x - 1)*4 =', sympy.expand('(2*x - 1)*4'))\n",
    "print(\"c)\")\n",
    "print('(x + 2)*(3*x + 3) =', sympy.expand('(x + 2)*(3*x + 3)'))\n",
    "print(\"d)\")\n",
    "print('2*(4*x - 1) + 3 - (4 - x) =', sympy.expand('2*(4*x - 1) + 3 - (4 - x)'))\n",
    "print(\"e)\")\n",
    "print('5*(2*x - 1)*(-x + 3) =', sympy.expand('5*(2*x - 1)*(-x + 3)'))"
   ]
  },
  {
   "cell_type": "markdown",
   "metadata": {},
   "source": [
    "# 1.05-16-454"
   ]
  },
  {
   "cell_type": "code",
   "execution_count": 52,
   "metadata": {
    "tags": []
   },
   "outputs": [
    {
     "output_type": "stream",
     "name": "stdout",
     "text": "a)\n3 True Z\nb)\n-3 False N\nc)\n3/5 False Z\nd)\n-3/5 True Z\ne)\nsqrt(2) True R\nf) (med litt ekstra...)\npi True R\npi True Q\npi False Z\npi False N\nPå denne datamaskinen kan pi representeres som brøken 884279719003555/281474976710656\n"
    }
   ],
   "source": [
    "# For å løse denne oppgava lager jeg funksjoner for å teste \n",
    "# om et tall er naturlig, heltall, rasjonalt og reelt. \n",
    "\n",
    "def er_naturlig(x):\n",
    "    '''Naturlige tall N returnerer True'''\n",
    "    if er_heltall(x) and x > 0:\n",
    "        return True \n",
    "    else:\n",
    "        return False \n",
    "\n",
    "def er_heltall(x):\n",
    "    '''Hele tall Z returnerer True'''\n",
    "    if isinstance(x, int):\n",
    "        return True \n",
    "    else:\n",
    "        return False \n",
    "\n",
    "def er_rasjonalt(x):\n",
    "    '''Rasjonale tall Q returnerer True'''\n",
    "    # Siden datamaskiner representerer alle tall med et endelig antall\n",
    "    # desimaler, er det vanskelig å si om et tall er et rasjonalt tall\n",
    "    # eller ei. På datamaskinen klarer vi alltid å representere et tall \n",
    "    # som en brøk x = a/b siden alle tall har et endelig antall desimaler.\n",
    "    return True\n",
    "\n",
    "def er_reelt(x):\n",
    "    '''Reelle tall R returnerer True'''\n",
    "    return isinstance(x, (int, float))\n",
    "\n",
    "print(\"a)\")\n",
    "print(\"3\", er_heltall(3), \"Z\")\n",
    "print(\"b)\")\n",
    "print(\"-3\", er_naturlig(-3), \"N\")\n",
    "print(\"c)\")\n",
    "print(\"3/5\", er_heltall(3/5), \"Z\")\n",
    "print(\"d)\")\n",
    "print(\"-3/5\", er_rasjonalt(-3/5), \"Z\")\n",
    "print(\"e)\")\n",
    "print(\"sqrt(2)\", er_reelt(math.sqrt(2)), \"R\")\n",
    "print(\"f) (med litt ekstra...)\")\n",
    "print(\"pi\", er_reelt(math.pi), \"R\")\n",
    "print(\"pi\", er_rasjonalt(math.pi), \"Q\") # Her vil vi få feil svar\n",
    "print(\"pi\", er_heltall(math.pi), \"Z\")\n",
    "print(\"pi\", er_naturlig(math.pi), \"N\")\n",
    "print(\"På denne datamaskinen kan pi representeres som brøken\", sympy.Rational(math.pi))\n"
   ]
  },
  {
   "cell_type": "markdown",
   "metadata": {},
   "source": [
    "# 1.06-16-454"
   ]
  },
  {
   "cell_type": "code",
   "execution_count": 7,
   "metadata": {
    "tags": []
   },
   "outputs": [
    {
     "output_type": "stream",
     "name": "stdout",
     "text": "usortert\n[0.3333333333333333, 0.25, 8, 6.283185307179586, 0.4166666666666667, -8]\nsortert\n[-8, 0.25, 0.3333333333333333, 0.4166666666666667, 6.283185307179586, 8]\n"
    }
   ],
   "source": [
    "tall = [1/3, 1/4, 2**3, 2*math.pi, 5/12, (-2)**3]\n",
    "\n",
    "print(\"usortert\")\n",
    "print(tall)\n",
    "print(\"sortert\")\n",
    "print(sorted(tall))"
   ]
  },
  {
   "cell_type": "markdown",
   "metadata": {},
   "source": [
    "# 1.07-16-454"
   ]
  },
  {
   "cell_type": "code",
   "execution_count": 8,
   "metadata": {
    "tags": []
   },
   "outputs": [
    {
     "output_type": "stream",
     "name": "stdout",
     "text": "1 2\n2 4\n3 6\n4 8\n5 10\n6 12\n7 14\n8 16\n9 18\n13 26\n14 28\n15 30\n16 32\n17 34\n18 36\n19 38\n23 46\n27 54\n28 56\n29 58\n31 62\n32 64\n34 68\n35 70\n36 72\n38 76\n39 78\n41 82\n43 86\n45 90\n46 92\n48 96\n52 104\n53 106\n54 108\n64 128\n65 130\n67 134\n69 138\n73 146\n76 152\n78 156\n79 158\n82 164\n85 170\n86 172\n92 184\n93 186\n"
    }
   ],
   "source": [
    "for x in range(1, 101): # tar for oss talla fra 1 til 100\n",
    "    xx = 2*x\n",
    "    sifre = set(str(x) + str(xx)) # finner antall unike sifre i de to talla\n",
    "    if len(sifre) == (len(str(x)) + len(str(xx))):\n",
    "        # antall sifre i de to talla er lik antall unike sifre\n",
    "        print(x, xx)"
   ]
  },
  {
   "cell_type": "markdown",
   "metadata": {},
   "source": [
    "# 1.08-16-454"
   ]
  },
  {
   "cell_type": "code",
   "execution_count": 9,
   "metadata": {
    "tags": []
   },
   "outputs": [
    {
     "output_type": "stream",
     "name": "stdout",
     "text": "1 [1]\n1 er et perfekt tall\n6 [1, 2, 3]\n6 er et perfekt tall\n28 [1, 2, 4, 7, 14]\n28 er et perfekt tall\n496 [1, 2, 4, 8, 16, 31, 62, 124, 248]\n496 er et perfekt tall\n"
    }
   ],
   "source": [
    "def divisorer(x):\n",
    "    '''Finner alle divisorer til x og returnerer dem som en liste'''\n",
    "    rmax = x // 2 # finner halvparten av x, runder av ned til nærmeste heltall\n",
    "    d = [1]       # alle tall er delelig på 1, så det legger vi inn uansett\n",
    "    for i in range(2, rmax + 1): # sjekker alle tall fra 2 opp til og med rmax\n",
    "        if x % i == 0:  # er x delelig på tallet i?\n",
    "            d.append(i) # x var delelig på i, vi lagrer i\n",
    "    return d \n",
    "\n",
    "for x in range(1, 1001): # sjekker alle tall fra 1 til 1000\n",
    "    div = divisorer(x)   # finner alle divisorer til det aktuelle tallet\n",
    "    if x == sum(div):    # er summen av divisorene lik tallet?\n",
    "        print(x, div)\n",
    "        print(x, \"er et perfekt tall\")"
   ]
  },
  {
   "cell_type": "markdown",
   "metadata": {},
   "source": [
    "# 1.09-22-454"
   ]
  },
  {
   "cell_type": "code",
   "execution_count": 10,
   "metadata": {
    "tags": []
   },
   "outputs": [
    {
     "output_type": "stream",
     "name": "stdout",
     "text": "a)\n24/36 = 2/3\nb)\n16/50 = 8/25\nc)\n12/15 = 4/5\n"
    }
   ],
   "source": [
    "print(\"a)\")\n",
    "print(\"24/36 =\", sympy.simplify('24/36'))\n",
    "print(\"b)\")\n",
    "print(\"16/50 =\", sympy.simplify('16/50'))\n",
    "print(\"c)\")\n",
    "print(\"12/15 =\", sympy.simplify('12/15'))"
   ]
  },
  {
   "cell_type": "markdown",
   "metadata": {},
   "source": [
    "# 1.10-22-454"
   ]
  },
  {
   "cell_type": "code",
   "execution_count": 11,
   "metadata": {
    "tags": []
   },
   "outputs": [
    {
     "output_type": "stream",
     "name": "stdout",
     "text": "a)\n2/5 * 4/3 = 8/15\nb)\n3/15 * 5/9 = 1/9\nc)\n2 * 3/8 = 3/4\n"
    }
   ],
   "source": [
    "print(\"a)\")\n",
    "print(\"2/5 * 4/3 =\", sympy.simplify('2/5 * 4/3'))\n",
    "print(\"b)\")\n",
    "print(\"3/15 * 5/9 =\", sympy.simplify('3/15 * 5/9'))\n",
    "print(\"c)\")\n",
    "print(\"2 * 3/8 =\", sympy.simplify('2 * 3/8'))"
   ]
  },
  {
   "cell_type": "markdown",
   "metadata": {},
   "source": [
    "# 1.11-22-454"
   ]
  },
  {
   "cell_type": "code",
   "execution_count": 12,
   "metadata": {
    "tags": []
   },
   "outputs": [
    {
     "output_type": "stream",
     "name": "stdout",
     "text": "a)\n2/5 + 1/3 = 11/15\nb)\n5 + 1/6 = 31/6\nc)\n4/7 - 5/6 = -11/42\nd)\n7/5 + 8/14 = 69/35\n"
    }
   ],
   "source": [
    "print(\"a)\")\n",
    "print(\"2/5 + 1/3 =\", sympy.simplify('2/5 + 1/3'))\n",
    "print(\"b)\")\n",
    "print(\"5 + 1/6 =\", sympy.simplify('5 + 1/6'))\n",
    "print(\"c)\")\n",
    "print(\"4/7 - 5/6 =\", sympy.simplify('4/7 - 5/6'))\n",
    "print(\"d)\")\n",
    "print(\"7/5 + 8/14 =\", sympy.simplify('7/5 + 8/14'))"
   ]
  },
  {
   "cell_type": "markdown",
   "metadata": {},
   "source": [
    "# 1.12-22-454"
   ]
  },
  {
   "cell_type": "code",
   "execution_count": 13,
   "metadata": {
    "tags": []
   },
   "outputs": [
    {
     "output_type": "stream",
     "name": "stdout",
     "text": "a)\n3/5 : 1/7 = 21/5\nb)\n2/3 : 3/2 = 4/9\nc)\n1/2 : 6 = 1/12\nd)\n4 : 1/2 = 8\ne)\n1 : (3 + 2/3) = 3/11\n"
    }
   ],
   "source": [
    "print(\"a)\")\n",
    "print(\"3/5 : 1/7 =\", sympy.simplify('(3/5) / (1/7)'))\n",
    "print(\"b)\")\n",
    "print(\"2/3 : 3/2 =\", sympy.simplify('(2/3) / (3/2)'))\n",
    "print(\"c)\")\n",
    "print(\"1/2 : 6 =\", sympy.simplify('(1/2) / 6'))\n",
    "print(\"d)\")\n",
    "print(\"4 : 1/2 =\", sympy.simplify('4 / (1/2)'))\n",
    "print(\"e)\")\n",
    "print(\"1 : (3 + 2/3) =\", sympy.simplify('1 / (3 + 2/3)'))"
   ]
  },
  {
   "cell_type": "markdown",
   "metadata": {},
   "source": [
    "# 1.13-23-454"
   ]
  },
  {
   "cell_type": "code",
   "execution_count": 14,
   "metadata": {
    "tags": []
   },
   "outputs": [
    {
     "output_type": "stream",
     "name": "stdout",
     "text": "a)\n1/3 * (x + 2)*(x - 3) = x**2/3 - x/3 - 2\nb)\n(x - 1/2)*(x + 1/3) = x**2 - x/6 - 1/6\nc)\nx/3 + x*4/3 - 1 = 5*x/3 - 1\nd)\n2*x/5 + 1/2 = 2*x/5 + 1/2\ne)\n(x + 1)/2 - (x - 1)/2 = 1\n"
    }
   ],
   "source": [
    "x = sympy.symbols(\"x\")\n",
    "\n",
    "print('a)')\n",
    "print('1/3 * (x + 2)*(x - 3) =', sympy.expand('1/3 * (x + 2)*(x - 3)'))\n",
    "print('b)')\n",
    "print('(x - 1/2)*(x + 1/3) =', sympy.expand('(x - 1/2)*(x + 1/3)'))\n",
    "print('c)')\n",
    "print('x/3 + x*4/3 - 1 =', sympy.expand('x/3 + x*4/3 - 1'))\n",
    "print('d)')\n",
    "print('2*x/5 + 1/2 =', sympy.expand('2*x/5 + 1/2'))\n",
    "print('e)')\n",
    "print('(x + 1)/2 - (x - 1)/2 =', sympy.expand('(x + 1)/2 - (x - 1)/2'))"
   ]
  },
  {
   "cell_type": "markdown",
   "metadata": {},
   "source": [
    "# 1.14-23-454"
   ]
  },
  {
   "cell_type": "code",
   "execution_count": 15,
   "metadata": {},
   "outputs": [
    {
     "output_type": "display_data",
     "data": {
      "text/plain": "<Figure size 432x288 with 1 Axes>",
      "image/svg+xml": "<?xml version=\"1.0\" encoding=\"utf-8\" standalone=\"no\"?>\n<!DOCTYPE svg PUBLIC \"-//W3C//DTD SVG 1.1//EN\"\n  \"http://www.w3.org/Graphics/SVG/1.1/DTD/svg11.dtd\">\n<!-- Created with matplotlib (https://matplotlib.org/) -->\n<svg height=\"246.958125pt\" version=\"1.1\" viewBox=\"0 0 228.025732 246.958125\" width=\"228.025732pt\" xmlns=\"http://www.w3.org/2000/svg\" xmlns:xlink=\"http://www.w3.org/1999/xlink\">\n <metadata>\n  <rdf:RDF xmlns:cc=\"http://creativecommons.org/ns#\" xmlns:dc=\"http://purl.org/dc/elements/1.1/\" xmlns:rdf=\"http://www.w3.org/1999/02/22-rdf-syntax-ns#\">\n   <cc:Work>\n    <dc:type rdf:resource=\"http://purl.org/dc/dcmitype/StillImage\"/>\n    <dc:date>2020-08-11T10:51:43.484773</dc:date>\n    <dc:format>image/svg+xml</dc:format>\n    <dc:creator>\n     <cc:Agent>\n      <dc:title>Matplotlib v3.3.0, https://matplotlib.org/</dc:title>\n     </cc:Agent>\n    </dc:creator>\n   </cc:Work>\n  </rdf:RDF>\n </metadata>\n <defs>\n  <style type=\"text/css\">*{stroke-linecap:butt;stroke-linejoin:round;}</style>\n </defs>\n <g id=\"figure_1\">\n  <g id=\"patch_1\">\n   <path d=\"M 0 246.958125 \nL 228.025732 246.958125 \nL 228.025732 0 \nL 0 0 \nz\n\" style=\"fill:none;\"/>\n  </g>\n  <g id=\"axes_1\">\n   <g id=\"patch_2\">\n    <path d=\"M 211.115472 126.936011 \nC 211.115472 110.307914 206.737537 93.969239 198.423488 79.568885 \nC 190.10944 65.168531 178.148699 53.207791 163.748345 44.893743 \nC 149.347991 36.579696 133.009315 32.201761 116.381219 32.201762 \nC 99.753122 32.201763 83.414447 36.579699 69.014094 44.893748 \nL 116.381223 126.936011 \nL 211.115472 126.936011 \nz\n\" style=\"fill:#1f77b4;\"/>\n   </g>\n   <g id=\"patch_3\">\n    <path d=\"M 64.277381 53.097975 \nC 49.877028 61.412024 37.916288 73.372765 29.602241 87.77312 \nC 21.288194 102.173474 16.910261 118.51215 16.910262 135.140246 \nC 16.910264 151.768343 21.2882 168.107018 29.60225 182.507371 \nC 37.9163 196.907724 49.877042 208.868463 64.277397 217.182509 \nC 78.677752 225.496556 95.016428 229.874489 111.644524 229.874486 \nC 128.272621 229.874484 144.611295 225.496547 159.011648 217.182496 \nC 173.412001 208.868446 185.372739 196.907703 193.686785 182.507348 \nC 202.000831 168.106993 206.378763 151.768316 206.37876 135.14022 \nL 111.644511 135.140238 \nL 64.277381 53.097975 \nz\n\" style=\"fill:#ff7f0e;\"/>\n   </g>\n   <g id=\"matplotlib.axis_1\"/>\n   <g id=\"matplotlib.axis_2\"/>\n   <g id=\"text_1\">\n    <!-- Oppgave 1.14 a) -->\n    <g transform=\"translate(63.751616 16.318125)scale(0.12 -0.12)\">\n     <defs>\n      <path d=\"M 39.40625 66.21875 \nQ 28.65625 66.21875 22.328125 58.203125 \nQ 16.015625 50.203125 16.015625 36.375 \nQ 16.015625 22.609375 22.328125 14.59375 \nQ 28.65625 6.59375 39.40625 6.59375 \nQ 50.140625 6.59375 56.421875 14.59375 \nQ 62.703125 22.609375 62.703125 36.375 \nQ 62.703125 50.203125 56.421875 58.203125 \nQ 50.140625 66.21875 39.40625 66.21875 \nz\nM 39.40625 74.21875 \nQ 54.734375 74.21875 63.90625 63.9375 \nQ 73.09375 53.65625 73.09375 36.375 \nQ 73.09375 19.140625 63.90625 8.859375 \nQ 54.734375 -1.421875 39.40625 -1.421875 \nQ 24.03125 -1.421875 14.8125 8.828125 \nQ 5.609375 19.09375 5.609375 36.375 \nQ 5.609375 53.65625 14.8125 63.9375 \nQ 24.03125 74.21875 39.40625 74.21875 \nz\n\" id=\"DejaVuSans-79\"/>\n      <path d=\"M 18.109375 8.203125 \nL 18.109375 -20.796875 \nL 9.078125 -20.796875 \nL 9.078125 54.6875 \nL 18.109375 54.6875 \nL 18.109375 46.390625 \nQ 20.953125 51.265625 25.265625 53.625 \nQ 29.59375 56 35.59375 56 \nQ 45.5625 56 51.78125 48.09375 \nQ 58.015625 40.1875 58.015625 27.296875 \nQ 58.015625 14.40625 51.78125 6.484375 \nQ 45.5625 -1.421875 35.59375 -1.421875 \nQ 29.59375 -1.421875 25.265625 0.953125 \nQ 20.953125 3.328125 18.109375 8.203125 \nz\nM 48.6875 27.296875 \nQ 48.6875 37.203125 44.609375 42.84375 \nQ 40.53125 48.484375 33.40625 48.484375 \nQ 26.265625 48.484375 22.1875 42.84375 \nQ 18.109375 37.203125 18.109375 27.296875 \nQ 18.109375 17.390625 22.1875 11.75 \nQ 26.265625 6.109375 33.40625 6.109375 \nQ 40.53125 6.109375 44.609375 11.75 \nQ 48.6875 17.390625 48.6875 27.296875 \nz\n\" id=\"DejaVuSans-112\"/>\n      <path d=\"M 45.40625 27.984375 \nQ 45.40625 37.75 41.375 43.109375 \nQ 37.359375 48.484375 30.078125 48.484375 \nQ 22.859375 48.484375 18.828125 43.109375 \nQ 14.796875 37.75 14.796875 27.984375 \nQ 14.796875 18.265625 18.828125 12.890625 \nQ 22.859375 7.515625 30.078125 7.515625 \nQ 37.359375 7.515625 41.375 12.890625 \nQ 45.40625 18.265625 45.40625 27.984375 \nz\nM 54.390625 6.78125 \nQ 54.390625 -7.171875 48.1875 -13.984375 \nQ 42 -20.796875 29.203125 -20.796875 \nQ 24.46875 -20.796875 20.265625 -20.09375 \nQ 16.0625 -19.390625 12.109375 -17.921875 \nL 12.109375 -9.1875 \nQ 16.0625 -11.328125 19.921875 -12.34375 \nQ 23.78125 -13.375 27.78125 -13.375 \nQ 36.625 -13.375 41.015625 -8.765625 \nQ 45.40625 -4.15625 45.40625 5.171875 \nL 45.40625 9.625 \nQ 42.625 4.78125 38.28125 2.390625 \nQ 33.9375 0 27.875 0 \nQ 17.828125 0 11.671875 7.65625 \nQ 5.515625 15.328125 5.515625 27.984375 \nQ 5.515625 40.671875 11.671875 48.328125 \nQ 17.828125 56 27.875 56 \nQ 33.9375 56 38.28125 53.609375 \nQ 42.625 51.21875 45.40625 46.390625 \nL 45.40625 54.6875 \nL 54.390625 54.6875 \nz\n\" id=\"DejaVuSans-103\"/>\n      <path d=\"M 34.28125 27.484375 \nQ 23.390625 27.484375 19.1875 25 \nQ 14.984375 22.515625 14.984375 16.5 \nQ 14.984375 11.71875 18.140625 8.90625 \nQ 21.296875 6.109375 26.703125 6.109375 \nQ 34.1875 6.109375 38.703125 11.40625 \nQ 43.21875 16.703125 43.21875 25.484375 \nL 43.21875 27.484375 \nz\nM 52.203125 31.203125 \nL 52.203125 0 \nL 43.21875 0 \nL 43.21875 8.296875 \nQ 40.140625 3.328125 35.546875 0.953125 \nQ 30.953125 -1.421875 24.3125 -1.421875 \nQ 15.921875 -1.421875 10.953125 3.296875 \nQ 6 8.015625 6 15.921875 \nQ 6 25.140625 12.171875 29.828125 \nQ 18.359375 34.515625 30.609375 34.515625 \nL 43.21875 34.515625 \nL 43.21875 35.40625 \nQ 43.21875 41.609375 39.140625 45 \nQ 35.0625 48.390625 27.6875 48.390625 \nQ 23 48.390625 18.546875 47.265625 \nQ 14.109375 46.140625 10.015625 43.890625 \nL 10.015625 52.203125 \nQ 14.9375 54.109375 19.578125 55.046875 \nQ 24.21875 56 28.609375 56 \nQ 40.484375 56 46.34375 49.84375 \nQ 52.203125 43.703125 52.203125 31.203125 \nz\n\" id=\"DejaVuSans-97\"/>\n      <path d=\"M 2.984375 54.6875 \nL 12.5 54.6875 \nL 29.59375 8.796875 \nL 46.6875 54.6875 \nL 56.203125 54.6875 \nL 35.6875 0 \nL 23.484375 0 \nz\n\" id=\"DejaVuSans-118\"/>\n      <path d=\"M 56.203125 29.59375 \nL 56.203125 25.203125 \nL 14.890625 25.203125 \nQ 15.484375 15.921875 20.484375 11.0625 \nQ 25.484375 6.203125 34.421875 6.203125 \nQ 39.59375 6.203125 44.453125 7.46875 \nQ 49.3125 8.734375 54.109375 11.28125 \nL 54.109375 2.78125 \nQ 49.265625 0.734375 44.1875 -0.34375 \nQ 39.109375 -1.421875 33.890625 -1.421875 \nQ 20.796875 -1.421875 13.15625 6.1875 \nQ 5.515625 13.8125 5.515625 26.8125 \nQ 5.515625 40.234375 12.765625 48.109375 \nQ 20.015625 56 32.328125 56 \nQ 43.359375 56 49.78125 48.890625 \nQ 56.203125 41.796875 56.203125 29.59375 \nz\nM 47.21875 32.234375 \nQ 47.125 39.59375 43.09375 43.984375 \nQ 39.0625 48.390625 32.421875 48.390625 \nQ 24.90625 48.390625 20.390625 44.140625 \nQ 15.875 39.890625 15.1875 32.171875 \nz\n\" id=\"DejaVuSans-101\"/>\n      <path id=\"DejaVuSans-32\"/>\n      <path d=\"M 12.40625 8.296875 \nL 28.515625 8.296875 \nL 28.515625 63.921875 \nL 10.984375 60.40625 \nL 10.984375 69.390625 \nL 28.421875 72.90625 \nL 38.28125 72.90625 \nL 38.28125 8.296875 \nL 54.390625 8.296875 \nL 54.390625 0 \nL 12.40625 0 \nz\n\" id=\"DejaVuSans-49\"/>\n      <path d=\"M 10.6875 12.40625 \nL 21 12.40625 \nL 21 0 \nL 10.6875 0 \nz\n\" id=\"DejaVuSans-46\"/>\n      <path d=\"M 37.796875 64.3125 \nL 12.890625 25.390625 \nL 37.796875 25.390625 \nz\nM 35.203125 72.90625 \nL 47.609375 72.90625 \nL 47.609375 25.390625 \nL 58.015625 25.390625 \nL 58.015625 17.1875 \nL 47.609375 17.1875 \nL 47.609375 0 \nL 37.796875 0 \nL 37.796875 17.1875 \nL 4.890625 17.1875 \nL 4.890625 26.703125 \nz\n\" id=\"DejaVuSans-52\"/>\n      <path d=\"M 8.015625 75.875 \nL 15.828125 75.875 \nQ 23.140625 64.359375 26.78125 53.3125 \nQ 30.421875 42.28125 30.421875 31.390625 \nQ 30.421875 20.453125 26.78125 9.375 \nQ 23.140625 -1.703125 15.828125 -13.1875 \nL 8.015625 -13.1875 \nQ 14.5 -2 17.703125 9.0625 \nQ 20.90625 20.125 20.90625 31.390625 \nQ 20.90625 42.671875 17.703125 53.65625 \nQ 14.5 64.65625 8.015625 75.875 \nz\n\" id=\"DejaVuSans-41\"/>\n     </defs>\n     <use xlink:href=\"#DejaVuSans-79\"/>\n     <use x=\"78.710938\" xlink:href=\"#DejaVuSans-112\"/>\n     <use x=\"142.1875\" xlink:href=\"#DejaVuSans-112\"/>\n     <use x=\"205.664062\" xlink:href=\"#DejaVuSans-103\"/>\n     <use x=\"269.140625\" xlink:href=\"#DejaVuSans-97\"/>\n     <use x=\"330.419922\" xlink:href=\"#DejaVuSans-118\"/>\n     <use x=\"389.599609\" xlink:href=\"#DejaVuSans-101\"/>\n     <use x=\"451.123047\" xlink:href=\"#DejaVuSans-32\"/>\n     <use x=\"482.910156\" xlink:href=\"#DejaVuSans-49\"/>\n     <use x=\"546.533203\" xlink:href=\"#DejaVuSans-46\"/>\n     <use x=\"578.320312\" xlink:href=\"#DejaVuSans-49\"/>\n     <use x=\"641.943359\" xlink:href=\"#DejaVuSans-52\"/>\n     <use x=\"705.566406\" xlink:href=\"#DejaVuSans-32\"/>\n     <use x=\"737.353516\" xlink:href=\"#DejaVuSans-97\"/>\n     <use x=\"798.632812\" xlink:href=\"#DejaVuSans-41\"/>\n    </g>\n   </g>\n  </g>\n </g>\n</svg>\n",
      "image/png": "[encoded data removed]"
     },
     "metadata": {}
    },
    {
     "output_type": "display_data",
     "data": {
      "text/plain": "<Figure size 432x288 with 1 Axes>",
      "image/svg+xml": "<?xml version=\"1.0\" encoding=\"utf-8\" standalone=\"no\"?>\n<!DOCTYPE svg PUBLIC \"-//W3C//DTD SVG 1.1//EN\"\n  \"http://www.w3.org/Graphics/SVG/1.1/DTD/svg11.dtd\">\n<!-- Created with matplotlib (https://matplotlib.org/) -->\n<svg height=\"246.958125pt\" version=\"1.1\" viewBox=\"0 0 349.2 246.958125\" width=\"349.2pt\" xmlns=\"http://www.w3.org/2000/svg\" xmlns:xlink=\"http://www.w3.org/1999/xlink\">\n <metadata>\n  <rdf:RDF xmlns:cc=\"http://creativecommons.org/ns#\" xmlns:dc=\"http://purl.org/dc/elements/1.1/\" xmlns:rdf=\"http://www.w3.org/1999/02/22-rdf-syntax-ns#\">\n   <cc:Work>\n    <dc:type rdf:resource=\"http://purl.org/dc/dcmitype/StillImage\"/>\n    <dc:date>2020-08-11T10:51:43.647291</dc:date>\n    <dc:format>image/svg+xml</dc:format>\n    <dc:creator>\n     <cc:Agent>\n      <dc:title>Matplotlib v3.3.0, https://matplotlib.org/</dc:title>\n     </cc:Agent>\n    </dc:creator>\n   </cc:Work>\n  </rdf:RDF>\n </metadata>\n <defs>\n  <style type=\"text/css\">*{stroke-linecap:butt;stroke-linejoin:round;}</style>\n </defs>\n <g id=\"figure_1\">\n  <g id=\"patch_1\">\n   <path d=\"M 0 246.958125 \nL 349.2 246.958125 \nL 349.2 0 \nL 0 0 \nz\n\" style=\"fill:none;\"/>\n  </g>\n  <g id=\"axes_1\">\n   <g id=\"LineCollection_1\">\n    <path clip-path=\"url(#pae4fd18efd)\" d=\"M 22.418182 131.038125 \nL 326.781818 131.038125 \n\" style=\"fill:none;stroke:#1f77b4;stroke-width:1.5;\"/>\n   </g>\n   <g id=\"EventCollection_1\">\n    <path clip-path=\"url(#pae4fd18efd)\" d=\"M 22.418182 81.619943 \nL 22.418182 180.456307 \n\" style=\"fill:none;stroke:#0000ff;stroke-width:1.5;\"/>\n    <path clip-path=\"url(#pae4fd18efd)\" d=\"M 174.6 81.619943 \nL 174.6 180.456307 \n\" style=\"fill:none;stroke:#0000ff;stroke-width:1.5;\"/>\n    <path clip-path=\"url(#pae4fd18efd)\" d=\"M 326.781818 81.619943 \nL 326.781818 180.456307 \n\" style=\"fill:none;stroke:#0000ff;stroke-width:1.5;\"/>\n   </g>\n   <g id=\"EventCollection_2\">\n    <path clip-path=\"url(#pae4fd18efd)\" d=\"M 225.327273 81.619943 \nL 225.327273 180.456307 \n\" style=\"fill:none;stroke:#ff0000;stroke-width:1.5;\"/>\n   </g>\n   <g id=\"text_1\">\n    <!-- 0 -->\n    <g transform=\"translate(22.418182 229.874489)scale(0.1 -0.1)\">\n     <defs>\n      <path d=\"M 31.78125 66.40625 \nQ 24.171875 66.40625 20.328125 58.90625 \nQ 16.5 51.421875 16.5 36.375 \nQ 16.5 21.390625 20.328125 13.890625 \nQ 24.171875 6.390625 31.78125 6.390625 \nQ 39.453125 6.390625 43.28125 13.890625 \nQ 47.125 21.390625 47.125 36.375 \nQ 47.125 51.421875 43.28125 58.90625 \nQ 39.453125 66.40625 31.78125 66.40625 \nz\nM 31.78125 74.21875 \nQ 44.046875 74.21875 50.515625 64.515625 \nQ 56.984375 54.828125 56.984375 36.375 \nQ 56.984375 17.96875 50.515625 8.265625 \nQ 44.046875 -1.421875 31.78125 -1.421875 \nQ 19.53125 -1.421875 13.0625 8.265625 \nQ 6.59375 17.96875 6.59375 36.375 \nQ 6.59375 54.828125 13.0625 64.515625 \nQ 19.53125 74.21875 31.78125 74.21875 \nz\n\" id=\"DejaVuSans-48\"/>\n     </defs>\n     <use xlink:href=\"#DejaVuSans-48\"/>\n    </g>\n   </g>\n   <g id=\"text_2\">\n    <!-- 1 -->\n    <g transform=\"translate(174.6 229.874489)scale(0.1 -0.1)\">\n     <defs>\n      <path d=\"M 12.40625 8.296875 \nL 28.515625 8.296875 \nL 28.515625 63.921875 \nL 10.984375 60.40625 \nL 10.984375 69.390625 \nL 28.421875 72.90625 \nL 38.28125 72.90625 \nL 38.28125 8.296875 \nL 54.390625 8.296875 \nL 54.390625 0 \nL 12.40625 0 \nz\n\" id=\"DejaVuSans-49\"/>\n     </defs>\n     <use xlink:href=\"#DejaVuSans-49\"/>\n    </g>\n   </g>\n   <g id=\"text_3\">\n    <!-- 4/3 -->\n    <g transform=\"translate(225.327273 229.874489)scale(0.1 -0.1)\">\n     <defs>\n      <path d=\"M 37.796875 64.3125 \nL 12.890625 25.390625 \nL 37.796875 25.390625 \nz\nM 35.203125 72.90625 \nL 47.609375 72.90625 \nL 47.609375 25.390625 \nL 58.015625 25.390625 \nL 58.015625 17.1875 \nL 47.609375 17.1875 \nL 47.609375 0 \nL 37.796875 0 \nL 37.796875 17.1875 \nL 4.890625 17.1875 \nL 4.890625 26.703125 \nz\n\" id=\"DejaVuSans-52\"/>\n      <path d=\"M 25.390625 72.90625 \nL 33.6875 72.90625 \nL 8.296875 -9.28125 \nL 0 -9.28125 \nz\n\" id=\"DejaVuSans-47\"/>\n      <path d=\"M 40.578125 39.3125 \nQ 47.65625 37.796875 51.625 33 \nQ 55.609375 28.21875 55.609375 21.1875 \nQ 55.609375 10.40625 48.1875 4.484375 \nQ 40.765625 -1.421875 27.09375 -1.421875 \nQ 22.515625 -1.421875 17.65625 -0.515625 \nQ 12.796875 0.390625 7.625 2.203125 \nL 7.625 11.71875 \nQ 11.71875 9.328125 16.59375 8.109375 \nQ 21.484375 6.890625 26.8125 6.890625 \nQ 36.078125 6.890625 40.9375 10.546875 \nQ 45.796875 14.203125 45.796875 21.1875 \nQ 45.796875 27.640625 41.28125 31.265625 \nQ 36.765625 34.90625 28.71875 34.90625 \nL 20.21875 34.90625 \nL 20.21875 43.015625 \nL 29.109375 43.015625 \nQ 36.375 43.015625 40.234375 45.921875 \nQ 44.09375 48.828125 44.09375 54.296875 \nQ 44.09375 59.90625 40.109375 62.90625 \nQ 36.140625 65.921875 28.71875 65.921875 \nQ 24.65625 65.921875 20.015625 65.03125 \nQ 15.375 64.15625 9.8125 62.3125 \nL 9.8125 71.09375 \nQ 15.4375 72.65625 20.34375 73.4375 \nQ 25.25 74.21875 29.59375 74.21875 \nQ 40.828125 74.21875 47.359375 69.109375 \nQ 53.90625 64.015625 53.90625 55.328125 \nQ 53.90625 49.265625 50.4375 45.09375 \nQ 46.96875 40.921875 40.578125 39.3125 \nz\n\" id=\"DejaVuSans-51\"/>\n     </defs>\n     <use xlink:href=\"#DejaVuSans-52\"/>\n     <use x=\"63.623047\" xlink:href=\"#DejaVuSans-47\"/>\n     <use x=\"97.314453\" xlink:href=\"#DejaVuSans-51\"/>\n    </g>\n   </g>\n   <g id=\"text_4\">\n    <!-- 2 -->\n    <g transform=\"translate(326.781818 229.874489)scale(0.1 -0.1)\">\n     <defs>\n      <path d=\"M 19.1875 8.296875 \nL 53.609375 8.296875 \nL 53.609375 0 \nL 7.328125 0 \nL 7.328125 8.296875 \nQ 12.9375 14.109375 22.625 23.890625 \nQ 32.328125 33.6875 34.8125 36.53125 \nQ 39.546875 41.84375 41.421875 45.53125 \nQ 43.3125 49.21875 43.3125 52.78125 \nQ 43.3125 58.59375 39.234375 62.25 \nQ 35.15625 65.921875 28.609375 65.921875 \nQ 23.96875 65.921875 18.8125 64.3125 \nQ 13.671875 62.703125 7.8125 59.421875 \nL 7.8125 69.390625 \nQ 13.765625 71.78125 18.9375 73 \nQ 24.125 74.21875 28.421875 74.21875 \nQ 39.75 74.21875 46.484375 68.546875 \nQ 53.21875 62.890625 53.21875 53.421875 \nQ 53.21875 48.921875 51.53125 44.890625 \nQ 49.859375 40.875 45.40625 35.40625 \nQ 44.1875 33.984375 37.640625 27.21875 \nQ 31.109375 20.453125 19.1875 8.296875 \nz\n\" id=\"DejaVuSans-50\"/>\n     </defs>\n     <use xlink:href=\"#DejaVuSans-50\"/>\n    </g>\n   </g>\n   <g id=\"text_5\">\n    <!-- Oppgave 1.14 b) -->\n    <g transform=\"translate(124.206562 16.318125)scale(0.12 -0.12)\">\n     <defs>\n      <path d=\"M 39.40625 66.21875 \nQ 28.65625 66.21875 22.328125 58.203125 \nQ 16.015625 50.203125 16.015625 36.375 \nQ 16.015625 22.609375 22.328125 14.59375 \nQ 28.65625 6.59375 39.40625 6.59375 \nQ 50.140625 6.59375 56.421875 14.59375 \nQ 62.703125 22.609375 62.703125 36.375 \nQ 62.703125 50.203125 56.421875 58.203125 \nQ 50.140625 66.21875 39.40625 66.21875 \nz\nM 39.40625 74.21875 \nQ 54.734375 74.21875 63.90625 63.9375 \nQ 73.09375 53.65625 73.09375 36.375 \nQ 73.09375 19.140625 63.90625 8.859375 \nQ 54.734375 -1.421875 39.40625 -1.421875 \nQ 24.03125 -1.421875 14.8125 8.828125 \nQ 5.609375 19.09375 5.609375 36.375 \nQ 5.609375 53.65625 14.8125 63.9375 \nQ 24.03125 74.21875 39.40625 74.21875 \nz\n\" id=\"DejaVuSans-79\"/>\n      <path d=\"M 18.109375 8.203125 \nL 18.109375 -20.796875 \nL 9.078125 -20.796875 \nL 9.078125 54.6875 \nL 18.109375 54.6875 \nL 18.109375 46.390625 \nQ 20.953125 51.265625 25.265625 53.625 \nQ 29.59375 56 35.59375 56 \nQ 45.5625 56 51.78125 48.09375 \nQ 58.015625 40.1875 58.015625 27.296875 \nQ 58.015625 14.40625 51.78125 6.484375 \nQ 45.5625 -1.421875 35.59375 -1.421875 \nQ 29.59375 -1.421875 25.265625 0.953125 \nQ 20.953125 3.328125 18.109375 8.203125 \nz\nM 48.6875 27.296875 \nQ 48.6875 37.203125 44.609375 42.84375 \nQ 40.53125 48.484375 33.40625 48.484375 \nQ 26.265625 48.484375 22.1875 42.84375 \nQ 18.109375 37.203125 18.109375 27.296875 \nQ 18.109375 17.390625 22.1875 11.75 \nQ 26.265625 6.109375 33.40625 6.109375 \nQ 40.53125 6.109375 44.609375 11.75 \nQ 48.6875 17.390625 48.6875 27.296875 \nz\n\" id=\"DejaVuSans-112\"/>\n      <path d=\"M 45.40625 27.984375 \nQ 45.40625 37.75 41.375 43.109375 \nQ 37.359375 48.484375 30.078125 48.484375 \nQ 22.859375 48.484375 18.828125 43.109375 \nQ 14.796875 37.75 14.796875 27.984375 \nQ 14.796875 18.265625 18.828125 12.890625 \nQ 22.859375 7.515625 30.078125 7.515625 \nQ 37.359375 7.515625 41.375 12.890625 \nQ 45.40625 18.265625 45.40625 27.984375 \nz\nM 54.390625 6.78125 \nQ 54.390625 -7.171875 48.1875 -13.984375 \nQ 42 -20.796875 29.203125 -20.796875 \nQ 24.46875 -20.796875 20.265625 -20.09375 \nQ 16.0625 -19.390625 12.109375 -17.921875 \nL 12.109375 -9.1875 \nQ 16.0625 -11.328125 19.921875 -12.34375 \nQ 23.78125 -13.375 27.78125 -13.375 \nQ 36.625 -13.375 41.015625 -8.765625 \nQ 45.40625 -4.15625 45.40625 5.171875 \nL 45.40625 9.625 \nQ 42.625 4.78125 38.28125 2.390625 \nQ 33.9375 0 27.875 0 \nQ 17.828125 0 11.671875 7.65625 \nQ 5.515625 15.328125 5.515625 27.984375 \nQ 5.515625 40.671875 11.671875 48.328125 \nQ 17.828125 56 27.875 56 \nQ 33.9375 56 38.28125 53.609375 \nQ 42.625 51.21875 45.40625 46.390625 \nL 45.40625 54.6875 \nL 54.390625 54.6875 \nz\n\" id=\"DejaVuSans-103\"/>\n      <path d=\"M 34.28125 27.484375 \nQ 23.390625 27.484375 19.1875 25 \nQ 14.984375 22.515625 14.984375 16.5 \nQ 14.984375 11.71875 18.140625 8.90625 \nQ 21.296875 6.109375 26.703125 6.109375 \nQ 34.1875 6.109375 38.703125 11.40625 \nQ 43.21875 16.703125 43.21875 25.484375 \nL 43.21875 27.484375 \nz\nM 52.203125 31.203125 \nL 52.203125 0 \nL 43.21875 0 \nL 43.21875 8.296875 \nQ 40.140625 3.328125 35.546875 0.953125 \nQ 30.953125 -1.421875 24.3125 -1.421875 \nQ 15.921875 -1.421875 10.953125 3.296875 \nQ 6 8.015625 6 15.921875 \nQ 6 25.140625 12.171875 29.828125 \nQ 18.359375 34.515625 30.609375 34.515625 \nL 43.21875 34.515625 \nL 43.21875 35.40625 \nQ 43.21875 41.609375 39.140625 45 \nQ 35.0625 48.390625 27.6875 48.390625 \nQ 23 48.390625 18.546875 47.265625 \nQ 14.109375 46.140625 10.015625 43.890625 \nL 10.015625 52.203125 \nQ 14.9375 54.109375 19.578125 55.046875 \nQ 24.21875 56 28.609375 56 \nQ 40.484375 56 46.34375 49.84375 \nQ 52.203125 43.703125 52.203125 31.203125 \nz\n\" id=\"DejaVuSans-97\"/>\n      <path d=\"M 2.984375 54.6875 \nL 12.5 54.6875 \nL 29.59375 8.796875 \nL 46.6875 54.6875 \nL 56.203125 54.6875 \nL 35.6875 0 \nL 23.484375 0 \nz\n\" id=\"DejaVuSans-118\"/>\n      <path d=\"M 56.203125 29.59375 \nL 56.203125 25.203125 \nL 14.890625 25.203125 \nQ 15.484375 15.921875 20.484375 11.0625 \nQ 25.484375 6.203125 34.421875 6.203125 \nQ 39.59375 6.203125 44.453125 7.46875 \nQ 49.3125 8.734375 54.109375 11.28125 \nL 54.109375 2.78125 \nQ 49.265625 0.734375 44.1875 -0.34375 \nQ 39.109375 -1.421875 33.890625 -1.421875 \nQ 20.796875 -1.421875 13.15625 6.1875 \nQ 5.515625 13.8125 5.515625 26.8125 \nQ 5.515625 40.234375 12.765625 48.109375 \nQ 20.015625 56 32.328125 56 \nQ 43.359375 56 49.78125 48.890625 \nQ 56.203125 41.796875 56.203125 29.59375 \nz\nM 47.21875 32.234375 \nQ 47.125 39.59375 43.09375 43.984375 \nQ 39.0625 48.390625 32.421875 48.390625 \nQ 24.90625 48.390625 20.390625 44.140625 \nQ 15.875 39.890625 15.1875 32.171875 \nz\n\" id=\"DejaVuSans-101\"/>\n      <path id=\"DejaVuSans-32\"/>\n      <path d=\"M 10.6875 12.40625 \nL 21 12.40625 \nL 21 0 \nL 10.6875 0 \nz\n\" id=\"DejaVuSans-46\"/>\n      <path d=\"M 48.6875 27.296875 \nQ 48.6875 37.203125 44.609375 42.84375 \nQ 40.53125 48.484375 33.40625 48.484375 \nQ 26.265625 48.484375 22.1875 42.84375 \nQ 18.109375 37.203125 18.109375 27.296875 \nQ 18.109375 17.390625 22.1875 11.75 \nQ 26.265625 6.109375 33.40625 6.109375 \nQ 40.53125 6.109375 44.609375 11.75 \nQ 48.6875 17.390625 48.6875 27.296875 \nz\nM 18.109375 46.390625 \nQ 20.953125 51.265625 25.265625 53.625 \nQ 29.59375 56 35.59375 56 \nQ 45.5625 56 51.78125 48.09375 \nQ 58.015625 40.1875 58.015625 27.296875 \nQ 58.015625 14.40625 51.78125 6.484375 \nQ 45.5625 -1.421875 35.59375 -1.421875 \nQ 29.59375 -1.421875 25.265625 0.953125 \nQ 20.953125 3.328125 18.109375 8.203125 \nL 18.109375 0 \nL 9.078125 0 \nL 9.078125 75.984375 \nL 18.109375 75.984375 \nz\n\" id=\"DejaVuSans-98\"/>\n      <path d=\"M 8.015625 75.875 \nL 15.828125 75.875 \nQ 23.140625 64.359375 26.78125 53.3125 \nQ 30.421875 42.28125 30.421875 31.390625 \nQ 30.421875 20.453125 26.78125 9.375 \nQ 23.140625 -1.703125 15.828125 -13.1875 \nL 8.015625 -13.1875 \nQ 14.5 -2 17.703125 9.0625 \nQ 20.90625 20.125 20.90625 31.390625 \nQ 20.90625 42.671875 17.703125 53.65625 \nQ 14.5 64.65625 8.015625 75.875 \nz\n\" id=\"DejaVuSans-41\"/>\n     </defs>\n     <use xlink:href=\"#DejaVuSans-79\"/>\n     <use x=\"78.710938\" xlink:href=\"#DejaVuSans-112\"/>\n     <use x=\"142.1875\" xlink:href=\"#DejaVuSans-112\"/>\n     <use x=\"205.664062\" xlink:href=\"#DejaVuSans-103\"/>\n     <use x=\"269.140625\" xlink:href=\"#DejaVuSans-97\"/>\n     <use x=\"330.419922\" xlink:href=\"#DejaVuSans-118\"/>\n     <use x=\"389.599609\" xlink:href=\"#DejaVuSans-101\"/>\n     <use x=\"451.123047\" xlink:href=\"#DejaVuSans-32\"/>\n     <use x=\"482.910156\" xlink:href=\"#DejaVuSans-49\"/>\n     <use x=\"546.533203\" xlink:href=\"#DejaVuSans-46\"/>\n     <use x=\"578.320312\" xlink:href=\"#DejaVuSans-49\"/>\n     <use x=\"641.943359\" xlink:href=\"#DejaVuSans-52\"/>\n     <use x=\"705.566406\" xlink:href=\"#DejaVuSans-32\"/>\n     <use x=\"737.353516\" xlink:href=\"#DejaVuSans-98\"/>\n     <use x=\"800.830078\" xlink:href=\"#DejaVuSans-41\"/>\n    </g>\n   </g>\n  </g>\n </g>\n <defs>\n  <clipPath id=\"pae4fd18efd\">\n   <rect height=\"217.44\" width=\"334.8\" x=\"7.2\" y=\"22.318125\"/>\n  </clipPath>\n </defs>\n</svg>\n",
      "image/png": "[encoded data removed]"
     },
     "metadata": {
      "needs_background": "light"
     }
    },
    {
     "output_type": "display_data",
     "data": {
      "text/plain": "<Figure size 432x288 with 1 Axes>",
      "image/svg+xml": "<?xml version=\"1.0\" encoding=\"utf-8\" standalone=\"no\"?>\n<!DOCTYPE svg PUBLIC \"-//W3C//DTD SVG 1.1//EN\"\n  \"http://www.w3.org/Graphics/SVG/1.1/DTD/svg11.dtd\">\n<!-- Created with matplotlib (https://matplotlib.org/) -->\n<svg height=\"246.958125pt\" version=\"1.1\" viewBox=\"0 0 223.597294 246.958125\" width=\"223.597294pt\" xmlns=\"http://www.w3.org/2000/svg\" xmlns:xlink=\"http://www.w3.org/1999/xlink\">\n <metadata>\n  <rdf:RDF xmlns:cc=\"http://creativecommons.org/ns#\" xmlns:dc=\"http://purl.org/dc/elements/1.1/\" xmlns:rdf=\"http://www.w3.org/1999/02/22-rdf-syntax-ns#\">\n   <cc:Work>\n    <dc:type rdf:resource=\"http://purl.org/dc/dcmitype/StillImage\"/>\n    <dc:date>2020-08-11T10:51:43.811698</dc:date>\n    <dc:format>image/svg+xml</dc:format>\n    <dc:creator>\n     <cc:Agent>\n      <dc:title>Matplotlib v3.3.0, https://matplotlib.org/</dc:title>\n     </cc:Agent>\n    </dc:creator>\n   </cc:Work>\n  </rdf:RDF>\n </metadata>\n <defs>\n  <style type=\"text/css\">*{stroke-linecap:butt;stroke-linejoin:round;}</style>\n </defs>\n <g id=\"figure_1\">\n  <g id=\"patch_1\">\n   <path d=\"M 0 246.958125 \nL 223.597294 246.958125 \nL 223.597294 0 \nL 0 0 \nz\n\" style=\"fill:none;\"/>\n  </g>\n  <g id=\"axes_1\">\n   <g id=\"patch_2\">\n    <path d=\"M 206.888326 126.795016 \nC 206.888326 107.142409 200.663959 87.985776 189.112446 72.086483 \nC 177.560933 56.18719 161.265327 44.34774 142.574587 38.274751 \nC 123.883847 32.201761 103.741371 32.201762 85.050631 38.274752 \nC 66.359891 44.347742 50.064286 56.187193 38.512774 72.086487 \nL 113.812611 126.795016 \nL 206.888326 126.795016 \nz\n\" style=\"fill:#1f77b4;\"/>\n   </g>\n   <g id=\"patch_3\">\n    <path d=\"M 35.636576 80.938513 \nC 27.003421 92.821032 21.30426 106.580026 19.006614 121.086799 \nC 16.708968 135.593571 17.877431 150.440289 22.41615 164.409027 \nC 26.95487 178.377766 34.736247 191.075817 45.12195 201.461519 \nC 55.507653 211.84722 68.205707 219.628595 82.174446 224.167312 \nC 96.143185 228.706028 110.989903 229.874489 125.496675 227.57684 \nC 140.003447 225.279191 153.76244 219.580027 165.644957 210.94687 \nC 177.527475 202.313713 187.199461 190.989269 193.86749 177.90252 \nC 200.535519 164.81577 204.012131 150.334626 204.012129 135.647026 \nL 110.936413 135.647043 \nL 35.636576 80.938513 \nz\n\" style=\"fill:#ff7f0e;\"/>\n   </g>\n   <g id=\"matplotlib.axis_1\"/>\n   <g id=\"matplotlib.axis_2\"/>\n   <g id=\"text_1\">\n    <!-- Oppgave 1.14 c) -->\n    <g transform=\"translate(61.91521 16.318125)scale(0.12 -0.12)\">\n     <defs>\n      <path d=\"M 39.40625 66.21875 \nQ 28.65625 66.21875 22.328125 58.203125 \nQ 16.015625 50.203125 16.015625 36.375 \nQ 16.015625 22.609375 22.328125 14.59375 \nQ 28.65625 6.59375 39.40625 6.59375 \nQ 50.140625 6.59375 56.421875 14.59375 \nQ 62.703125 22.609375 62.703125 36.375 \nQ 62.703125 50.203125 56.421875 58.203125 \nQ 50.140625 66.21875 39.40625 66.21875 \nz\nM 39.40625 74.21875 \nQ 54.734375 74.21875 63.90625 63.9375 \nQ 73.09375 53.65625 73.09375 36.375 \nQ 73.09375 19.140625 63.90625 8.859375 \nQ 54.734375 -1.421875 39.40625 -1.421875 \nQ 24.03125 -1.421875 14.8125 8.828125 \nQ 5.609375 19.09375 5.609375 36.375 \nQ 5.609375 53.65625 14.8125 63.9375 \nQ 24.03125 74.21875 39.40625 74.21875 \nz\n\" id=\"DejaVuSans-79\"/>\n      <path d=\"M 18.109375 8.203125 \nL 18.109375 -20.796875 \nL 9.078125 -20.796875 \nL 9.078125 54.6875 \nL 18.109375 54.6875 \nL 18.109375 46.390625 \nQ 20.953125 51.265625 25.265625 53.625 \nQ 29.59375 56 35.59375 56 \nQ 45.5625 56 51.78125 48.09375 \nQ 58.015625 40.1875 58.015625 27.296875 \nQ 58.015625 14.40625 51.78125 6.484375 \nQ 45.5625 -1.421875 35.59375 -1.421875 \nQ 29.59375 -1.421875 25.265625 0.953125 \nQ 20.953125 3.328125 18.109375 8.203125 \nz\nM 48.6875 27.296875 \nQ 48.6875 37.203125 44.609375 42.84375 \nQ 40.53125 48.484375 33.40625 48.484375 \nQ 26.265625 48.484375 22.1875 42.84375 \nQ 18.109375 37.203125 18.109375 27.296875 \nQ 18.109375 17.390625 22.1875 11.75 \nQ 26.265625 6.109375 33.40625 6.109375 \nQ 40.53125 6.109375 44.609375 11.75 \nQ 48.6875 17.390625 48.6875 27.296875 \nz\n\" id=\"DejaVuSans-112\"/>\n      <path d=\"M 45.40625 27.984375 \nQ 45.40625 37.75 41.375 43.109375 \nQ 37.359375 48.484375 30.078125 48.484375 \nQ 22.859375 48.484375 18.828125 43.109375 \nQ 14.796875 37.75 14.796875 27.984375 \nQ 14.796875 18.265625 18.828125 12.890625 \nQ 22.859375 7.515625 30.078125 7.515625 \nQ 37.359375 7.515625 41.375 12.890625 \nQ 45.40625 18.265625 45.40625 27.984375 \nz\nM 54.390625 6.78125 \nQ 54.390625 -7.171875 48.1875 -13.984375 \nQ 42 -20.796875 29.203125 -20.796875 \nQ 24.46875 -20.796875 20.265625 -20.09375 \nQ 16.0625 -19.390625 12.109375 -17.921875 \nL 12.109375 -9.1875 \nQ 16.0625 -11.328125 19.921875 -12.34375 \nQ 23.78125 -13.375 27.78125 -13.375 \nQ 36.625 -13.375 41.015625 -8.765625 \nQ 45.40625 -4.15625 45.40625 5.171875 \nL 45.40625 9.625 \nQ 42.625 4.78125 38.28125 2.390625 \nQ 33.9375 0 27.875 0 \nQ 17.828125 0 11.671875 7.65625 \nQ 5.515625 15.328125 5.515625 27.984375 \nQ 5.515625 40.671875 11.671875 48.328125 \nQ 17.828125 56 27.875 56 \nQ 33.9375 56 38.28125 53.609375 \nQ 42.625 51.21875 45.40625 46.390625 \nL 45.40625 54.6875 \nL 54.390625 54.6875 \nz\n\" id=\"DejaVuSans-103\"/>\n      <path d=\"M 34.28125 27.484375 \nQ 23.390625 27.484375 19.1875 25 \nQ 14.984375 22.515625 14.984375 16.5 \nQ 14.984375 11.71875 18.140625 8.90625 \nQ 21.296875 6.109375 26.703125 6.109375 \nQ 34.1875 6.109375 38.703125 11.40625 \nQ 43.21875 16.703125 43.21875 25.484375 \nL 43.21875 27.484375 \nz\nM 52.203125 31.203125 \nL 52.203125 0 \nL 43.21875 0 \nL 43.21875 8.296875 \nQ 40.140625 3.328125 35.546875 0.953125 \nQ 30.953125 -1.421875 24.3125 -1.421875 \nQ 15.921875 -1.421875 10.953125 3.296875 \nQ 6 8.015625 6 15.921875 \nQ 6 25.140625 12.171875 29.828125 \nQ 18.359375 34.515625 30.609375 34.515625 \nL 43.21875 34.515625 \nL 43.21875 35.40625 \nQ 43.21875 41.609375 39.140625 45 \nQ 35.0625 48.390625 27.6875 48.390625 \nQ 23 48.390625 18.546875 47.265625 \nQ 14.109375 46.140625 10.015625 43.890625 \nL 10.015625 52.203125 \nQ 14.9375 54.109375 19.578125 55.046875 \nQ 24.21875 56 28.609375 56 \nQ 40.484375 56 46.34375 49.84375 \nQ 52.203125 43.703125 52.203125 31.203125 \nz\n\" id=\"DejaVuSans-97\"/>\n      <path d=\"M 2.984375 54.6875 \nL 12.5 54.6875 \nL 29.59375 8.796875 \nL 46.6875 54.6875 \nL 56.203125 54.6875 \nL 35.6875 0 \nL 23.484375 0 \nz\n\" id=\"DejaVuSans-118\"/>\n      <path d=\"M 56.203125 29.59375 \nL 56.203125 25.203125 \nL 14.890625 25.203125 \nQ 15.484375 15.921875 20.484375 11.0625 \nQ 25.484375 6.203125 34.421875 6.203125 \nQ 39.59375 6.203125 44.453125 7.46875 \nQ 49.3125 8.734375 54.109375 11.28125 \nL 54.109375 2.78125 \nQ 49.265625 0.734375 44.1875 -0.34375 \nQ 39.109375 -1.421875 33.890625 -1.421875 \nQ 20.796875 -1.421875 13.15625 6.1875 \nQ 5.515625 13.8125 5.515625 26.8125 \nQ 5.515625 40.234375 12.765625 48.109375 \nQ 20.015625 56 32.328125 56 \nQ 43.359375 56 49.78125 48.890625 \nQ 56.203125 41.796875 56.203125 29.59375 \nz\nM 47.21875 32.234375 \nQ 47.125 39.59375 43.09375 43.984375 \nQ 39.0625 48.390625 32.421875 48.390625 \nQ 24.90625 48.390625 20.390625 44.140625 \nQ 15.875 39.890625 15.1875 32.171875 \nz\n\" id=\"DejaVuSans-101\"/>\n      <path id=\"DejaVuSans-32\"/>\n      <path d=\"M 12.40625 8.296875 \nL 28.515625 8.296875 \nL 28.515625 63.921875 \nL 10.984375 60.40625 \nL 10.984375 69.390625 \nL 28.421875 72.90625 \nL 38.28125 72.90625 \nL 38.28125 8.296875 \nL 54.390625 8.296875 \nL 54.390625 0 \nL 12.40625 0 \nz\n\" id=\"DejaVuSans-49\"/>\n      <path d=\"M 10.6875 12.40625 \nL 21 12.40625 \nL 21 0 \nL 10.6875 0 \nz\n\" id=\"DejaVuSans-46\"/>\n      <path d=\"M 37.796875 64.3125 \nL 12.890625 25.390625 \nL 37.796875 25.390625 \nz\nM 35.203125 72.90625 \nL 47.609375 72.90625 \nL 47.609375 25.390625 \nL 58.015625 25.390625 \nL 58.015625 17.1875 \nL 47.609375 17.1875 \nL 47.609375 0 \nL 37.796875 0 \nL 37.796875 17.1875 \nL 4.890625 17.1875 \nL 4.890625 26.703125 \nz\n\" id=\"DejaVuSans-52\"/>\n      <path d=\"M 48.78125 52.59375 \nL 48.78125 44.1875 \nQ 44.96875 46.296875 41.140625 47.34375 \nQ 37.3125 48.390625 33.40625 48.390625 \nQ 24.65625 48.390625 19.8125 42.84375 \nQ 14.984375 37.3125 14.984375 27.296875 \nQ 14.984375 17.28125 19.8125 11.734375 \nQ 24.65625 6.203125 33.40625 6.203125 \nQ 37.3125 6.203125 41.140625 7.25 \nQ 44.96875 8.296875 48.78125 10.40625 \nL 48.78125 2.09375 \nQ 45.015625 0.34375 40.984375 -0.53125 \nQ 36.96875 -1.421875 32.421875 -1.421875 \nQ 20.0625 -1.421875 12.78125 6.34375 \nQ 5.515625 14.109375 5.515625 27.296875 \nQ 5.515625 40.671875 12.859375 48.328125 \nQ 20.21875 56 33.015625 56 \nQ 37.15625 56 41.109375 55.140625 \nQ 45.0625 54.296875 48.78125 52.59375 \nz\n\" id=\"DejaVuSans-99\"/>\n      <path d=\"M 8.015625 75.875 \nL 15.828125 75.875 \nQ 23.140625 64.359375 26.78125 53.3125 \nQ 30.421875 42.28125 30.421875 31.390625 \nQ 30.421875 20.453125 26.78125 9.375 \nQ 23.140625 -1.703125 15.828125 -13.1875 \nL 8.015625 -13.1875 \nQ 14.5 -2 17.703125 9.0625 \nQ 20.90625 20.125 20.90625 31.390625 \nQ 20.90625 42.671875 17.703125 53.65625 \nQ 14.5 64.65625 8.015625 75.875 \nz\n\" id=\"DejaVuSans-41\"/>\n     </defs>\n     <use xlink:href=\"#DejaVuSans-79\"/>\n     <use x=\"78.710938\" xlink:href=\"#DejaVuSans-112\"/>\n     <use x=\"142.1875\" xlink:href=\"#DejaVuSans-112\"/>\n     <use x=\"205.664062\" xlink:href=\"#DejaVuSans-103\"/>\n     <use x=\"269.140625\" xlink:href=\"#DejaVuSans-97\"/>\n     <use x=\"330.419922\" xlink:href=\"#DejaVuSans-118\"/>\n     <use x=\"389.599609\" xlink:href=\"#DejaVuSans-101\"/>\n     <use x=\"451.123047\" xlink:href=\"#DejaVuSans-32\"/>\n     <use x=\"482.910156\" xlink:href=\"#DejaVuSans-49\"/>\n     <use x=\"546.533203\" xlink:href=\"#DejaVuSans-46\"/>\n     <use x=\"578.320312\" xlink:href=\"#DejaVuSans-49\"/>\n     <use x=\"641.943359\" xlink:href=\"#DejaVuSans-52\"/>\n     <use x=\"705.566406\" xlink:href=\"#DejaVuSans-32\"/>\n     <use x=\"737.353516\" xlink:href=\"#DejaVuSans-99\"/>\n     <use x=\"792.333984\" xlink:href=\"#DejaVuSans-41\"/>\n    </g>\n   </g>\n  </g>\n </g>\n</svg>\n",
      "image/png": "[encoded data removed]"
     },
     "metadata": {}
    },
    {
     "output_type": "display_data",
     "data": {
      "text/plain": "<Figure size 432x288 with 1 Axes>",
      "image/svg+xml": "<?xml version=\"1.0\" encoding=\"utf-8\" standalone=\"no\"?>\n<!DOCTYPE svg PUBLIC \"-//W3C//DTD SVG 1.1//EN\"\n  \"http://www.w3.org/Graphics/SVG/1.1/DTD/svg11.dtd\">\n<!-- Created with matplotlib (https://matplotlib.org/) -->\n<svg height=\"246.958125pt\" version=\"1.1\" viewBox=\"0 0 241.402165 246.958125\" width=\"241.402165pt\" xmlns=\"http://www.w3.org/2000/svg\" xmlns:xlink=\"http://www.w3.org/1999/xlink\">\n <metadata>\n  <rdf:RDF xmlns:cc=\"http://creativecommons.org/ns#\" xmlns:dc=\"http://purl.org/dc/elements/1.1/\" xmlns:rdf=\"http://www.w3.org/1999/02/22-rdf-syntax-ns#\">\n   <cc:Work>\n    <dc:type rdf:resource=\"http://purl.org/dc/dcmitype/StillImage\"/>\n    <dc:date>2020-08-11T10:51:43.955196</dc:date>\n    <dc:format>image/svg+xml</dc:format>\n    <dc:creator>\n     <cc:Agent>\n      <dc:title>Matplotlib v3.3.0, https://matplotlib.org/</dc:title>\n     </cc:Agent>\n    </dc:creator>\n   </cc:Work>\n  </rdf:RDF>\n </metadata>\n <defs>\n  <style type=\"text/css\">*{stroke-linecap:butt;stroke-linejoin:round;}</style>\n </defs>\n <g id=\"figure_1\">\n  <g id=\"patch_1\">\n   <path d=\"M 0 246.958125 \nL 241.402165 246.958125 \nL 241.402165 0 \nL 0 0 \nz\n\" style=\"fill:none;\"/>\n  </g>\n  <g id=\"axes_1\">\n   <g id=\"patch_2\">\n    <path d=\"M 223.883885 126.676789 \nC 223.883885 112.306364 220.736363 98.108807 214.663158 85.084779 \nC 208.589954 72.060751 199.737182 60.523595 188.728798 51.286465 \nL 125.468809 126.676789 \nL 223.883885 126.676789 \nz\n\" style=\"fill:#1f77b4;\"/>\n   </g>\n   <g id=\"patch_3\">\n    <path d=\"M 179.809363 55.445666 \nC 171.291234 48.298107 161.623011 42.645625 151.216086 38.728736 \nC 140.809161 34.811847 129.813265 32.686907 118.696285 32.444334 \nC 107.579304 32.201761 96.501185 33.845045 85.933313 37.304263 \nC 75.365441 40.763481 65.459863 45.988862 56.63807 52.758063 \nC 47.816277 59.527263 40.205194 67.742889 34.12868 77.055359 \nC 28.052167 86.367828 23.597649 96.643156 20.954671 107.444117 \nC 18.311692 118.245079 17.51828 129.416274 18.608195 140.482357 \nC 19.698109 151.54844 22.655668 162.350196 27.355026 172.428 \nC 32.054384 182.505805 38.427927 191.714661 46.204455 199.662725 \nC 53.980983 207.610788 63.048611 214.183704 73.021501 219.10179 \nC 82.994392 224.019875 93.729058 227.212369 104.768732 228.543429 \nC 115.808405 229.874489 126.994249 229.324963 137.850297 226.918235 \nC 148.706344 224.511507 159.076401 220.282204 168.519213 214.410287 \nC 177.962024 208.538369 186.34173 201.10832 193.301765 192.436296 \nC 200.261801 183.764271 205.702028 173.975041 209.390959 163.485146 \nC 213.07989 152.995251 214.96445 141.955617 214.96445 130.83599 \nL 116.549375 130.83599 \nL 179.809363 55.445666 \nz\n\" style=\"fill:#ff7f0e;\"/>\n   </g>\n   <g id=\"matplotlib.axis_1\"/>\n   <g id=\"matplotlib.axis_2\"/>\n   <g id=\"text_1\">\n    <!-- Oppgave 1.14 d) -->\n    <g transform=\"translate(70.307645 16.318125)scale(0.12 -0.12)\">\n     <defs>\n      <path d=\"M 39.40625 66.21875 \nQ 28.65625 66.21875 22.328125 58.203125 \nQ 16.015625 50.203125 16.015625 36.375 \nQ 16.015625 22.609375 22.328125 14.59375 \nQ 28.65625 6.59375 39.40625 6.59375 \nQ 50.140625 6.59375 56.421875 14.59375 \nQ 62.703125 22.609375 62.703125 36.375 \nQ 62.703125 50.203125 56.421875 58.203125 \nQ 50.140625 66.21875 39.40625 66.21875 \nz\nM 39.40625 74.21875 \nQ 54.734375 74.21875 63.90625 63.9375 \nQ 73.09375 53.65625 73.09375 36.375 \nQ 73.09375 19.140625 63.90625 8.859375 \nQ 54.734375 -1.421875 39.40625 -1.421875 \nQ 24.03125 -1.421875 14.8125 8.828125 \nQ 5.609375 19.09375 5.609375 36.375 \nQ 5.609375 53.65625 14.8125 63.9375 \nQ 24.03125 74.21875 39.40625 74.21875 \nz\n\" id=\"DejaVuSans-79\"/>\n      <path d=\"M 18.109375 8.203125 \nL 18.109375 -20.796875 \nL 9.078125 -20.796875 \nL 9.078125 54.6875 \nL 18.109375 54.6875 \nL 18.109375 46.390625 \nQ 20.953125 51.265625 25.265625 53.625 \nQ 29.59375 56 35.59375 56 \nQ 45.5625 56 51.78125 48.09375 \nQ 58.015625 40.1875 58.015625 27.296875 \nQ 58.015625 14.40625 51.78125 6.484375 \nQ 45.5625 -1.421875 35.59375 -1.421875 \nQ 29.59375 -1.421875 25.265625 0.953125 \nQ 20.953125 3.328125 18.109375 8.203125 \nz\nM 48.6875 27.296875 \nQ 48.6875 37.203125 44.609375 42.84375 \nQ 40.53125 48.484375 33.40625 48.484375 \nQ 26.265625 48.484375 22.1875 42.84375 \nQ 18.109375 37.203125 18.109375 27.296875 \nQ 18.109375 17.390625 22.1875 11.75 \nQ 26.265625 6.109375 33.40625 6.109375 \nQ 40.53125 6.109375 44.609375 11.75 \nQ 48.6875 17.390625 48.6875 27.296875 \nz\n\" id=\"DejaVuSans-112\"/>\n      <path d=\"M 45.40625 27.984375 \nQ 45.40625 37.75 41.375 43.109375 \nQ 37.359375 48.484375 30.078125 48.484375 \nQ 22.859375 48.484375 18.828125 43.109375 \nQ 14.796875 37.75 14.796875 27.984375 \nQ 14.796875 18.265625 18.828125 12.890625 \nQ 22.859375 7.515625 30.078125 7.515625 \nQ 37.359375 7.515625 41.375 12.890625 \nQ 45.40625 18.265625 45.40625 27.984375 \nz\nM 54.390625 6.78125 \nQ 54.390625 -7.171875 48.1875 -13.984375 \nQ 42 -20.796875 29.203125 -20.796875 \nQ 24.46875 -20.796875 20.265625 -20.09375 \nQ 16.0625 -19.390625 12.109375 -17.921875 \nL 12.109375 -9.1875 \nQ 16.0625 -11.328125 19.921875 -12.34375 \nQ 23.78125 -13.375 27.78125 -13.375 \nQ 36.625 -13.375 41.015625 -8.765625 \nQ 45.40625 -4.15625 45.40625 5.171875 \nL 45.40625 9.625 \nQ 42.625 4.78125 38.28125 2.390625 \nQ 33.9375 0 27.875 0 \nQ 17.828125 0 11.671875 7.65625 \nQ 5.515625 15.328125 5.515625 27.984375 \nQ 5.515625 40.671875 11.671875 48.328125 \nQ 17.828125 56 27.875 56 \nQ 33.9375 56 38.28125 53.609375 \nQ 42.625 51.21875 45.40625 46.390625 \nL 45.40625 54.6875 \nL 54.390625 54.6875 \nz\n\" id=\"DejaVuSans-103\"/>\n      <path d=\"M 34.28125 27.484375 \nQ 23.390625 27.484375 19.1875 25 \nQ 14.984375 22.515625 14.984375 16.5 \nQ 14.984375 11.71875 18.140625 8.90625 \nQ 21.296875 6.109375 26.703125 6.109375 \nQ 34.1875 6.109375 38.703125 11.40625 \nQ 43.21875 16.703125 43.21875 25.484375 \nL 43.21875 27.484375 \nz\nM 52.203125 31.203125 \nL 52.203125 0 \nL 43.21875 0 \nL 43.21875 8.296875 \nQ 40.140625 3.328125 35.546875 0.953125 \nQ 30.953125 -1.421875 24.3125 -1.421875 \nQ 15.921875 -1.421875 10.953125 3.296875 \nQ 6 8.015625 6 15.921875 \nQ 6 25.140625 12.171875 29.828125 \nQ 18.359375 34.515625 30.609375 34.515625 \nL 43.21875 34.515625 \nL 43.21875 35.40625 \nQ 43.21875 41.609375 39.140625 45 \nQ 35.0625 48.390625 27.6875 48.390625 \nQ 23 48.390625 18.546875 47.265625 \nQ 14.109375 46.140625 10.015625 43.890625 \nL 10.015625 52.203125 \nQ 14.9375 54.109375 19.578125 55.046875 \nQ 24.21875 56 28.609375 56 \nQ 40.484375 56 46.34375 49.84375 \nQ 52.203125 43.703125 52.203125 31.203125 \nz\n\" id=\"DejaVuSans-97\"/>\n      <path d=\"M 2.984375 54.6875 \nL 12.5 54.6875 \nL 29.59375 8.796875 \nL 46.6875 54.6875 \nL 56.203125 54.6875 \nL 35.6875 0 \nL 23.484375 0 \nz\n\" id=\"DejaVuSans-118\"/>\n      <path d=\"M 56.203125 29.59375 \nL 56.203125 25.203125 \nL 14.890625 25.203125 \nQ 15.484375 15.921875 20.484375 11.0625 \nQ 25.484375 6.203125 34.421875 6.203125 \nQ 39.59375 6.203125 44.453125 7.46875 \nQ 49.3125 8.734375 54.109375 11.28125 \nL 54.109375 2.78125 \nQ 49.265625 0.734375 44.1875 -0.34375 \nQ 39.109375 -1.421875 33.890625 -1.421875 \nQ 20.796875 -1.421875 13.15625 6.1875 \nQ 5.515625 13.8125 5.515625 26.8125 \nQ 5.515625 40.234375 12.765625 48.109375 \nQ 20.015625 56 32.328125 56 \nQ 43.359375 56 49.78125 48.890625 \nQ 56.203125 41.796875 56.203125 29.59375 \nz\nM 47.21875 32.234375 \nQ 47.125 39.59375 43.09375 43.984375 \nQ 39.0625 48.390625 32.421875 48.390625 \nQ 24.90625 48.390625 20.390625 44.140625 \nQ 15.875 39.890625 15.1875 32.171875 \nz\n\" id=\"DejaVuSans-101\"/>\n      <path id=\"DejaVuSans-32\"/>\n      <path d=\"M 12.40625 8.296875 \nL 28.515625 8.296875 \nL 28.515625 63.921875 \nL 10.984375 60.40625 \nL 10.984375 69.390625 \nL 28.421875 72.90625 \nL 38.28125 72.90625 \nL 38.28125 8.296875 \nL 54.390625 8.296875 \nL 54.390625 0 \nL 12.40625 0 \nz\n\" id=\"DejaVuSans-49\"/>\n      <path d=\"M 10.6875 12.40625 \nL 21 12.40625 \nL 21 0 \nL 10.6875 0 \nz\n\" id=\"DejaVuSans-46\"/>\n      <path d=\"M 37.796875 64.3125 \nL 12.890625 25.390625 \nL 37.796875 25.390625 \nz\nM 35.203125 72.90625 \nL 47.609375 72.90625 \nL 47.609375 25.390625 \nL 58.015625 25.390625 \nL 58.015625 17.1875 \nL 47.609375 17.1875 \nL 47.609375 0 \nL 37.796875 0 \nL 37.796875 17.1875 \nL 4.890625 17.1875 \nL 4.890625 26.703125 \nz\n\" id=\"DejaVuSans-52\"/>\n      <path d=\"M 45.40625 46.390625 \nL 45.40625 75.984375 \nL 54.390625 75.984375 \nL 54.390625 0 \nL 45.40625 0 \nL 45.40625 8.203125 \nQ 42.578125 3.328125 38.25 0.953125 \nQ 33.9375 -1.421875 27.875 -1.421875 \nQ 17.96875 -1.421875 11.734375 6.484375 \nQ 5.515625 14.40625 5.515625 27.296875 \nQ 5.515625 40.1875 11.734375 48.09375 \nQ 17.96875 56 27.875 56 \nQ 33.9375 56 38.25 53.625 \nQ 42.578125 51.265625 45.40625 46.390625 \nz\nM 14.796875 27.296875 \nQ 14.796875 17.390625 18.875 11.75 \nQ 22.953125 6.109375 30.078125 6.109375 \nQ 37.203125 6.109375 41.296875 11.75 \nQ 45.40625 17.390625 45.40625 27.296875 \nQ 45.40625 37.203125 41.296875 42.84375 \nQ 37.203125 48.484375 30.078125 48.484375 \nQ 22.953125 48.484375 18.875 42.84375 \nQ 14.796875 37.203125 14.796875 27.296875 \nz\n\" id=\"DejaVuSans-100\"/>\n      <path d=\"M 8.015625 75.875 \nL 15.828125 75.875 \nQ 23.140625 64.359375 26.78125 53.3125 \nQ 30.421875 42.28125 30.421875 31.390625 \nQ 30.421875 20.453125 26.78125 9.375 \nQ 23.140625 -1.703125 15.828125 -13.1875 \nL 8.015625 -13.1875 \nQ 14.5 -2 17.703125 9.0625 \nQ 20.90625 20.125 20.90625 31.390625 \nQ 20.90625 42.671875 17.703125 53.65625 \nQ 14.5 64.65625 8.015625 75.875 \nz\n\" id=\"DejaVuSans-41\"/>\n     </defs>\n     <use xlink:href=\"#DejaVuSans-79\"/>\n     <use x=\"78.710938\" xlink:href=\"#DejaVuSans-112\"/>\n     <use x=\"142.1875\" xlink:href=\"#DejaVuSans-112\"/>\n     <use x=\"205.664062\" xlink:href=\"#DejaVuSans-103\"/>\n     <use x=\"269.140625\" xlink:href=\"#DejaVuSans-97\"/>\n     <use x=\"330.419922\" xlink:href=\"#DejaVuSans-118\"/>\n     <use x=\"389.599609\" xlink:href=\"#DejaVuSans-101\"/>\n     <use x=\"451.123047\" xlink:href=\"#DejaVuSans-32\"/>\n     <use x=\"482.910156\" xlink:href=\"#DejaVuSans-49\"/>\n     <use x=\"546.533203\" xlink:href=\"#DejaVuSans-46\"/>\n     <use x=\"578.320312\" xlink:href=\"#DejaVuSans-49\"/>\n     <use x=\"641.943359\" xlink:href=\"#DejaVuSans-52\"/>\n     <use x=\"705.566406\" xlink:href=\"#DejaVuSans-32\"/>\n     <use x=\"737.353516\" xlink:href=\"#DejaVuSans-100\"/>\n     <use x=\"800.830078\" xlink:href=\"#DejaVuSans-41\"/>\n    </g>\n   </g>\n  </g>\n </g>\n</svg>\n",
      "image/png": "[encoded data removed]"
     },
     "metadata": {}
    }
   ],
   "source": [
    "plot.title('Oppgave 1.14 a)')\n",
    "plot.pie([1/3, 1 - 1/3], (0.1, 0))\n",
    "plot.axis('image')\n",
    "plot.show()\n",
    "\n",
    "plot.title('Oppgave 1.14 b)')\n",
    "a = [0, 1, 2]\n",
    "b = [4/3]\n",
    "plot.hlines(1,0,2)  # Draw a horizontal line\n",
    "plot.eventplot(a, orientation='horizontal', colors='b')\n",
    "plot.eventplot(b, orientation='horizontal', colors='r')\n",
    "plot.text(0, 0, '0')\n",
    "plot.text(1, 0, '1')\n",
    "plot.text(4/3, 0, '4/3')\n",
    "plot.text(2, 0, '2')\n",
    "plot.axis('off')\n",
    "plot.show()\n",
    "\n",
    "plot.title('Oppgave 1.14 c)')\n",
    "plot.pie([2/5, 1 - 2/5], (0.1, 0))\n",
    "plot.axis('image')\n",
    "plot.show()\n",
    "\n",
    "plot.title('Oppgave 1.14 d)')\n",
    "plot.pie([5/36, 1 - 5/36], (0.1, 0))\n",
    "plot.axis('image')\n",
    "plot.show()"
   ]
  },
  {
   "cell_type": "markdown",
   "metadata": {},
   "source": [
    "# 1.15-23-454"
   ]
  },
  {
   "cell_type": "code",
   "execution_count": 16,
   "metadata": {
    "tags": []
   },
   "outputs": [
    {
     "output_type": "stream",
     "name": "stdout",
     "text": "a)\n2/3 - 3/2 = -5/6\nb)\n2/3 * 3/2 = 1\nc)\n2/3 / 3/2 = 4/9\nd)\n3 * 3/2 : 2/3 / 3 = 81/4\n"
    }
   ],
   "source": [
    "print(\"a)\")\n",
    "print(\"2/3 - 3/2 =\", sympy.simplify('2/3 - 3/2'))\n",
    "print(\"b)\")\n",
    "print(\"2/3 * 3/2 =\", sympy.simplify('(2/3) * (3/2)'))\n",
    "print(\"c)\")\n",
    "print(\"2/3 / 3/2 =\", sympy.simplify('(2/3) / (3/2)'))\n",
    "print(\"d)\")\n",
    "print(\"3 * 3/2 : 2/3 / 3 =\", sympy.simplify('3 * (3/2) / ((2/3) / 3)'))"
   ]
  },
  {
   "cell_type": "markdown",
   "metadata": {},
   "source": [
    "# 1.16-23-454"
   ]
  },
  {
   "cell_type": "code",
   "execution_count": 17,
   "metadata": {
    "tags": []
   },
   "outputs": [
    {
     "output_type": "stream",
     "name": "stdout",
     "text": "Marieke har sterkest eplesmak\n"
    }
   ],
   "source": [
    "einar = 3 / (3 + 2)\n",
    "marieke = 2 / (2 + 1)\n",
    "\n",
    "if einar > marieke:\n",
    "    print(\"Einar har sterkest eplesmak\")\n",
    "else:\n",
    "    print(\"Marieke har sterkest eplesmak\")"
   ]
  },
  {
   "cell_type": "markdown",
   "metadata": {},
   "source": [
    "# 1.17-23-454"
   ]
  },
  {
   "cell_type": "code",
   "execution_count": 18,
   "metadata": {
    "tags": []
   },
   "outputs": [
    {
     "output_type": "stream",
     "name": "stdout",
     "text": "a)\n8106479329266893/18014398509481984\nb)\n7656119366529843/9007199254740992\nc)\n15/16\nd)\n8256599316845909/9007199254740992\n"
    }
   ],
   "source": [
    "print('a)')\n",
    "print(sympy.Rational(0.45))\n",
    "print('b)')\n",
    "print(sympy.Rational(0.85))\n",
    "print('c)')\n",
    "print(sympy.Rational((3/4) / (4/5)))\n",
    "print('d)')\n",
    "print(sympy.Rational((11/13) / (12/13)))"
   ]
  },
  {
   "cell_type": "markdown",
   "metadata": {},
   "source": [
    "# 1.18-23-454"
   ]
  },
  {
   "cell_type": "code",
   "execution_count": 19,
   "metadata": {
    "tags": []
   },
   "outputs": [
    {
     "output_type": "stream",
     "name": "stdout",
     "text": "a)\n4.0 spann\nb)\n...\nc)\n12.0 spann\nd)\n...\n"
    }
   ],
   "source": [
    "print('a)')\n",
    "print(8/2, 'spann')\n",
    "\n",
    "print('b)')\n",
    "print('...')\n",
    "\n",
    "print('c)')\n",
    "print(8 / (2/3), 'spann')\n",
    "\n",
    "print('d)')\n",
    "print('...')"
   ]
  },
  {
   "cell_type": "markdown",
   "metadata": {},
   "source": [
    "# 1.19-23-454"
   ]
  },
  {
   "cell_type": "code",
   "execution_count": 20,
   "metadata": {
    "tags": []
   },
   "outputs": [
    {
     "output_type": "stream",
     "name": "stdout",
     "text": "a)\n7 av 10 er kvinner\n3 av 10 er menn\nb)\nDet er  42 kvinner\nDet er  18 menn\nc)\nDet må ansettes  10 menn.\n"
    }
   ],
   "source": [
    "print('a)')\n",
    "kvinner = 7\n",
    "menn = 3\n",
    "totalt = kvinner + menn \n",
    "print(kvinner, 'av', totalt, 'er kvinner')\n",
    "print(menn, 'av', totalt, 'er menn')\n",
    "\n",
    "print('b)')\n",
    "sykepleiere_totalt = 60\n",
    "kvinner_fraksjon = kvinner / totalt\n",
    "kvinner_antall = sykepleiere_totalt * kvinner_fraksjon\n",
    "menn_fraksjon = menn / totalt\n",
    "menn_antall = sykepleiere_totalt * menn_fraksjon\n",
    "print('Det er ', int(kvinner_antall),'kvinner')\n",
    "print('Det er ', int(menn_antall),'menn')\n",
    "\n",
    "print('c)')\n",
    "# tot = m + k\n",
    "# k = 42\n",
    "# k = tot*0.6\n",
    "# 42 = tot*0.6\n",
    "# tot = 42/0.6\n",
    "totalt_antall_ansatte = 42 / 0.6\n",
    "menn_antall_mål = totalt_antall_ansatte - kvinner_antall\n",
    "menn_som_må_ansettes = menn_antall_mål - menn_antall\n",
    "print('Det må ansettes ', int(menn_som_må_ansettes), 'menn.')"
   ]
  },
  {
   "cell_type": "markdown",
   "metadata": {},
   "source": [
    "# 1.20-29-454"
   ]
  },
  {
   "cell_type": "code",
   "execution_count": 21,
   "metadata": {
    "tags": []
   },
   "outputs": [
    {
     "output_type": "stream",
     "name": "stdout",
     "text": "24.1  % av elevene er glade i styrketrening\n"
    }
   ],
   "source": [
    "elever_i_klassen = 29\n",
    "glad_i_styrke = 7\n",
    "prosent = 100 * glad_i_styrke / elever_i_klassen\n",
    "print(round(prosent, 1), ' % av elevene er glade i styrketrening')"
   ]
  },
  {
   "cell_type": "markdown",
   "metadata": {},
   "source": [
    "# 1.21-29-454"
   ]
  },
  {
   "cell_type": "code",
   "execution_count": 22,
   "metadata": {
    "tags": []
   },
   "outputs": [
    {
     "output_type": "stream",
     "name": "stdout",
     "text": "a)\nNedsatt med 30 %: 2800.0\nb)\nØkt med 30 % igjen: 3640.0\n"
    }
   ],
   "source": [
    "pris_opprinnelig = 4000\n",
    "pris_ned = pris_opprinnelig * (1 - 0.3)\n",
    "pris_opp = pris_ned * (1 + 0.3)\n",
    "\n",
    "print('a)')\n",
    "print('Nedsatt med 30 %:', pris_ned)\n",
    "print('b)')\n",
    "print('Økt med 30 % igjen:', pris_opp)"
   ]
  },
  {
   "cell_type": "markdown",
   "metadata": {},
   "source": [
    "# 1.22-29-454"
   ]
  },
  {
   "cell_type": "code",
   "execution_count": 23,
   "metadata": {
    "tags": []
   },
   "outputs": [
    {
     "output_type": "stream",
     "name": "stdout",
     "text": "Sekken kostet opprinnelig  3000.0 kr\n"
    }
   ],
   "source": [
    "rabatt_faktor = 0.15\n",
    "rabatt_sum = 450\n",
    "# rabatt_sum = opprinnelig * rabatt_faktor\n",
    "opprinnelig = rabatt_sum / rabatt_faktor\n",
    "print('Sekken kostet opprinnelig ', opprinnelig, 'kr')"
   ]
  },
  {
   "cell_type": "markdown",
   "metadata": {},
   "source": [
    "# 1.23-29-454"
   ]
  },
  {
   "cell_type": "code",
   "execution_count": 24,
   "metadata": {
    "tags": []
   },
   "outputs": [
    {
     "output_type": "stream",
     "name": "stdout",
     "text": "a)\nEmbrik er  6.8 % høyere enn Sevat\nb)\nSevat er  6.4 % lavere enn Embrik\n"
    }
   ],
   "source": [
    "embrik = 188\n",
    "sevat = 176\n",
    "diff = embrik - sevat\n",
    "\n",
    "print('a)')\n",
    "p_es = 100 * diff / sevat\n",
    "print('Embrik er ', round(p_es, 1), '% høyere enn Sevat')\n",
    "\n",
    "print('b)')\n",
    "p_se = 100 * diff / embrik\n",
    "print('Sevat er ', round(p_se, 1), '% lavere enn Embrik')"
   ]
  },
  {
   "cell_type": "markdown",
   "metadata": {},
   "source": [
    "# 1.24-29-454"
   ]
  },
  {
   "cell_type": "code",
   "execution_count": 25,
   "metadata": {
    "tags": []
   },
   "outputs": [
    {
     "output_type": "stream",
     "name": "stdout",
     "text": "a)\nDu får  6.5 % avslag\nb)\nFørpris er  11111.1\n"
    }
   ],
   "source": [
    "print('a)')\n",
    "konsoll_full_pris = 10345\n",
    "avslag = 672\n",
    "prosent = 100 * avslag / konsoll_full_pris\n",
    "print('Du får ', round(prosent, 1), '% avslag')\n",
    "\n",
    "print('b)')\n",
    "konsoll_tilbud = 8999.99\n",
    "rabatt_prosent_faktor = 1 - 19/100\n",
    "konsoll_førpris = konsoll_tilbud / rabatt_prosent_faktor\n",
    "print('Førpris er ', round(konsoll_førpris, 2))"
   ]
  },
  {
   "cell_type": "markdown",
   "metadata": {},
   "source": [
    "# 1.25-29-454"
   ]
  },
  {
   "cell_type": "code",
   "execution_count": 26,
   "metadata": {
    "tags": []
   },
   "outputs": [
    {
     "output_type": "stream",
     "name": "stdout",
     "text": "a)\nAp fikk 1.9 prosentpoeng lavere oppslutning\nb)\nNedgangen var på 5.1 %\n"
    }
   ],
   "source": [
    "ap = {1993: 36.9, 1997: 35.0}\n",
    "\n",
    "print('a)')\n",
    "prosentpoeng = ap[1993] - ap[1997]\n",
    "print('Ap fikk', round(prosentpoeng, 1), 'prosentpoeng lavere oppslutning')\n",
    "\n",
    "print('b)')\n",
    "prosent_nedgang = 100 * (ap[1993] - ap[1997]) / ap[1993]\n",
    "print('Nedgangen var på', round(prosent_nedgang, 1), '%')"
   ]
  },
  {
   "cell_type": "markdown",
   "metadata": {},
   "source": [
    "# 1.26-29-455"
   ]
  },
  {
   "cell_type": "code",
   "execution_count": 27,
   "metadata": {
    "tags": []
   },
   "outputs": [
    {
     "output_type": "stream",
     "name": "stdout",
     "text": "a)\n13 % av fire kakestykker er mest\nb)\n8/13 av en kake er mest\n"
    }
   ],
   "source": [
    "print('a)')\n",
    "kake_a = 2*0.25\n",
    "kake_b = 4*0.13\n",
    "if kake_a > kake_b:\n",
    "    print('25 % av to kakestykker er mest')\n",
    "else:\n",
    "    print('13 % av fire kakestykker er mest')\n",
    "\n",
    "print('b)')\n",
    "kake_c = 8/13\n",
    "kake_d = 2 * 2/7\n",
    "if kake_c > kake_d:\n",
    "    print('8/13 av en kake er mest')\n",
    "else:\n",
    "    print('2/7 av to kaker er mest')"
   ]
  },
  {
   "cell_type": "markdown",
   "metadata": {},
   "source": [
    "# 1.27-29-455"
   ]
  },
  {
   "cell_type": "code",
   "execution_count": 28,
   "metadata": {
    "tags": []
   },
   "outputs": [
    {
     "output_type": "stream",
     "name": "stdout",
     "text": "1.0 % av tallene under 10000 er kvadrattall\n"
    }
   ],
   "source": [
    "t = 1 # teller\n",
    "k = t**2 # første kvadrattall er 1\n",
    "maks = 10000\n",
    "while k < maks: # så lenge kvadrattallet er under maks, gjør dette\n",
    "    t += 1   # tell denne iterasjonen\n",
    "    k = t**2 # regn ut kvadrattallet\n",
    "\n",
    "p = 100 * t / maks\n",
    "print(p, '% av tallene under', maks, 'er kvadrattall')"
   ]
  },
  {
   "cell_type": "markdown",
   "metadata": {},
   "source": [
    "# 1.28-29-455"
   ]
  },
  {
   "cell_type": "code",
   "execution_count": 53,
   "metadata": {
    "tags": []
   },
   "outputs": [
    {
     "output_type": "stream",
     "name": "stdout",
     "text": "Arealet til det fargelagte området utgjør 18.75 % av hele arealet\n"
    }
   ],
   "source": [
    "# Her er jeg ikke helt enig med fasitsvaret i boka\n",
    "r_1 = 1\n",
    "r_2 = 2\n",
    "r_3 = 3\n",
    "r_4 = 4\n",
    "\n",
    "areal_hele = math.pi * r_4**2\n",
    "areal_1 = math.pi * r_1**2\n",
    "areal_2 = math.pi * r_2**2\n",
    "areal_fargelagt = areal_2 - areal_1\n",
    "\n",
    "prosent_fargelagt = 100 * areal_fargelagt / areal_hele\n",
    "\n",
    "print('Arealet til det fargelagte området utgjør', prosent_fargelagt, '% av hele arealet')"
   ]
  },
  {
   "cell_type": "markdown",
   "metadata": {},
   "source": [
    "# 1.29-33-455"
   ]
  },
  {
   "cell_type": "code",
   "execution_count": 30,
   "metadata": {
    "tags": []
   },
   "outputs": [
    {
     "output_type": "stream",
     "name": "stdout",
     "text": "a )\n1.23\nb )\n1.12\nc )\n1.003\nd )\n0.8\ne )\n0.95\nf )\n2.5\n"
    }
   ],
   "source": [
    "oppgaver = {'a': 23, 'b': 12, 'c': 0.3, 'd': -20, 'e': -5, 'f': 150}\n",
    "\n",
    "for key, val in oppgaver.items():\n",
    "    print(key, ')')\n",
    "    print(1 + val/100)"
   ]
  },
  {
   "cell_type": "markdown",
   "metadata": {},
   "source": [
    "# 1.30-33-455"
   ]
  },
  {
   "cell_type": "code",
   "execution_count": 31,
   "metadata": {
    "tags": []
   },
   "outputs": [
    {
     "output_type": "stream",
     "name": "stdout",
     "text": "a )\nVF 1.050 er 5.0 %\nb )\nVF 1.650 er 65.0 %\nc )\nVF 0.980 er -2.0 %\nd )\nVF 0.993 er -0.7 %\ne )\nVF 0.540 er -46.0 %\nf )\nVF 2.050 er 105.0 %\n"
    }
   ],
   "source": [
    "oppgaver = {'a': 1.05, 'b': 1.65, 'c': 0.98, 'd': 0.993, 'e': 0.54, 'f': 2.05}\n",
    "\n",
    "for key, val in oppgaver.items():\n",
    "    print(key, ')')\n",
    "    prosent = 100*val - 100\n",
    "    print(\"VF {0:.3f} er {1:.1f} %\".format(val, prosent))"
   ]
  },
  {
   "cell_type": "markdown",
   "metadata": {},
   "source": [
    "# 1.31-33-455"
   ]
  },
  {
   "cell_type": "code",
   "execution_count": 32,
   "metadata": {
    "tags": []
   },
   "outputs": [
    {
     "output_type": "stream",
     "name": "stdout",
     "text": "Saldo etter 5 år er 17558.59 kroner\n"
    }
   ],
   "source": [
    "arv = 15000\n",
    "rente = 3.2\n",
    "vf = 1 + rente/100\n",
    "aar = 5\n",
    "saldo = arv * vf**aar\n",
    "print('Saldo etter', aar, 'år er', round(saldo, 2), 'kroner')"
   ]
  },
  {
   "cell_type": "markdown",
   "metadata": {},
   "source": [
    "# 1.32-33-455"
   ]
  },
  {
   "cell_type": "code",
   "execution_count": 33,
   "metadata": {
    "tags": []
   },
   "outputs": [
    {
     "output_type": "stream",
     "name": "stdout",
     "text": "Banken har størst avkastning\n"
    }
   ],
   "source": [
    "aar = 5\n",
    "banken = 3.5**aar \n",
    "fond = 3*7*1*2*4\n",
    "if banken > fond:\n",
    "    print('Banken har størst avkastning')\n",
    "else:\n",
    "    print('Aksjefondet har størst avkastning')"
   ]
  },
  {
   "cell_type": "markdown",
   "metadata": {},
   "source": [
    "# 1.33-33-455"
   ]
  },
  {
   "cell_type": "code",
   "execution_count": 34,
   "metadata": {
    "tags": []
   },
   "outputs": [
    {
     "output_type": "stream",
     "name": "stdout",
     "text": "a)\nBilen er verdt 94113 kroner om fire år\nb)\nBilen var verdt 334702 kroner for fire år siden\nc)\nBilen er verdt 196892 kroner etter fem år\n"
    }
   ],
   "source": [
    "aar = 4\n",
    "opprinnelig = 150000\n",
    "vf = 1 - 11/100\n",
    "verdi = opprinnelig * vf**aar \n",
    "print('a)')\n",
    "print('Bilen er verdt', int(verdi), 'kroner om fire år')\n",
    "\n",
    "verdi = 210000\n",
    "opprinnelig = verdi / vf**aar\n",
    "print('b)')\n",
    "print('Bilen var verdt', int(opprinnelig), 'kroner for fire år siden')\n",
    "\n",
    "verdifall = [20, 14, 13, 12, 11]\n",
    "opprinnelig = 420000\n",
    "verdi = opprinnelig\n",
    "for p in verdifall:\n",
    "    vf = 1 - p/100\n",
    "    verdi = verdi * vf \n",
    "print('c)')\n",
    "print('Bilen er verdt', int(verdi), 'kroner etter fem år')"
   ]
  },
  {
   "cell_type": "markdown",
   "metadata": {},
   "source": [
    "# 1.34-33-455"
   ]
  },
  {
   "cell_type": "code",
   "execution_count": 35,
   "metadata": {
    "tags": []
   },
   "outputs": [
    {
     "output_type": "stream",
     "name": "stdout",
     "text": "a)\nEn vekstfaktor på  2 tilsvarer 100 %\nb)\nSaldoen er dobles etter mellom 17 og 18 år\n"
    }
   ],
   "source": [
    "vf = 2\n",
    "prosent = 100*(vf - 1)\n",
    "print('a)')\n",
    "print('En vekstfaktor på ', vf, 'tilsvarer', prosent, '%') \n",
    "\n",
    "aar = 0\n",
    "saldo = 1\n",
    "vf = 1 + 4/100\n",
    "while saldo < 2:\n",
    "    saldo *= vf \n",
    "    aar += 1\n",
    "print('b)')\n",
    "print('Saldoen er dobles etter mellom', aar-1, 'og', aar, 'år') "
   ]
  },
  {
   "cell_type": "markdown",
   "metadata": {},
   "source": [
    "# 1.35-33-455"
   ]
  },
  {
   "cell_type": "code",
   "execution_count": 36,
   "metadata": {
    "tags": []
   },
   "outputs": [
    {
     "output_type": "stream",
     "name": "stdout",
     "text": "Prisene er like\n"
    }
   ],
   "source": [
    "butikk_a = (1 - 5/100) * (1 + 10/100)\n",
    "butikk_b = (1 + 10/100) * (1 - 5/100)\n",
    "if butikk_a < butikk_b:\n",
    "    print('Butikk a er best')\n",
    "elif butikk_a > butikk_b:\n",
    "    print('Butikk b er best')\n",
    "else:\n",
    "    print('Prisene er like')"
   ]
  },
  {
   "cell_type": "markdown",
   "metadata": {},
   "source": [
    "# 1.36-37-455"
   ]
  },
  {
   "cell_type": "markdown",
   "metadata": {
    "tags": []
   },
   "source": [
    "Et rektangel har areal $A=g \\cdot h$.  Et rektangel kan deles opp i to like store rettvinkla trekanter. Arealet til hver av disse trekantene er da $A = \\frac{1}{2} \\cdot g \\cdot h$. Men hva med en trekant som ikke er rettvinkla? En vilkårlig trekant kan deles opp i to rettvinkla trekanter. Se figurer nedenfor.\n",
    "\n",
    "![title](img/areal-trekant.png)\n",
    "\n",
    "Summerer arealet til de to rettvinkla trekantene for å få arealet til hele trekanten."
   ]
  },
  {
   "cell_type": "code",
   "execution_count": 51,
   "metadata": {
    "tags": []
   },
   "outputs": [
    {
     "output_type": "stream",
     "name": "stdout",
     "text": "A = 0.5*g*x + 0.5*g*y\nA = 0.5*g*(x + y)\nA = 0.5*g*h\nQED\n"
    }
   ],
   "source": [
    "x, y, h, g = sympy.symbols('x, y, h, g')\n",
    "areal_samlet = (1/2)*g*x + (1/2)*g*y\n",
    "print('A =', areal_samlet)\n",
    "areal_samlet = sympy.simplify(areal_samlet) # trekker sammen\n",
    "print('A =', areal_samlet)\n",
    "areal_samlet = areal_samlet.subs(x+y, h) # substituerer x+y med h\n",
    "print('A =', areal_samlet)\n",
    "print('QED')"
   ]
  },
  {
   "cell_type": "markdown",
   "metadata": {},
   "source": []
  },
  {
   "cell_type": "markdown",
   "metadata": {},
   "source": [
    "# 1.37-37-455"
   ]
  },
  {
   "cell_type": "code",
   "execution_count": 38,
   "metadata": {
    "tags": []
   },
   "outputs": [
    {
     "output_type": "stream",
     "name": "stdout",
     "text": "...\n"
    }
   ],
   "source": [
    "print('...')"
   ]
  },
  {
   "cell_type": "markdown",
   "metadata": {},
   "source": [
    "# 1.38-37-455"
   ]
  },
  {
   "cell_type": "code",
   "execution_count": 39,
   "metadata": {
    "tags": []
   },
   "outputs": [
    {
     "output_type": "stream",
     "name": "stdout",
     "text": "...\n"
    }
   ],
   "source": [
    "print('...')"
   ]
  },
  {
   "cell_type": "markdown",
   "metadata": {},
   "source": [
    "# 1.39-37-455"
   ]
  },
  {
   "cell_type": "code",
   "execution_count": 40,
   "metadata": {
    "tags": []
   },
   "outputs": [
    {
     "output_type": "stream",
     "name": "stdout",
     "text": "...\n"
    }
   ],
   "source": [
    "print('...')"
   ]
  },
  {
   "cell_type": "markdown",
   "metadata": {},
   "source": [
    "# 1.40-37-455"
   ]
  },
  {
   "cell_type": "code",
   "execution_count": 41,
   "metadata": {
    "tags": []
   },
   "outputs": [
    {
     "output_type": "stream",
     "name": "stdout",
     "text": "...\n"
    }
   ],
   "source": [
    "print('...')"
   ]
  },
  {
   "cell_type": "markdown",
   "metadata": {},
   "source": [
    "# 1.41-37-455"
   ]
  },
  {
   "cell_type": "code",
   "execution_count": 42,
   "metadata": {
    "tags": []
   },
   "outputs": [
    {
     "output_type": "stream",
     "name": "stdout",
     "text": "...\n"
    }
   ],
   "source": [
    "print('...')"
   ]
  },
  {
   "cell_type": "code",
   "execution_count": null,
   "metadata": {},
   "outputs": [],
   "source": []
  }
 ],
 "metadata": {
  "kernelspec": {
   "display_name": "'Python Interactive'",
   "language": "python",
   "name": "5b04fcaa-ad9a-4294-bfdf-b13551d49d15"
  },
  "language_info": {
   "codemirror_mode": {
    "name": "ipython",
    "version": 3
   },
   "file_extension": ".py",
   "mimetype": "text/x-python",
   "name": "python",
   "nbconvert_exporter": "python",
   "pygments_lexer": "ipython3",
   "version": "3.8.5"
  }
 },
 "nbformat": 4,
 "nbformat_minor": 2
}