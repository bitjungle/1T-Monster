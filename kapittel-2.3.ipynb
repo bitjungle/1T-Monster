{
 "metadata": {
  "language_info": {
   "codemirror_mode": {
    "name": "ipython",
    "version": 3
   },
   "file_extension": ".py",
   "mimetype": "text/x-python",
   "name": "python",
   "nbconvert_exporter": "python",
   "pygments_lexer": "ipython3",
   "version": "3.8.6-final"
  },
  "orig_nbformat": 2,
  "kernelspec": {
   "name": "Python 3.8.6 64-bit",
   "display_name": "Python 3.8.6 64-bit",
   "metadata": {
    "interpreter": {
     "hash": "aee8b7b246df8f9039afb4144a1f6fd8d2ca17a180786b69acc140d282b71a49"
    }
   }
  }
 },
 "nbformat": 4,
 "nbformat_minor": 2,
 "cells": [
  {
   "cell_type": "markdown",
   "metadata": {},
   "source": [
    "# Løsningsforslag til Mønster 1T (2020) - kapittel 2.3\n",
    "\n",
    "&nbsp;&nbsp;&nbsp;&nbsp;&nbsp;[&uparrow; Til kapitteloversikt &uparrow;](index.ipynb)\n",
    "\n",
    "[&larr; forrige kapittel](kapittel-2.2.ipynb) | [neste kapittel &rarr;](kapittel-2.4.ipynb)\n",
    "\n",
    "---\n",
    "\n",
    "Copyright &copy; BITJUNGLE Rune Mathisen<br>\n",
    "This code is licensed under a GPLv3 license<br> \n",
    "See http://www.gnu.org/licenses/gpl-3.0.html\n",
    "\n",
    "---"
   ]
  },
  {
   "cell_type": "code",
   "execution_count": 19,
   "metadata": {},
   "outputs": [],
   "source": [
    "# Importerer bibliotek jeg trenger til løsningsforslaga\n",
    "import sympy\n",
    "\n",
    "sympy.init_printing()"
   ]
  },
  {
   "cell_type": "markdown",
   "metadata": {},
   "source": [
    "# 2.14-81-459"
   ]
  },
  {
   "cell_type": "code",
   "execution_count": 33,
   "metadata": {
    "tags": []
   },
   "outputs": [
    {
     "output_type": "stream",
     "name": "stdout",
     "text": [
      "a)\n(x + 2)**2 - 7\nb)\n(x - 1)**2 + 4\nc)\n(x + 2)**2 - 4\nd)\n(x - 3)**2 + 3\n"
     ]
    }
   ],
   "source": [
    "x = sympy.symbols('x') # Den ukjente i alle uttrykkene nedenfor\n",
    "\n",
    "print('a)')\n",
    "# Gjør litt manuell regning først, finner det fullstendige kvadratet:\n",
    "# x**2 + 4*x - 3 = (x**2 + 4*x + (4/2)**2) - (4/2)**2 - 3 = (x**2 + 4*x + 4) - 7\n",
    "oppg_a = sympy.factor(x**2 + 4*x + 4) # Faktoriserer det fullstendige kvadratet\n",
    "print(oppg_a, '- 7') # Legger til leddet jeg fant i den manuelle utregninga\n",
    "\n",
    "print('b)')\n",
    "# Gjør litt manuell regning først, finner det fullstendige kvadratet:\n",
    "# x**2 - 2*x + 5 = (x**2 - 2*x + (2/2)**2) - (2/2)**2 + 5 = (x**2 - 2*x + 1) + 4\n",
    "oppg_b = sympy.factor(x**2 - 2*x + 1) # Faktoriserer det fullstendige kvadratet\n",
    "print(oppg_b, '+ 4') # Legger til leddet jeg fant i den manuelle utregninga\n",
    "\n",
    "print('c)')\n",
    "# Gjør litt manuell regning først, finner det fullstendige kvadratet:\n",
    "# 3*x**2 + 12*x = 3*((x**2 + 4*x + (4/2)**2) - (4/2)**2) = 3*((x**2 + 4*x + 4) - 4)\n",
    "oppg_c = sympy.factor(x**2 + 4*x + 4) \n",
    "print(oppg_c, '- 4') # Legger til leddet jeg fant i den manuelle utregninga\n",
    "\n",
    "print('d)')\n",
    "# Gjør litt manuell regning først, finner det fullstendige kvadratet:\n",
    "# x**2 - 6*x + 12 = (x**2 - 6*x + (6/2)**2) - (6/2)**2 + 12 = (x**2 - 6*x + 9) + 3\n",
    "oppg_d = sympy.factor(x**2 - 6*x + 9) # Faktoriserer det fullstendige kvadratet\n",
    "print(oppg_d, '+ 3') # Legger til leddet jeg fant i den manuelle utregninga\n"
   ]
  },
  {
   "cell_type": "markdown",
   "metadata": {},
   "source": [
    "# 2.15-81-459"
   ]
  },
  {
   "cell_type": "code",
   "execution_count": 34,
   "metadata": {
    "tags": []
   },
   "outputs": [
    {
     "output_type": "stream",
     "name": "stdout",
     "text": [
      "a)\n 2           \nx  + 8⋅x + 20\nb)\n       2\n(x + 1) \nc)\n   2           \n4⋅x  + 12⋅x + 7\nd)\nx⋅(x + 4)\n"
     ]
    }
   ],
   "source": [
    "# TODO: Mangler automatisk sjekk av om uttrykket kan faktoriseres. \n",
    "x = sympy.symbols('x') # Den ukjente i alle uttrykkene nedenfor\n",
    "\n",
    "print('a)')\n",
    "oppg_a = sympy.factor(x**2 + 8*x + 20)\n",
    "sympy.pprint(oppg_a)\n",
    "\n",
    "print('b)')\n",
    "oppg_b = sympy.factor(x**2 + 2*x + 1)\n",
    "sympy.pprint(oppg_b)\n",
    "\n",
    "print('c)')\n",
    "oppg_c = sympy.factor(4*x**2 + 12*x + 7)\n",
    "sympy.pprint(oppg_c)\n",
    "\n",
    "print('d)')\n",
    "oppg_d = sympy.factor(x**2 + 4*x)\n",
    "sympy.pprint(oppg_d)"
   ]
  },
  {
   "cell_type": "markdown",
   "metadata": {},
   "source": [
    "# 2.16-81-459"
   ]
  },
  {
   "cell_type": "code",
   "execution_count": 35,
   "metadata": {
    "tags": []
   },
   "outputs": [
    {
     "output_type": "stream",
     "name": "stdout",
     "text": [
      "a)\n(x + 2)**2 - 14\nb)\n(2*x - 3)**2/4 - 5/4\nc)\n(x + 4)**2\nd)\n(2*x + 3)**2/2 - 9\n"
     ]
    }
   ],
   "source": [
    "x = sympy.symbols('x') # Den ukjente i alle uttrykkene nedenfor\n",
    "\n",
    "print('a)')\n",
    "# Gjør litt manuell regning først, finner det fullstendige kvadratet:\n",
    "# x**2 + 4*x - 10 = (x**2 + 4*x + (4/2)**2) - (4/2)**2 - 10 = (x**2 + 4*x + 4) - 14\n",
    "oppg_a = sympy.factor(x**2 + 4*x + 4) # Faktoriserer det fullstendige kvadratet\n",
    "print(oppg_a, '- 14') # Legger til leddet jeg fant i den manuelle utregninga\n",
    "\n",
    "print('b)')\n",
    "# Gjør litt manuell regning først, finner det fullstendige kvadratet:\n",
    "# x**2 - 3*x + 1 = (x**2 - 3*x + (3/2)**2) - (3/2)**2 + 1 = (x**2 - 3*x + 9/4) - 5/4\n",
    "oppg_b = sympy.factor(x**2 - 3*x + sympy.Rational(9, 4)) # Faktoriserer det fullstendige kvadratet\n",
    "print(oppg_b, '- 5/4') # Legger til leddet jeg fant i den manuelle utregninga\n",
    "\n",
    "print('c)')\n",
    "# Gjør litt manuell regning først, finner det fullstendige kvadratet:\n",
    "# x**2 + 8*x + 16 = (x**2 + 8*x + (8/2)**2) - (8/2)**2 + 16 = x**2 + 8*x + 16\n",
    "oppg_c = sympy.factor(x**2 + 8*x + 16) # Faktoriserer det fullstendige kvadratet\n",
    "print(oppg_c)\n",
    "\n",
    "print('d)')\n",
    "# Gjør litt manuell regning først, finner det fullstendige kvadratet:\n",
    "# 2*x**2 + 6*x = 2((x**2 + 3*x + (3/2)**2) - (3/2)**2) = 2((x**2 + 3*x + 9/4) - 9/2)\n",
    "oppg_d = sympy.factor(x**2 + 3*x + sympy.Rational(9, 4)) # Faktoriserer det fullstendige kvadratet\n",
    "print(2*oppg_d, '- 9') # Multipliserer med 2, legger til leddet jeg fant i den manuelle utregninga\n"
   ]
  },
  {
   "cell_type": "markdown",
   "metadata": {},
   "source": [
    "# 2.17-81-459"
   ]
  },
  {
   "cell_type": "code",
   "execution_count": 36,
   "metadata": {
    "tags": []
   },
   "outputs": [
    {
     "output_type": "stream",
     "name": "stdout",
     "text": [
      "a)\n(x + 1)**2 + 4\nSer at vi har en minste verdi for x = -1. Da får uttrykket verdien 4.\nb)\n-(x - 3)**2 - 2\nSer at vi har en største verdi for x = 3. Da får uttrykket verdien -2.\nc)\n(3*x + 5)**2 + 5\nSer at vi har en minste verdi for x = -5/3. Da får uttrykket verdien 5.\nd)\n-(x - 2)**2\nSer at vi har en største verdi for x = 2. Da får uttrykket verdien 0.\n"
     ]
    }
   ],
   "source": [
    "x = sympy.symbols('x') # Den ukjente i alle uttrykkene nedenfor\n",
    "\n",
    "print('a)')\n",
    "# Gjør litt manuell regning først, finner det fullstendige kvadratet:\n",
    "# x**2 + 2*x + 5 = (x**2 + 2*x + (2/2)**2) - (2/2)**2 + 5 = (x**2 + 2*x + 1) + 4\n",
    "oppg_a = sympy.factor(x**2 + 2*x + 1) # Faktoriserer det fullstendige kvadratet\n",
    "print(oppg_a, '+ 4') # Legger til leddet jeg fant i den manuelle utregninga\n",
    "print('Ser at vi har en minste verdi for x = -1. Da får uttrykket verdien 4.')\n",
    "\n",
    "print('b)')\n",
    "# Gjør litt manuell regning først, finner det fullstendige kvadratet:\n",
    "# -x**2 + 6*x - 11 = -(x**2 - 6*x + 11) = -((x**2 - 6*x + (6/2)**2) - (6/2)**2 + 11)\n",
    "#                  = -((x**2 - 6*x + 9) + 2)\n",
    "oppg_b = sympy.factor(x**2 - 6*x + 9) # Faktoriserer det fullstendige kvadratet\n",
    "print(-1*oppg_b, '- 2') # Multipliserer med -1, legger til leddet jeg fant i den manuelle utregninga\n",
    "print('Ser at vi har en største verdi for x = 3. Da får uttrykket verdien -2.')\n",
    "\n",
    "print('c)')\n",
    "# Gjør litt manuell regning først, finner det fullstendige kvadratet:\n",
    "# 9*x**2 + 30*x + 30 = 9*(x**2 + 30/9*x + 30/9) \n",
    "#                    = 9*((x**2 + 10/3*x + (10/3/2)**2) - (10/3/2)**2 + 10/3)\n",
    "#                    = 9*((x**2 + 10/3*x + 25/9) + 5/9)\n",
    "oppg_c = sympy.factor(x**2 + sympy.Rational(10, 3)*x + sympy.Rational(25, 9)) # Faktoriserer det fullstendige kvadratet\n",
    "print(9*oppg_c, '+ 5') # Multipliserer med 9, legger til leddet jeg fant i den manuelle utregninga\n",
    "print('Ser at vi har en minste verdi for x = -5/3. Da får uttrykket verdien 5.')\n",
    "\n",
    "print('d)')\n",
    "# Gjør litt manuell regning først, finner det fullstendige kvadratet:\n",
    "# -x**2 + 4*x - 4 = -1(x**2 - 4*x + 4)\n",
    "oppg_d = sympy.factor(x**2 - 4*x + 4) # Faktoriserer det fullstendige kvadratet\n",
    "print(-1*oppg_d) # Multipliserer med -1\n",
    "print('Ser at vi har en største verdi for x = 2. Da får uttrykket verdien 0.')\n"
   ]
  },
  {
   "cell_type": "markdown",
   "metadata": {},
   "source": [
    "# 2.18-81-459"
   ]
  },
  {
   "cell_type": "markdown",
   "metadata": {},
   "source": [
    "Det går an å lage tabeller i Python med et tillegg som heter [pandas](https://pandas.pydata.org/), men det er lite hensiktsmessig når du bare er ute etter å tegn/vise en tabell. Jeg skriver derfor heller inn tabellene direkte.\n",
    "\n",
    "### a)\n",
    "|       |  x  |  3  |\n",
    "|:-----:|:---:|:---:|\n",
    "| **x** |  x² |  3x |\n",
    "| **3** |  3x |  9  |\n",
    "\n",
    "### b)\n",
    "|       |  x  |  -1 |\n",
    "|:-----:|:---:|:---:|\n",
    "| **x** |  x² |  -x |\n",
    "| **-1**|  -x |  1  |\n",
    "\n",
    "### c)\n",
    "|       |  x  |  2  |\n",
    "|:-----:|:---:|:---:|\n",
    "| **x** |  x² |  2x |\n",
    "| **-3**|  -3x|  -6 |\n",
    "\n",
    "### d)\n",
    "|       |  x  |  -4 |\n",
    "|:-----:|:---:|:---:|\n",
    "| **x** |  x² | -4x |\n",
    "| **-4**|  -4x|  16 |\n",
    "\n",
    "### e)\n",
    "|       |  2  |  -x |\n",
    "|:-----:|:---:|:---:|\n",
    "| **x** |  2x | -x² |\n",
    "| **-2**|  -4|   2x |\n"
   ]
  },
  {
   "cell_type": "markdown",
   "metadata": {},
   "source": [
    "# 2.19-81-459"
   ]
  },
  {
   "cell_type": "markdown",
   "metadata": {},
   "source": [
    "..."
   ]
  },
  {
   "cell_type": "markdown",
   "metadata": {},
   "source": [
    "# 2.20-81-459"
   ]
  },
  {
   "cell_type": "markdown",
   "metadata": {},
   "source": [
    "..."
   ]
  },
  {
   "cell_type": "markdown",
   "metadata": {},
   "source": [
    "# 2.21-81-459"
   ]
  },
  {
   "cell_type": "markdown",
   "metadata": {},
   "source": [
    "..."
   ]
  },
  {
   "cell_type": "code",
   "execution_count": null,
   "metadata": {},
   "outputs": [],
   "source": []
  }
 ]
}