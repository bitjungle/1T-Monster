{
 "cells": [
  {
   "cell_type": "markdown",
   "metadata": {},
   "source": [
    "# Løsningsforslag til Mønster 1T (2020) - kapittel 1.5\n",
    "\n",
    "&nbsp;&nbsp;&nbsp;&nbsp;&nbsp;[&uparrow; Til kapitteloversikt &uparrow;](index.ipynb)\n",
    "\n",
    "[&larr; forrige kapittel](kapittel-1.4.ipynb) | [neste kapittel &rarr;](kapittel-1.6.ipynb)\n",
    "\n",
    "---\n",
    "\n",
    "Copyright &copy; BITJUNGLE Rune Mathisen<br>\n",
    "This code is licensed under a GPLv3 license<br> \n",
    "See http://www.gnu.org/licenses/gpl-3.0.html\n",
    "\n",
    "---"
   ]
  },
  {
   "cell_type": "code",
   "execution_count": 1,
   "metadata": {
    "tags": []
   },
   "outputs": [],
   "source": [
    "# Importerer bibliotek jeg trenger til løsningsforslaga\n",
    "import math\n",
    "import matplotlib.pyplot as plt\n",
    "import random\n",
    "import sympy\n",
    "\n",
    "sympy.init_printing()"
   ]
  },
  {
   "cell_type": "markdown",
   "metadata": {},
   "source": [
    "# 1.36-37-455"
   ]
  },
  {
   "cell_type": "markdown",
   "metadata": {
    "tags": []
   },
   "source": [
    "Et rektangel har areal $A=g \\cdot h$.  Et rektangel kan deles opp i to like store rettvinkla trekanter. Arealet til hver av disse trekantene er da $A = \\frac{1}{2} \\cdot g \\cdot h$. Men hva med en trekant som ikke er rettvinkla? En vilkårlig trekant kan deles opp i to rettvinkla trekanter. Se figurer nedenfor.\n",
    "\n",
    "![Rektangel og trekant](img/areal-trekant.png)\n",
    "\n",
    "Summerer arealet til de to rettvinkla trekantene for å få arealet til hele trekanten."
   ]
  },
  {
   "cell_type": "code",
   "execution_count": 2,
   "metadata": {
    "tags": []
   },
   "outputs": [
    {
     "output_type": "stream",
     "name": "stdout",
     "text": [
      "A = 0.5*g*x + 0.5*g*y\nA = 0.5*g*(x + y)\nA = 0.5*g*h\nQED\n"
     ]
    }
   ],
   "source": [
    "x, y, h, g = sympy.symbols('x, y, h, g')\n",
    "areal_samlet = (1/2)*g*x + (1/2)*g*y\n",
    "print('A =', areal_samlet)\n",
    "areal_samlet = sympy.simplify(areal_samlet) # trekker sammen\n",
    "print('A =', areal_samlet)\n",
    "areal_samlet = areal_samlet.subs(x+y, h) # substituerer x+y med h\n",
    "print('A =', areal_samlet)\n",
    "print('QED')"
   ]
  },
  {
   "cell_type": "markdown",
   "metadata": {},
   "source": []
  },
  {
   "cell_type": "markdown",
   "metadata": {},
   "source": [
    "# 1.37-37-455"
   ]
  },
  {
   "cell_type": "code",
   "execution_count": 3,
   "metadata": {
    "tags": []
   },
   "outputs": [
    {
     "output_type": "stream",
     "name": "stdout",
     "text": [
      "...\n"
     ]
    }
   ],
   "source": [
    "print('...')"
   ]
  },
  {
   "cell_type": "markdown",
   "metadata": {},
   "source": [
    "# 1.38-37-455"
   ]
  },
  {
   "cell_type": "code",
   "execution_count": 4,
   "metadata": {
    "tags": []
   },
   "outputs": [
    {
     "output_type": "stream",
     "name": "stdout",
     "text": [
      "...\n"
     ]
    }
   ],
   "source": [
    "print('...')"
   ]
  },
  {
   "cell_type": "markdown",
   "metadata": {},
   "source": [
    "# 1.39-37-455"
   ]
  },
  {
   "cell_type": "code",
   "execution_count": 5,
   "metadata": {
    "tags": []
   },
   "outputs": [
    {
     "output_type": "stream",
     "name": "stdout",
     "text": [
      "...\n"
     ]
    }
   ],
   "source": [
    "print('...')"
   ]
  },
  {
   "cell_type": "markdown",
   "metadata": {},
   "source": [
    "# 1.40-37-455"
   ]
  },
  {
   "cell_type": "code",
   "execution_count": 6,
   "metadata": {
    "tags": []
   },
   "outputs": [
    {
     "output_type": "stream",
     "name": "stdout",
     "text": [
      "...\n"
     ]
    }
   ],
   "source": [
    "print('...')"
   ]
  },
  {
   "cell_type": "markdown",
   "metadata": {},
   "source": [
    "# 1.41-37-455"
   ]
  },
  {
   "cell_type": "code",
   "execution_count": 7,
   "metadata": {
    "tags": []
   },
   "outputs": [
    {
     "output_type": "stream",
     "name": "stdout",
     "text": [
      "a) og b)\nx = 1 , y = 5\nx = 2 , y = 7\nx = 3 , y = 9\nx = 4 , y = 11\nx = 5 , y = 13\nd)\nSummen av de sju første leddene i følgen er 77\ne)\nArealet er 77\n"
     ]
    }
   ],
   "source": [
    "def funk(x):\n",
    "    return 2*x + 3\n",
    "\n",
    "print('a) og b)')\n",
    "summer = 0 # For summering i oppgave d)\n",
    "bredde = 1 # Bredden på rektanglene i oppgave e)\n",
    "areal = 0  # For summering av areal i oppgave e)\n",
    "for x in range(1, 8):\n",
    "    y = funk(x)\n",
    "    summer += y\n",
    "    areal += y*bredde\n",
    "    if x < 6: # Skal bare skrive ut de fem første tallene\n",
    "        print('x =', x, ', y =', y)\n",
    "\n",
    "print('d)')\n",
    "print('Summen av de sju første leddene i følgen er', summer)\n",
    "print('e)')\n",
    "print('Arealet er', areal)"
   ]
  }
 ],
 "metadata": {
  "kernelspec": {
   "name": "python3",
   "display_name": "Python 3.8.6 64-bit",
   "metadata": {
    "interpreter": {
     "hash": "aee8b7b246df8f9039afb4144a1f6fd8d2ca17a180786b69acc140d282b71a49"
    }
   }
  },
  "language_info": {
   "codemirror_mode": {
    "name": "ipython",
    "version": 3
   },
   "file_extension": ".py",
   "mimetype": "text/x-python",
   "name": "python",
   "nbconvert_exporter": "python",
   "pygments_lexer": "ipython3",
   "version": "3.8.6-final"
  }
 },
 "nbformat": 4,
 "nbformat_minor": 2
}