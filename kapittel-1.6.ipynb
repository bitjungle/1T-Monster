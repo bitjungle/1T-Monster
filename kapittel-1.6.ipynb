{
 "cells": [
  {
   "cell_type": "markdown",
   "metadata": {},
   "source": [
    "# Løsningsforslag til Mønster 1T (2020) - kapittel 1.6\n",
    "\n",
    "&nbsp;&nbsp;&nbsp;&nbsp;&nbsp;[&uparrow; Til kapitteloversikt &uparrow;](index.ipynb)\n",
    "\n",
    "[&larr; forrige kapittel](kapittel-1.5.ipynb) | [neste kapittel &rarr;](kapittel-2.1.ipynb)\n",
    "\n",
    "---\n",
    "\n",
    "Copyright &copy; BITJUNGLE Rune Mathisen<br>\n",
    "This code is licensed under a GPLv3 license<br> \n",
    "See http://www.gnu.org/licenses/gpl-3.0.html\n",
    "\n",
    "---"
   ]
  },
  {
   "cell_type": "code",
   "execution_count": 1,
   "metadata": {
    "tags": []
   },
   "outputs": [],
   "source": [
    "# Importerer bibliotek jeg trenger til løsningsforslaga\n",
    "import math\n",
    "import matplotlib.pyplot as plt\n",
    "import random\n",
    "import sympy\n",
    "\n",
    "sympy.init_printing()"
   ]
  },
  {
   "cell_type": "markdown",
   "metadata": {},
   "source": [
    "# 1.42-44-455"
   ]
  },
  {
   "cell_type": "code",
   "execution_count": 2,
   "metadata": {
    "tags": []
   },
   "outputs": [
    {
     "output_type": "stream",
     "name": "stdout",
     "text": [
      "tallene:  [1, 2, 3, 4, 5, 6, 7, 8, 9, 10, 11, 12, 13, 14, 15, 16, 17, 18]\nkvadrattall:  [1, 4, 9, 16, 25]\n1 + 3 = 4\n1 + 8 = 9\n1 + 15 = 16\n2 + 7 = 9\n2 + 14 = 16\n3 + 6 = 9\n3 + 13 = 16\n4 + 5 = 9\n4 + 12 = 16\n5 + 4 = 9\n5 + 11 = 16\n6 + 3 = 9\n6 + 10 = 16\n7 + 2 = 9\n7 + 9 = 16\n7 + 18 = 25\n8 + 17 = 25\n9 + 7 = 16\n9 + 16 = 25\n10 + 6 = 16\n10 + 15 = 25\n11 + 5 = 16\n11 + 14 = 25\n12 + 4 = 16\n12 + 13 = 25\n13 + 3 = 16\n13 + 12 = 25\n14 + 2 = 16\n14 + 11 = 25\n15 + 10 = 25\n16 + 9 = 25\n17 + 8 = 25\n"
     ]
    }
   ],
   "source": [
    "tallene = [n for n in range(1, 19)] # Liste over tallene vi skal bruke\n",
    "print('tallene: ', tallene)\n",
    "kvadrattall = [n*n for n in range(1, 6)] # Alle kvadrattall mindre enn 17+18\n",
    "print('kvadrattall: ', kvadrattall)\n",
    "for i in range(len(tallene)-1):\n",
    "    for k in range(1, len(tallene)):\n",
    "        if i != k: # Vi vil ikke summere tallet med seg selv\n",
    "            tallpar_sum = tallene[i] + tallene[k]\n",
    "            if tallpar_sum in kvadrattall:\n",
    "                print(tallene[i], '+', tallene[k], '=', tallpar_sum)\n",
    "\n"
   ]
  },
  {
   "cell_type": "markdown",
   "metadata": {},
   "source": [
    "# 1.43-44-455"
   ]
  },
  {
   "cell_type": "code",
   "execution_count": 3,
   "metadata": {
    "tags": []
   },
   "outputs": [
    {
     "output_type": "stream",
     "name": "stdout",
     "text": [
      "Jens var 16 år for fire år siden\n"
     ]
    }
   ],
   "source": [
    "# Vi må løse denne likninga: (x - 8) = (x + 4)/2\n",
    "# Bruker Python-biblioteket 'sympy' for å løse likninga. \n",
    "# Det er enklere å løse likninga for hånd \n",
    "# eller eventuelt bruke Geogebra CAS.\n",
    "# Python er ikke så godt egna til symbolsk matematikk.\n",
    "x = sympy.symbols('x')\n",
    "likning = sympy.Eq((x - 8), (x + 4)/2) # Skiller høyre og venstre side med komma\n",
    "svar = sympy.solve(likning)            # Svaret kommer som en liste\n",
    "print('Jens var', svar[0] - 4, 'år for fire år siden')"
   ]
  },
  {
   "cell_type": "markdown",
   "metadata": {},
   "source": [
    "# 1.44-44-455"
   ]
  },
  {
   "cell_type": "code",
   "execution_count": 4,
   "metadata": {
    "tags": []
   },
   "outputs": [
    {
     "output_type": "stream",
     "name": "stdout",
     "text": [
      "...\n"
     ]
    }
   ],
   "source": [
    "print('...')"
   ]
  },
  {
   "cell_type": "markdown",
   "metadata": {},
   "source": [
    "# 1.45-44-455"
   ]
  },
  {
   "cell_type": "code",
   "execution_count": 5,
   "metadata": {
    "tags": []
   },
   "outputs": [
    {
     "output_type": "stream",
     "name": "stdout",
     "text": [
      "Du trenger 5 glass.\n"
     ]
    }
   ],
   "source": [
    "mengde_syltetøy = 4*5/6\n",
    "glass_volum = 2/3\n",
    "glass_antall = mengde_syltetøy // glass_volum # Vi gjør en heltallsdivisjon her\n",
    "if mengde_syltetøy % glass_volum < 1E-9: # Sjekker om vi har en rest fra heltallsdivisjonen\n",
    "    print('Du trenger', int(glass_antall), 'glass.')\n",
    "else: # Vi har en rest, og må bruke et ekstra glass\n",
    "    print('Du trenger', int(glass_antall) + 1, 'glass.')"
   ]
  },
  {
   "cell_type": "markdown",
   "metadata": {
    "tags": []
   },
   "source": [
    "# 1.46-44-455"
   ]
  },
  {
   "cell_type": "code",
   "execution_count": 6,
   "metadata": {
    "tags": []
   },
   "outputs": [
    {
     "output_type": "stream",
     "name": "stdout",
     "text": [
      "0\n1\n-1\n2\n-2\n3\n-3\n4\n-4\n5\n-5\n6\n-6\n7\n-7\n8\n-8\n9\n-9\n"
     ]
    }
   ],
   "source": [
    "maks = 10 # Av praktiske grunner gidder vi ikke å telle lenger enn hit\n",
    "for z in range(maks):\n",
    "    print(z)\n",
    "    if z != 0: # telle negative tall også\n",
    "        print(z * -1)"
   ]
  },
  {
   "cell_type": "markdown",
   "metadata": {},
   "source": [
    "# 1.47-44-455"
   ]
  },
  {
   "cell_type": "code",
   "execution_count": 7,
   "metadata": {
    "tags": []
   },
   "outputs": [
    {
     "output_type": "stream",
     "name": "stdout",
     "text": [
      "Det var for lavt\n",
      "Det var for lavt\n",
      "Det var for lavt\n",
      "Det var for lavt\n",
      "Det var for lavt\n",
      "Det var for høyt\n",
      "Du gjettet riktig!\n"
     ]
    }
   ],
   "source": [
    "hemmelig_tall = random.randint(1, 100)\n",
    "gjettet_tall = -1 # Setter en startverdi som garantert ikke er likt det hemmelige tallet\n",
    "while gjettet_tall != hemmelig_tall:\n",
    "    gjettet_tall = int(input('Gjett et tall mellom 1 og 100: '))\n",
    "    if gjettet_tall < hemmelig_tall:\n",
    "        print('Det var for lavt')\n",
    "    elif gjettet_tall > hemmelig_tall:\n",
    "        print('Det var for høyt')\n",
    "    else:\n",
    "        print('Du gjettet riktig!')"
   ]
  },
  {
   "cell_type": "markdown",
   "metadata": {},
   "source": [
    "# 1.48-44-455"
   ]
  },
  {
   "cell_type": "markdown",
   "metadata": {
    "tags": []
   },
   "source": [
    "![Tallmengder](img/tallmengder.png)\n"
   ]
  },
  {
   "cell_type": "code",
   "execution_count": null,
   "metadata": {},
   "outputs": [],
   "source": []
  }
 ],
 "metadata": {
  "kernelspec": {
   "name": "python3",
   "display_name": "Python 3.8.6 64-bit",
   "metadata": {
    "interpreter": {
     "hash": "aee8b7b246df8f9039afb4144a1f6fd8d2ca17a180786b69acc140d282b71a49"
    }
   }
  },
  "language_info": {
   "codemirror_mode": {
    "name": "ipython",
    "version": 3
   },
   "file_extension": ".py",
   "mimetype": "text/x-python",
   "name": "python",
   "nbconvert_exporter": "python",
   "pygments_lexer": "ipython3",
   "version": "3.8.6-final"
  }
 },
 "nbformat": 4,
 "nbformat_minor": 2
}