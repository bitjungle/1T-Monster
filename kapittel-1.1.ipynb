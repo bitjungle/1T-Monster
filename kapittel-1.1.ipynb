{
 "cells": [
  {
   "cell_type": "markdown",
   "metadata": {},
   "source": [
    "# Løsningsforslag til Mønster 1T (2020) - kapittel 1.1\n",
    "\n",
    "&nbsp;&nbsp;&nbsp;&nbsp;&nbsp;[&uparrow; Til kapitteloversikt &uparrow;](index.ipynb)\n",
    "\n",
    "[&larr; forrige kapittel](index.ipynb) | [neste kapittel &rarr;](kapittel-1.2.ipynb)\n",
    "\n",
    "---\n",
    "\n",
    "Copyright &copy; BITJUNGLE Rune Mathisen<br>\n",
    "This code is licensed under a GPLv3 license<br> \n",
    "See http://www.gnu.org/licenses/gpl-3.0.html\n",
    "\n",
    "---"
   ]
  },
  {
   "cell_type": "code",
   "execution_count": 1,
   "metadata": {
    "tags": []
   },
   "outputs": [],
   "source": [
    "# Importerer bibliotek jeg trenger til løsningsforslaga\n",
    "import math\n",
    "import matplotlib.pyplot as plt\n",
    "import random\n",
    "import sympy\n",
    "\n",
    "sympy.init_printing()"
   ]
  },
  {
   "cell_type": "markdown",
   "metadata": {},
   "source": [
    "# 1.1-16-454"
   ]
  },
  {
   "cell_type": "code",
   "execution_count": 2,
   "metadata": {
    "tags": []
   },
   "outputs": [
    {
     "output_type": "stream",
     "name": "stdout",
     "text": [
      "a)\n23*42 = 966\nb)\n187/8 = 23.375\nc)\n195/11 = 17.727272727272727\nd)\n243/21 = 11.571428571428571\n"
     ]
    }
   ],
   "source": [
    "print(\"a)\")\n",
    "print(\"23*42 =\", 23*42)\n",
    "print(\"b)\")\n",
    "print(\"187/8 =\", 187/8)\n",
    "print(\"c)\")\n",
    "print(\"195/11 =\", 195/11)\n",
    "print(\"d)\")\n",
    "print(\"243/21 =\", 243/21)"
   ]
  },
  {
   "cell_type": "markdown",
   "metadata": {},
   "source": [
    "# 1.2-16-454"
   ]
  },
  {
   "cell_type": "code",
   "execution_count": 3,
   "metadata": {
    "tags": []
   },
   "outputs": [
    {
     "output_type": "stream",
     "name": "stdout",
     "text": [
      "a)\n5*3 + 2*3**2 = 33\nb)\n(-3)**2 + 2*(-1) = 7\nc)\n5 - (3**2 + 1)**2 = -95\nd)\n6*(3 - 2)*(4 - 3**2) = -30\n"
     ]
    }
   ],
   "source": [
    "print(\"a)\")\n",
    "print(\"5*3 + 2*3**2 =\", 5*3 + 2*3**2)\n",
    "print(\"b)\")\n",
    "print(\"(-3)**2 + 2*(-1) =\", (-3)**2 + 2*(-1))\n",
    "print(\"c)\")\n",
    "print(\"5 - (3**2 + 1)**2 =\", 5 - (3**2 + 1)**2)\n",
    "print(\"d)\")\n",
    "print(\"6*(3 - 2)*(4 - 3**2) =\", 6*(3 - 2)*(4 - 3**2))"
   ]
  },
  {
   "cell_type": "markdown",
   "metadata": {},
   "source": [
    "# 1.3-16-454"
   ]
  },
  {
   "cell_type": "code",
   "execution_count": 4,
   "metadata": {
    "tags": []
   },
   "outputs": [
    {
     "output_type": "stream",
     "name": "stdout",
     "text": [
      "a)\n(3 + 2*5**2 - 4)/(3**2 - 1) = 6.125\nb)\n(5 + 3*2**3)/(5**2 * 3 - 11) = 0.453125\nc)\n((-2)**3 + 4*(-1)*4**2)/(-(-3)**2) = 8.0\n"
     ]
    }
   ],
   "source": [
    "print(\"a)\")\n",
    "print(\"(3 + 2*5**2 - 4)/(3**2 - 1) =\", (3 + 2*5**2 - 4)/(3**2 - 1))\n",
    "print(\"b)\")\n",
    "print(\"(5 + 3*2**3)/(5**2 * 3 - 11) =\", (5 + 3*2**3)/(5**2 * 3 - 11))\n",
    "print(\"c)\")\n",
    "print(\"((-2)**3 + 4*(-1)*4**2)/(-(-3)**2) =\", ((-2)**3 + 4*(-1)*4**2)/(-(-3)**2))"
   ]
  },
  {
   "cell_type": "markdown",
   "metadata": {},
   "source": [
    "# 1.4-16-454\n"
   ]
  },
  {
   "cell_type": "code",
   "execution_count": 5,
   "metadata": {
    "tags": []
   },
   "outputs": [
    {
     "output_type": "stream",
     "name": "stdout",
     "text": [
      "a)\n3*x*(5-x) =  -3*x**2 + 15*x\nb)\n(2*x - 1)*4 = 8*x - 4\nc)\n(x + 2)*(3*x + 3) = 3*x**2 + 9*x + 6\nd)\n2*(4*x - 1) + 3 - (4 - x) = 9*x - 3\ne)\n5*(2*x - 1)*(-x + 3) = -10*x**2 + 35*x - 15\n"
     ]
    }
   ],
   "source": [
    "x = sympy.symbols(\"x\")\n",
    "\n",
    "print(\"a)\")\n",
    "print('3*x*(5-x) = ', sympy.expand('3*x*(5-x)'))\n",
    "print(\"b)\")\n",
    "print('(2*x - 1)*4 =', sympy.expand('(2*x - 1)*4'))\n",
    "print(\"c)\")\n",
    "print('(x + 2)*(3*x + 3) =', sympy.expand('(x + 2)*(3*x + 3)'))\n",
    "print(\"d)\")\n",
    "print('2*(4*x - 1) + 3 - (4 - x) =', sympy.expand('2*(4*x - 1) + 3 - (4 - x)'))\n",
    "print(\"e)\")\n",
    "print('5*(2*x - 1)*(-x + 3) =', sympy.expand('5*(2*x - 1)*(-x + 3)'))"
   ]
  },
  {
   "cell_type": "markdown",
   "metadata": {},
   "source": [
    "# 1.5-16-454\n",
    "![Tallmengder](img/tallmengder.png)"
   ]
  },
  {
   "cell_type": "code",
   "execution_count": 6,
   "metadata": {
    "tags": []
   },
   "outputs": [
    {
     "output_type": "stream",
     "name": "stdout",
     "text": [
      "a)\n3 True Z\nb)\n-3 False N\nc)\n3/5 False Z\nd)\n-3/5 True Z\ne)\nsqrt(2) True R\nf) (med litt ekstra...)\npi True R\npi True Q\npi False Z\npi False N\nPå denne datamaskinen kan pi representeres som brøken 884279719003555/281474976710656\n"
     ]
    }
   ],
   "source": [
    "# For å løse denne oppgava lager jeg funksjoner for å teste \n",
    "# om et tall er naturlig, heltall, rasjonalt og reelt. \n",
    "\n",
    "def er_naturlig(x):\n",
    "    '''Naturlige tall N returnerer True'''\n",
    "    if er_heltall(x) and x > 0:\n",
    "        return True \n",
    "    else:\n",
    "        return False \n",
    "\n",
    "def er_heltall(x):\n",
    "    '''Hele tall Z returnerer True'''\n",
    "    if isinstance(x, int):\n",
    "        return True \n",
    "    else:\n",
    "        return False \n",
    "\n",
    "def er_rasjonalt(x):\n",
    "    '''Rasjonale tall Q returnerer True'''\n",
    "    # Siden datamaskiner representerer alle tall med et endelig antall\n",
    "    # desimaler, er det vanskelig å si om et tall er et rasjonalt tall\n",
    "    # eller ei. På datamaskinen klarer vi alltid å representere et tall \n",
    "    # som en brøk x = a/b siden alle tall har et endelig antall desimaler.\n",
    "    return True\n",
    "\n",
    "def er_reelt(x):\n",
    "    '''Reelle tall R returnerer True'''\n",
    "    return isinstance(x, (int, float))\n",
    "\n",
    "print(\"a)\")\n",
    "print(\"3\", er_heltall(3), \"Z\")\n",
    "print(\"b)\")\n",
    "print(\"-3\", er_naturlig(-3), \"N\")\n",
    "print(\"c)\")\n",
    "print(\"3/5\", er_heltall(3/5), \"Z\")\n",
    "print(\"d)\")\n",
    "print(\"-3/5\", er_rasjonalt(-3/5), \"Z\")\n",
    "print(\"e)\")\n",
    "print(\"sqrt(2)\", er_reelt(math.sqrt(2)), \"R\")\n",
    "print(\"f) (med litt ekstra...)\")\n",
    "print(\"pi\", er_reelt(math.pi), \"R\")\n",
    "print(\"pi\", er_rasjonalt(math.pi), \"Q\") # Her vil vi få feil svar\n",
    "print(\"pi\", er_heltall(math.pi), \"Z\")\n",
    "print(\"pi\", er_naturlig(math.pi), \"N\")\n",
    "print(\"På denne datamaskinen kan pi representeres som brøken\", sympy.Rational(math.pi))\n"
   ]
  },
  {
   "cell_type": "markdown",
   "metadata": {},
   "source": [
    "# 1.6-16-454"
   ]
  },
  {
   "cell_type": "code",
   "execution_count": 7,
   "metadata": {
    "tags": []
   },
   "outputs": [
    {
     "output_type": "stream",
     "name": "stdout",
     "text": [
      "usortert\n[0.3333333333333333, 0.25, 8, 6.283185307179586, 0.4166666666666667, -8]\nsortert\n[-8, 0.25, 0.3333333333333333, 0.4166666666666667, 6.283185307179586, 8]\n"
     ]
    }
   ],
   "source": [
    "tall = [1/3, 1/4, 2**3, 2*math.pi, 5/12, (-2)**3]\n",
    "\n",
    "print(\"usortert\")\n",
    "print(tall)\n",
    "print(\"sortert\")\n",
    "print(sorted(tall))"
   ]
  },
  {
   "cell_type": "markdown",
   "metadata": {},
   "source": [
    "# 1.7-16-454"
   ]
  },
  {
   "cell_type": "code",
   "execution_count": 8,
   "metadata": {
    "tags": []
   },
   "outputs": [
    {
     "output_type": "stream",
     "name": "stdout",
     "text": [
      "1 2\n2 4\n3 6\n4 8\n5 10\n6 12\n7 14\n8 16\n9 18\n13 26\n14 28\n15 30\n16 32\n17 34\n18 36\n19 38\n23 46\n27 54\n28 56\n29 58\n31 62\n32 64\n34 68\n35 70\n36 72\n38 76\n39 78\n41 82\n43 86\n45 90\n46 92\n48 96\n52 104\n53 106\n54 108\n64 128\n65 130\n67 134\n69 138\n73 146\n76 152\n78 156\n79 158\n82 164\n85 170\n86 172\n92 184\n93 186\n"
     ]
    }
   ],
   "source": [
    "for x in range(1, 101): # tar for oss talla fra 1 til 100\n",
    "    xx = 2*x\n",
    "    sifre = set(str(x) + str(xx)) # finner antall unike sifre i de to talla\n",
    "    if len(sifre) == (len(str(x)) + len(str(xx))):\n",
    "        # antall sifre i de to talla er lik antall unike sifre\n",
    "        print(x, xx)"
   ]
  },
  {
   "cell_type": "markdown",
   "metadata": {},
   "source": [
    "# 1.8-16-454"
   ]
  },
  {
   "cell_type": "code",
   "execution_count": 9,
   "metadata": {
    "tags": []
   },
   "outputs": [
    {
     "output_type": "stream",
     "name": "stdout",
     "text": [
      "1 [1]\n1 er et perfekt tall\n6 [1, 2, 3]\n6 er et perfekt tall\n28 [1, 2, 4, 7, 14]\n28 er et perfekt tall\n496 [1, 2, 4, 8, 16, 31, 62, 124, 248]\n496 er et perfekt tall\n"
     ]
    }
   ],
   "source": [
    "def divisorer(x):\n",
    "    '''Finner alle divisorer til x og returnerer dem som en liste'''\n",
    "    rmax = x // 2 # finner halvparten av x, runder av ned til nærmeste heltall\n",
    "    d = [1]       # alle tall er delelig på 1, så det legger vi inn uansett\n",
    "    for i in range(2, rmax + 1): # sjekker alle tall fra 2 opp til og med rmax\n",
    "        if x % i == 0:  # er x delelig på tallet i?\n",
    "            d.append(i) # x var delelig på i, vi lagrer i\n",
    "    return d \n",
    "\n",
    "for x in range(1, 1001): # sjekker alle tall fra 1 til 1000\n",
    "    div = divisorer(x)   # finner alle divisorer til det aktuelle tallet\n",
    "    if x == sum(div):    # er summen av divisorene lik tallet?\n",
    "        print(x, div)\n",
    "        print(x, \"er et perfekt tall\")"
   ]
  }
 ],
 "metadata": {
  "kernelspec": {
   "name": "Python 3.8.6 64-bit",
   "display_name": "Python 3.8.6 64-bit",
   "metadata": {
    "interpreter": {
     "hash": "aee8b7b246df8f9039afb4144a1f6fd8d2ca17a180786b69acc140d282b71a49"
    }
   }
  },
  "language_info": {
   "codemirror_mode": {
    "name": "ipython",
    "version": 3
   },
   "file_extension": ".py",
   "mimetype": "text/x-python",
   "name": "python",
   "nbconvert_exporter": "python",
   "pygments_lexer": "ipython3",
   "version": "3.8.6-final"
  }
 },
 "nbformat": 4,
 "nbformat_minor": 2
}