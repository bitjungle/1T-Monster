{
 "cells": [
  {
   "cell_type": "markdown",
   "metadata": {},
   "source": [
    "# Løsningsforslag til Mønster 1T\n",
    "Dette er løsningsforslag til oppgavene i boka Mønster matematikk 1T (Gyldendal, 2020). Alle løsningforslaga er laget i Python. Ikke fordi det nødvendigvis alltid er det mest hensiktsmessige verktøyet, men fordi jeg hadde lyst til å vise at det var mulig.\n",
    "\n",
    "I løsningforslaga har jeg lagt vekt på å skrive kode som (forhåpentligvis) er enkel å forstå. Dersom du har forslag til forbedring av løsningsforslaga, så husk at lesbarhet er viktigere enn effektiv og elegant programkode.\n",
    "\n",
    "Er du elev, og synes at noen av løsningsforslaga er vanskelig å forstå? Du har helt rett, flere av løsningsforslaga krever en del erfaring med programmering. Er du interessert nok, og jobber litt med programmering hver dag, så kommer forståelsen etterhvert.\n",
    "\n",
    "Det er bare oppgavene som er gitt etter hvert avsnitt i boka som er løst her. Jeg har ikke løst oppgavesamlingene som er på slutten av hvert kapittel. Overskriftene nedenfor viser til: oppgavenummer-sidenummer-fasitsidenummer. \n",
    "\n",
    "---\n",
    "\n",
    "Copyright &copy; BITJUNGLE Rune Mathisen<br>\n",
    "This code is licensed under a GPLv3 license<br> \n",
    "See http://www.gnu.org/licenses/gpl-3.0.html\n",
    "\n",
    "---"
   ]
  },
  {
   "source": [
    "## Sideoversikt\n",
    "\n",
    "* Kapittel 1\n",
    "  * [1.1](kapittel-1.1.ipynb)\n",
    "  * [1.2](kapittel-1.2.ipynb)\n",
    "  * [1.3](kapittel-1.3.ipynb)\n",
    "  * [1.4](kapittel-1.4.ipynb)\n",
    "  * [1.5](kapittel-1.5.ipynb)\n",
    "  * [1.6](kapittel-1.6.ipynb)\n",
    "* [Kapittel 2]((kapittel-01.ipynb))\n",
    "* Kapittel 3\n",
    "  * [3.1](kapittel-3.1.ipynb)\n",
    "  * [3.2](kapittel-3.2.ipynb)\n",
    "  * [3.3](kapittel-3.3.ipynb)\n",
    "  * [3.4](kapittel-3.4.ipynb)\n",
    "  * [3.5](kapittel-3.5.ipynb)\n",
    "  * [3.6](kapittel-3.6.ipynb)\n",
    "  * [3.7](kapittel-3.7.ipynb)\n",
    "  * [3.8](kapittel-3.8.ipynb)\n"
   ],
   "cell_type": "markdown",
   "metadata": {}
  },
  {
   "source": [
    "## Tips og triks"
   ],
   "cell_type": "markdown",
   "metadata": {}
  },
  {
   "cell_type": "code",
   "execution_count": 1,
   "metadata": {
    "tags": []
   },
   "outputs": [],
   "source": [
    "# Importerer bibliotek jeg trenger til løsningsforslaga\n",
    "import math\n",
    "import matplotlib.pyplot as plt\n",
    "import random\n",
    "import sympy\n",
    "\n",
    "sympy.init_printing()"
   ]
  },
  {
   "cell_type": "code",
   "execution_count": null,
   "metadata": {},
   "outputs": [],
   "source": []
  }
 ],
 "metadata": {
  "kernelspec": {
   "name": "Python 3.8.6 64-bit",
   "display_name": "Python 3.8.6 64-bit",
   "metadata": {
    "interpreter": {
     "hash": "aee8b7b246df8f9039afb4144a1f6fd8d2ca17a180786b69acc140d282b71a49"
    }
   }
  },
  "language_info": {
   "codemirror_mode": {
    "name": "ipython",
    "version": 3
   },
   "file_extension": ".py",
   "mimetype": "text/x-python",
   "name": "python",
   "nbconvert_exporter": "python",
   "pygments_lexer": "ipython3",
   "version": "3.8.6-final"
  }
 },
 "nbformat": 4,
 "nbformat_minor": 2
}