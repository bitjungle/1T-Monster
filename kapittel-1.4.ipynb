{
 "cells": [
  {
   "cell_type": "markdown",
   "metadata": {},
   "source": [
    "# Løsningsforslag til Mønster 1T (2020) - kapittel 1.4\n",
    "\n",
    "&nbsp;&nbsp;&nbsp;&nbsp;&nbsp;[&uparrow; Til kapitteloversikt &uparrow;](index.ipynb)\n",
    "\n",
    "[&larr; forrige kapittel](kapittel-1.3.ipynb) | [neste kapittel &rarr;](kapittel-1.5.ipynb)\n",
    "\n",
    "---\n",
    "\n",
    "Copyright &copy; BITJUNGLE Rune Mathisen<br>\n",
    "This code is licensed under a GPLv3 license<br> \n",
    "See http://www.gnu.org/licenses/gpl-3.0.html\n",
    "\n",
    "---"
   ]
  },
  {
   "cell_type": "code",
   "execution_count": 1,
   "metadata": {
    "tags": []
   },
   "outputs": [],
   "source": [
    "# Importerer bibliotek jeg trenger til løsningsforslaga\n",
    "import math\n",
    "import matplotlib.pyplot as plt\n",
    "import random\n",
    "import sympy\n",
    "\n",
    "sympy.init_printing()"
   ]
  },
  {
   "cell_type": "markdown",
   "metadata": {},
   "source": [
    "# 1.29-33-455"
   ]
  },
  {
   "cell_type": "code",
   "execution_count": 2,
   "metadata": {
    "tags": []
   },
   "outputs": [
    {
     "output_type": "stream",
     "name": "stdout",
     "text": [
      "a )\n1.23\nb )\n1.12\nc )\n1.003\nd )\n0.8\ne )\n0.95\nf )\n2.5\n"
     ]
    }
   ],
   "source": [
    "oppgaver = {'a': 23, 'b': 12, 'c': 0.3, 'd': -20, 'e': -5, 'f': 150}\n",
    "\n",
    "for key, val in oppgaver.items():\n",
    "    print(key, ')')\n",
    "    print(1 + val/100)"
   ]
  },
  {
   "cell_type": "markdown",
   "metadata": {},
   "source": [
    "# 1.30-33-455"
   ]
  },
  {
   "cell_type": "code",
   "execution_count": 3,
   "metadata": {
    "tags": []
   },
   "outputs": [
    {
     "output_type": "stream",
     "name": "stdout",
     "text": [
      "a )\nVF 1.050 er 5.0 %\nb )\nVF 1.650 er 65.0 %\nc )\nVF 0.980 er -2.0 %\nd )\nVF 0.993 er -0.7 %\ne )\nVF 0.540 er -46.0 %\nf )\nVF 2.050 er 105.0 %\n"
     ]
    }
   ],
   "source": [
    "oppgaver = {'a': 1.05, 'b': 1.65, 'c': 0.98, 'd': 0.993, 'e': 0.54, 'f': 2.05}\n",
    "\n",
    "for key, val in oppgaver.items():\n",
    "    print(key, ')')\n",
    "    prosent = 100*val - 100\n",
    "    print(\"VF {0:.3f} er {1:.1f} %\".format(val, prosent))"
   ]
  },
  {
   "cell_type": "markdown",
   "metadata": {},
   "source": [
    "# 1.31-33-455"
   ]
  },
  {
   "cell_type": "code",
   "execution_count": 4,
   "metadata": {
    "tags": []
   },
   "outputs": [
    {
     "output_type": "stream",
     "name": "stdout",
     "text": [
      "Saldo etter 5 år er 17558.59 kroner\n"
     ]
    }
   ],
   "source": [
    "arv = 15000\n",
    "rente = 3.2\n",
    "vf = 1 + rente/100\n",
    "aar = 5\n",
    "saldo = arv * vf**aar\n",
    "print('Saldo etter', aar, 'år er', round(saldo, 2), 'kroner')"
   ]
  },
  {
   "cell_type": "markdown",
   "metadata": {},
   "source": [
    "# 1.32-33-455"
   ]
  },
  {
   "cell_type": "code",
   "execution_count": 5,
   "metadata": {
    "tags": []
   },
   "outputs": [
    {
     "output_type": "stream",
     "name": "stdout",
     "text": [
      "Banken har størst avkastning\n"
     ]
    }
   ],
   "source": [
    "aar = 5\n",
    "banken = 3.5**aar \n",
    "fond = 3*7*1*2*4\n",
    "if banken > fond:\n",
    "    print('Banken har størst avkastning')\n",
    "else:\n",
    "    print('Aksjefondet har størst avkastning')"
   ]
  },
  {
   "cell_type": "markdown",
   "metadata": {},
   "source": [
    "# 1.33-33-455"
   ]
  },
  {
   "cell_type": "code",
   "execution_count": 6,
   "metadata": {
    "tags": []
   },
   "outputs": [
    {
     "output_type": "stream",
     "name": "stdout",
     "text": [
      "a)\nBilen er verdt 94113 kroner om fire år\nb)\nBilen var verdt 334702 kroner for fire år siden\nc)\nBilen er verdt 196892 kroner etter fem år\n"
     ]
    }
   ],
   "source": [
    "aar = 4\n",
    "opprinnelig = 150000\n",
    "vf = 1 - 11/100\n",
    "verdi = opprinnelig * vf**aar \n",
    "print('a)')\n",
    "print('Bilen er verdt', int(verdi), 'kroner om fire år')\n",
    "\n",
    "verdi = 210000\n",
    "opprinnelig = verdi / vf**aar\n",
    "print('b)')\n",
    "print('Bilen var verdt', int(opprinnelig), 'kroner for fire år siden')\n",
    "\n",
    "verdifall = [20, 14, 13, 12, 11]\n",
    "opprinnelig = 420000\n",
    "verdi = opprinnelig\n",
    "for p in verdifall:\n",
    "    vf = 1 - p/100\n",
    "    verdi = verdi * vf \n",
    "print('c)')\n",
    "print('Bilen er verdt', int(verdi), 'kroner etter fem år')"
   ]
  },
  {
   "cell_type": "markdown",
   "metadata": {},
   "source": [
    "# 1.34-33-455"
   ]
  },
  {
   "cell_type": "code",
   "execution_count": 7,
   "metadata": {
    "tags": []
   },
   "outputs": [
    {
     "output_type": "stream",
     "name": "stdout",
     "text": [
      "a)\nEn vekstfaktor på  2 tilsvarer 100 %\nb)\nSaldoen er dobles etter mellom 17 og 18 år\n"
     ]
    }
   ],
   "source": [
    "vf = 2\n",
    "prosent = 100*(vf - 1)\n",
    "print('a)')\n",
    "print('En vekstfaktor på ', vf, 'tilsvarer', prosent, '%') \n",
    "\n",
    "aar = 0\n",
    "saldo = 1\n",
    "vf = 1 + 4/100\n",
    "while saldo < 2:\n",
    "    saldo *= vf \n",
    "    aar += 1\n",
    "print('b)')\n",
    "print('Saldoen er dobles etter mellom', aar-1, 'og', aar, 'år') "
   ]
  },
  {
   "cell_type": "markdown",
   "metadata": {},
   "source": [
    "# 1.35-33-455"
   ]
  },
  {
   "cell_type": "code",
   "execution_count": 8,
   "metadata": {
    "tags": []
   },
   "outputs": [
    {
     "output_type": "stream",
     "name": "stdout",
     "text": [
      "Prisene er like\n"
     ]
    }
   ],
   "source": [
    "butikk_a = (1 - 5/100) * (1 + 10/100)\n",
    "butikk_b = (1 + 10/100) * (1 - 5/100)\n",
    "if butikk_a < butikk_b:\n",
    "    print('Butikk a er best')\n",
    "elif butikk_a > butikk_b:\n",
    "    print('Butikk b er best')\n",
    "else:\n",
    "    print('Prisene er like')"
   ]
  }
 ],
 "metadata": {
  "kernelspec": {
   "name": "python3",
   "display_name": "Python 3.8.6 64-bit",
   "metadata": {
    "interpreter": {
     "hash": "aee8b7b246df8f9039afb4144a1f6fd8d2ca17a180786b69acc140d282b71a49"
    }
   }
  },
  "language_info": {
   "codemirror_mode": {
    "name": "ipython",
    "version": 3
   },
   "file_extension": ".py",
   "mimetype": "text/x-python",
   "name": "python",
   "nbconvert_exporter": "python",
   "pygments_lexer": "ipython3",
   "version": "3.8.6-final"
  }
 },
 "nbformat": 4,
 "nbformat_minor": 2
}