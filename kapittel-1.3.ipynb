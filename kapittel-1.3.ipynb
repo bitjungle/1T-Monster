{
 "cells": [
  {
   "cell_type": "markdown",
   "metadata": {},
   "source": [
    "# Løsningsforslag til Mønster 1T (2020) - kapittel 1.3\n",
    "\n",
    "&nbsp;&nbsp;&nbsp;&nbsp;&nbsp;[&uparrow; Til kapitteloversikt &uparrow;](index.ipynb)\n",
    "\n",
    "[&larr; forrige kapittel](kapittel-1.2.ipynb) | [neste kapittel &rarr;](kapittel-1.4.ipynb)\n",
    "\n",
    "---\n",
    "\n",
    "Copyright &copy; BITJUNGLE Rune Mathisen<br>\n",
    "This code is licensed under a GPLv3 license<br> \n",
    "See http://www.gnu.org/licenses/gpl-3.0.html\n",
    "\n",
    "---"
   ]
  },
  {
   "cell_type": "code",
   "execution_count": 1,
   "metadata": {
    "tags": []
   },
   "outputs": [],
   "source": [
    "# Importerer bibliotek jeg trenger til løsningsforslaga\n",
    "import math\n",
    "import matplotlib.pyplot as plt\n",
    "import random\n",
    "import sympy\n",
    "\n",
    "sympy.init_printing()"
   ]
  },
  {
   "cell_type": "markdown",
   "metadata": {},
   "source": [
    "# 1.20-29-454"
   ]
  },
  {
   "cell_type": "code",
   "execution_count": 2,
   "metadata": {
    "tags": []
   },
   "outputs": [
    {
     "output_type": "stream",
     "name": "stdout",
     "text": [
      "24.1  % av elevene er glade i styrketrening\n"
     ]
    }
   ],
   "source": [
    "elever_i_klassen = 29\n",
    "glad_i_styrke = 7\n",
    "prosent = 100 * glad_i_styrke / elever_i_klassen\n",
    "print(round(prosent, 1), ' % av elevene er glade i styrketrening')"
   ]
  },
  {
   "cell_type": "markdown",
   "metadata": {},
   "source": [
    "# 1.21-29-454"
   ]
  },
  {
   "cell_type": "code",
   "execution_count": 3,
   "metadata": {
    "tags": []
   },
   "outputs": [
    {
     "output_type": "stream",
     "name": "stdout",
     "text": [
      "a)\nNedsatt med 30 %: 2800.0\nb)\nØkt med 30 % igjen: 3640.0\n"
     ]
    }
   ],
   "source": [
    "pris_opprinnelig = 4000\n",
    "pris_ned = pris_opprinnelig * (1 - 0.3)\n",
    "pris_opp = pris_ned * (1 + 0.3)\n",
    "\n",
    "print('a)')\n",
    "print('Nedsatt med 30 %:', pris_ned)\n",
    "print('b)')\n",
    "print('Økt med 30 % igjen:', pris_opp)"
   ]
  },
  {
   "cell_type": "markdown",
   "metadata": {},
   "source": [
    "# 1.22-29-454"
   ]
  },
  {
   "cell_type": "code",
   "execution_count": 4,
   "metadata": {
    "tags": []
   },
   "outputs": [
    {
     "output_type": "stream",
     "name": "stdout",
     "text": [
      "Sekken kostet opprinnelig  3000.0 kr\n"
     ]
    }
   ],
   "source": [
    "rabatt_faktor = 0.15\n",
    "rabatt_sum = 450\n",
    "# rabatt_sum = opprinnelig * rabatt_faktor\n",
    "opprinnelig = rabatt_sum / rabatt_faktor\n",
    "print('Sekken kostet opprinnelig ', opprinnelig, 'kr')"
   ]
  },
  {
   "cell_type": "markdown",
   "metadata": {},
   "source": [
    "# 1.23-29-454"
   ]
  },
  {
   "cell_type": "code",
   "execution_count": 5,
   "metadata": {
    "tags": []
   },
   "outputs": [
    {
     "output_type": "stream",
     "name": "stdout",
     "text": [
      "a)\nEmbrik er  6.8 % høyere enn Sevat\nb)\nSevat er  6.4 % lavere enn Embrik\n"
     ]
    }
   ],
   "source": [
    "embrik = 188\n",
    "sevat = 176\n",
    "diff = embrik - sevat\n",
    "\n",
    "print('a)')\n",
    "p_es = 100 * diff / sevat\n",
    "print('Embrik er ', round(p_es, 1), '% høyere enn Sevat')\n",
    "\n",
    "print('b)')\n",
    "p_se = 100 * diff / embrik\n",
    "print('Sevat er ', round(p_se, 1), '% lavere enn Embrik')"
   ]
  },
  {
   "cell_type": "markdown",
   "metadata": {},
   "source": [
    "# 1.24-29-454"
   ]
  },
  {
   "cell_type": "code",
   "execution_count": 6,
   "metadata": {
    "tags": []
   },
   "outputs": [
    {
     "output_type": "stream",
     "name": "stdout",
     "text": [
      "a)\nDu får  6.5 % avslag\nb)\nFørpris er  11111.1\n"
     ]
    }
   ],
   "source": [
    "print('a)')\n",
    "konsoll_full_pris = 10345\n",
    "avslag = 672\n",
    "prosent = 100 * avslag / konsoll_full_pris\n",
    "print('Du får ', round(prosent, 1), '% avslag')\n",
    "\n",
    "print('b)')\n",
    "konsoll_tilbud = 8999.99\n",
    "rabatt_prosent_faktor = 1 - 19/100\n",
    "konsoll_førpris = konsoll_tilbud / rabatt_prosent_faktor\n",
    "print('Førpris er ', round(konsoll_førpris, 2))"
   ]
  },
  {
   "cell_type": "markdown",
   "metadata": {},
   "source": [
    "# 1.25-29-454"
   ]
  },
  {
   "cell_type": "code",
   "execution_count": 7,
   "metadata": {
    "tags": []
   },
   "outputs": [
    {
     "output_type": "stream",
     "name": "stdout",
     "text": [
      "a)\nAp fikk 1.9 prosentpoeng lavere oppslutning\nb)\nNedgangen var på 5.1 %\n"
     ]
    }
   ],
   "source": [
    "ap = {1993: 36.9, 1997: 35.0}\n",
    "\n",
    "print('a)')\n",
    "prosentpoeng = ap[1993] - ap[1997]\n",
    "print('Ap fikk', round(prosentpoeng, 1), 'prosentpoeng lavere oppslutning')\n",
    "\n",
    "print('b)')\n",
    "prosent_nedgang = 100 * (ap[1993] - ap[1997]) / ap[1993]\n",
    "print('Nedgangen var på', round(prosent_nedgang, 1), '%')"
   ]
  },
  {
   "cell_type": "markdown",
   "metadata": {},
   "source": [
    "# 1.26-29-455"
   ]
  },
  {
   "cell_type": "code",
   "execution_count": 8,
   "metadata": {
    "tags": []
   },
   "outputs": [
    {
     "output_type": "stream",
     "name": "stdout",
     "text": [
      "a)\n13 % av fire kakestykker er mest\nb)\n8/13 av en kake er mest\n"
     ]
    }
   ],
   "source": [
    "print('a)')\n",
    "kake_a = 2*0.25\n",
    "kake_b = 4*0.13\n",
    "if kake_a > kake_b:\n",
    "    print('25 % av to kakestykker er mest')\n",
    "else:\n",
    "    print('13 % av fire kakestykker er mest')\n",
    "\n",
    "print('b)')\n",
    "kake_c = 8/13\n",
    "kake_d = 2 * 2/7\n",
    "if kake_c > kake_d:\n",
    "    print('8/13 av en kake er mest')\n",
    "else:\n",
    "    print('2/7 av to kaker er mest')"
   ]
  },
  {
   "cell_type": "markdown",
   "metadata": {},
   "source": [
    "# 1.27-29-455"
   ]
  },
  {
   "cell_type": "code",
   "execution_count": 9,
   "metadata": {
    "tags": []
   },
   "outputs": [
    {
     "output_type": "stream",
     "name": "stdout",
     "text": [
      "1.0 % av tallene under 10000 er kvadrattall\n"
     ]
    }
   ],
   "source": [
    "t = 1 # teller\n",
    "k = t**2 # første kvadrattall er 1\n",
    "maks = 10000\n",
    "while k < maks: # så lenge kvadrattallet er under maks, gjør dette\n",
    "    t += 1   # tell denne iterasjonen\n",
    "    k = t**2 # regn ut kvadrattallet\n",
    "\n",
    "p = 100 * t / maks\n",
    "print(p, '% av tallene under', maks, 'er kvadrattall')"
   ]
  },
  {
   "cell_type": "markdown",
   "metadata": {},
   "source": [
    "# 1.28-29-455"
   ]
  },
  {
   "cell_type": "code",
   "execution_count": 10,
   "metadata": {
    "tags": []
   },
   "outputs": [
    {
     "output_type": "stream",
     "name": "stdout",
     "text": [
      "Arealet til det fargelagte området utgjør 18.75 % av hele arealet\n"
     ]
    }
   ],
   "source": [
    "# Her er jeg ikke helt enig med fasitsvaret i boka\n",
    "r_1 = 1\n",
    "r_2 = 2\n",
    "r_3 = 3\n",
    "r_4 = 4\n",
    "\n",
    "areal_hele = math.pi * r_4**2\n",
    "areal_1 = math.pi * r_1**2\n",
    "areal_2 = math.pi * r_2**2\n",
    "areal_fargelagt = areal_2 - areal_1\n",
    "\n",
    "prosent_fargelagt = 100 * areal_fargelagt / areal_hele\n",
    "\n",
    "print('Arealet til det fargelagte området utgjør', prosent_fargelagt, '% av hele arealet')"
   ]
  }
 ],
 "metadata": {
  "kernelspec": {
   "name": "python3",
   "display_name": "Python 3.8.6 64-bit",
   "metadata": {
    "interpreter": {
     "hash": "aee8b7b246df8f9039afb4144a1f6fd8d2ca17a180786b69acc140d282b71a49"
    }
   }
  },
  "language_info": {
   "codemirror_mode": {
    "name": "ipython",
    "version": 3
   },
   "file_extension": ".py",
   "mimetype": "text/x-python",
   "name": "python",
   "nbconvert_exporter": "python",
   "pygments_lexer": "ipython3",
   "version": "3.8.6-final"
  }
 },
 "nbformat": 4,
 "nbformat_minor": 2
}