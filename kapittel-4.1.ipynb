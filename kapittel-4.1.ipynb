{
 "metadata": {
  "language_info": {
   "codemirror_mode": {
    "name": "ipython",
    "version": 3
   },
   "file_extension": ".py",
   "mimetype": "text/x-python",
   "name": "python",
   "nbconvert_exporter": "python",
   "pygments_lexer": "ipython3",
   "version": "3.8.6-final"
  },
  "orig_nbformat": 2,
  "kernelspec": {
   "name": "python3",
   "display_name": "Python 3.8.6 64-bit",
   "metadata": {
    "interpreter": {
     "hash": "aee8b7b246df8f9039afb4144a1f6fd8d2ca17a180786b69acc140d282b71a49"
    }
   }
  }
 },
 "nbformat": 4,
 "nbformat_minor": 2,
 "cells": [
  {
   "source": [
    "# Løsningsforslag til Mønster 1T (2020) - kapittel 4.1\n",
    "\n",
    "&nbsp;&nbsp;&nbsp;&nbsp;&nbsp;[&uparrow; Til kapitteloversikt &uparrow;](index.ipynb)\n",
    "\n",
    "[&larr; forrige kapittel](kapittel-3.8.ipynb) | [neste kapittel &rarr;](kapittel-4.2.ipynb)\n",
    "\n",
    "---\n",
    "\n",
    "Copyright &copy; BITJUNGLE Rune Mathisen<br>\n",
    "This code is licensed under a GPLv3 license<br> \n",
    "See http://www.gnu.org/licenses/gpl-3.0.html\n",
    "\n",
    "---"
   ],
   "cell_type": "markdown",
   "metadata": {}
  },
  {
   "cell_type": "code",
   "execution_count": 4,
   "metadata": {},
   "outputs": [],
   "source": [
    "# Importerer bibliotek jeg trenger til løsningsforslaga\n",
    "import math\n",
    "import matplotlib.pyplot as plt\n",
    "import numpy as np\n"
   ]
  },
  {
   "source": [
    "# 4.1-230-474"
   ],
   "cell_type": "markdown",
   "metadata": {}
  },
  {
   "cell_type": "code",
   "execution_count": 5,
   "metadata": {},
   "outputs": [
    {
     "output_type": "execute_result",
     "data": {
      "text/plain": [
       "4"
      ]
     },
     "metadata": {},
     "execution_count": 5
    }
   ],
   "source": [
    "2+2"
   ]
  },
  {
   "source": [
    "# 4.2-230-474"
   ],
   "cell_type": "markdown",
   "metadata": {}
  },
  {
   "cell_type": "code",
   "execution_count": 11,
   "metadata": {},
   "outputs": [
    {
     "output_type": "stream",
     "name": "stdout",
     "text": [
      "a)\nDivisjonen går ikke opp\n(array([1., 1.]), array([0.]))\nb)\nKoeffisienter i svaret:  [ 1. -1.]\n"
     ]
    }
   ],
   "source": [
    "print('a)')\n",
    "# (x**2 + 2x + 1) : (x + 1)\n",
    "dividend = np.array([1, 2, 1])\n",
    "divisor = np.array([1, 1])\n",
    "svar = np.polydiv(dividend, divisor)\n",
    "if svar[1] == 0: # Divisjonen går opp\n",
    "    print('Koeffisienter i svaret: ', svar[0])\n",
    "else:\n",
    "    print('Divisjonen går ikke opp')\n",
    "    print(svar)\n",
    "\n",
    "print('b)')\n",
    "# (x**2 - 2x + 1) : (x - 1)\n",
    "dividend = np.array([1, -2, 1])\n",
    "divisor = np.array([1, -1])\n",
    "svar = np.polydiv(dividend, divisor)\n",
    "if svar[1] == 0: # Divisjonen går opp\n",
    "    print(\"Koeffisienter i svaret: \", svar[0])\n",
    "else:\n",
    "    print('Divisjonen går ikke opp')\n",
    "    print(svar)\n"
   ]
  },
  {
   "cell_type": "code",
   "execution_count": null,
   "metadata": {},
   "outputs": [],
   "source": []
  }
 ]
}